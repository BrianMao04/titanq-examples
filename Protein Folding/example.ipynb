{
 "cells": [
  {
   "cell_type": "code",
   "execution_count": null,
   "metadata": {},
   "outputs": [],
   "source": [
    "# Copyright (c) 2024, InfinityQ Technology Inc.\n",
    "\n",
    "import numpy as np\n",
    "from titanq import Model, Vtype, Target, S3Storage\n",
    "import utils\n",
    "from collections import defaultdict\n",
    "import logging\n",
    "\n",
    "import sys\n",
    "sys.path.append(\"quantum-protein-folding/src\")\n",
    "\n",
    "from protein_folding.interactions.miyazawa_jernigan_interaction import MiyazawaJerniganInteraction\n",
    "from protein_folding.peptide.peptide import Peptide\n",
    "from protein_folding.protein_folding_problem import (\n",
    "    ProteinFoldingProblem,\n",
    ")\n",
    "from protein_folding.penalty_parameters import PenaltyParameters\n",
    "from protein_folding.protein_folding_result import ProteinFoldingResult\n",
    "from qiskit.opflow import PauliSumOp"
   ]
  },
  {
   "cell_type": "markdown",
   "metadata": {},
   "source": [
    "### Setting Credentials for TitanQ\n",
    "The user should configure their TitanQ API key here. For very large problems, the user must also configure an AWS Access key, AWS Secret Access key and AWS Bucket Name."
   ]
  },
  {
   "cell_type": "code",
   "execution_count": null,
   "metadata": {},
   "outputs": [],
   "source": [
    "logging.getLogger('botocore').setLevel(logging.CRITICAL)\n",
    "logging.getLogger('urllib3').setLevel(logging.CRITICAL)\n",
    "\n",
    "# Enter your API key here\n",
    "# Obtain your API key by contacting --> support@infinityq.tech\n",
    "# Example: TITANQ_DEV_API_KEY = \"00000000-0000-0000-0000-000000000000\"\n",
    "TITANQ_DEV_API_KEY = None\n",
    "\n",
    "# Specify AWS keys and bucket name for solving very large problems\n",
    "# AWS_ACCESS_KEY = \"Access Key\"\n",
    "# AWS_SECRET_ACCESS_KEY = \"Secret Access Key\"\n",
    "# AWS_BUCKET_NAME = \"Bucket Name\""
   ]
  },
  {
   "cell_type": "markdown",
   "metadata": {},
   "source": [
    "### Protein Problem Specification"
   ]
  },
  {
   "cell_type": "code",
   "execution_count": null,
   "metadata": {},
   "outputs": [],
   "source": [
    "main_chain = \"APRLRFY\"\n",
    "side_chains = [\"\"] * 7\n",
    "\n",
    "#Interaction between Amino Acids\n",
    "mj_interaction = MiyazawaJerniganInteraction()\n",
    "penalty_back = 10\n",
    "penalty_chiral = 10\n",
    "penalty_1 = 10\n",
    "\n",
    "penalty_terms = PenaltyParameters(penalty_chiral, penalty_back, penalty_1)\n",
    "peptide = Peptide(main_chain, side_chains)\n",
    "\n",
    "protein_folding_problem = ProteinFoldingProblem(peptide, mj_interaction, penalty_terms)\n",
    "qubit_op_temp = protein_folding_problem.qubit_op()\n",
    "\n",
    "paulis = qubit_op_temp.primitive.paulis.to_labels()\n",
    "coefs = qubit_op_temp.primitive.coeffs\n",
    "\n",
    "# Convert complex coefficients to integer biases\n",
    "integer_coeffs = np.array([int(coeff.real) for coeff in coefs])\n",
    "\n",
    "# Create a new PauliSumOp with integer coefficients\n",
    "qubit_op = PauliSumOp.from_list(list(zip(paulis,integer_coeffs)))"
   ]
  },
  {
   "cell_type": "markdown",
   "metadata": {},
   "source": [
    "### Transformation from TFIM (Transverse Field Ising Model) to QUBO (Quadratic Unconstrained Binary Optimization) "
   ]
  },
  {
   "cell_type": "code",
   "execution_count": null,
   "metadata": {},
   "outputs": [],
   "source": [
    "#Conversion from TFIM to higher-order bipolar model\n",
    "coefficients = utils.extract_pauli_strings_and_coeffs(qubit_op)\n",
    "\n",
    "#Dictionary where the keys are terms from the TFIM and values are the corresponding numerical coefficients\n",
    "formulation = {}\n",
    "\n",
    "for element in coefficients:\n",
    "    val = element[1]\n",
    "    key = utils.from_pauli_to_bipolar(element[0])\n",
    "    formulation[key] = int(val)\n",
    "\n",
    "#Conversion from bipolar to binary variables\n",
    "original_num_variables = 9\n",
    "z_vars = [f'z{i}' for i in range(original_num_variables)]\n",
    "formulation_x = utils.transform_polynomial(formulation,list(z_vars),label=\"x\")\n",
    "shift = formulation_x[()]\n",
    "del formulation_x[()]\n",
    "\n",
    "#Higher-order reduction to quadratic\n",
    "qubo_dict = utils.reduce_min(formulation_x,num_vars=original_num_variables,variable_label=\"x\",starting_index=0)"
   ]
  },
  {
   "cell_type": "markdown",
   "metadata": {},
   "source": [
    "### Construction of Weights Matrix and Bias Vector for TitanQ Input"
   ]
  },
  {
   "cell_type": "code",
   "execution_count": null,
   "metadata": {},
   "outputs": [],
   "source": [
    "linear_terms = defaultdict(lambda : 0,qubo_dict[0])\n",
    "quadratic_terms = defaultdict(lambda : 0,qubo_dict[1])\n",
    "num_variables = qubo_dict[2]\n",
    "\n",
    "all_variables = [f'x{i}' for i in range(num_variables)]\n",
    "\n",
    "bias = np.zeros(num_variables,dtype=np.float32)\n",
    "weights = np.zeros((num_variables,num_variables),dtype=np.float32)\n",
    "\n",
    "for i in range(num_variables):\n",
    "    for j in range(i,num_variables):\n",
    "        if i == j:\n",
    "            bias[i] = linear_terms[all_variables[i]]\n",
    "        else:\n",
    "            if (all_variables[i],all_variables[j]) in quadratic_terms:\n",
    "                weights[i,j] = quadratic_terms[(all_variables[i],all_variables[j])]\n",
    "                weights[j,i] = quadratic_terms[(all_variables[i],all_variables[j])]\n",
    "            elif (all_variables[j],all_variables[i]) in quadratic_terms:\n",
    "                weights[i,j] = quadratic_terms[(all_variables[j],all_variables[i])]\n",
    "                weights[j,i] = quadratic_terms[(all_variables[j],all_variables[i])]"
   ]
  },
  {
   "cell_type": "markdown",
   "metadata": {},
   "source": [
    "### TitanQ Model Construction + Solve"
   ]
  },
  {
   "cell_type": "code",
   "execution_count": null,
   "metadata": {},
   "outputs": [],
   "source": [
    "############\n",
    "# TitanQ SDK\n",
    "############\n",
    "# Initialize the model\n",
    "model = Model(\n",
    "    api_key=TITANQ_DEV_API_KEY,\n",
    "    # Insert storage_client parameter and specify corresponding AWS keys and bucket name for solving very large problems\n",
    "    # storage_client=S3Storage(\n",
    "    #     access_key=AWS_ACCESS_KEY,\n",
    "    #     secret_key=AWS_SECRET_ACCESS_KEY,\n",
    "    #     bucket_name=AWS_BUCKET_NAME\n",
    "    # )\n",
    ") \n",
    "\n",
    "# Construct the problem\n",
    "model.add_variable_vector('x', len(weights), Vtype.BINARY)\n",
    "model.set_objective_matrices(weights, bias, Target.MINIMIZE)\n",
    "\n",
    "# Set hyperparameters and call the solver\n",
    "num_chains = 2\n",
    "num_engines = 256\n",
    "T_min = 1e3\n",
    "T_max = 1e16\n",
    "beta = (1.0/np.linspace(T_min, T_max, num_chains)).tolist()\n",
    "\n",
    "timeout_in_seconds = 5\n",
    "coupling_mult = 0.5\n",
    "\n",
    "response = model.optimize(\n",
    "    beta=beta,\n",
    "    timeout_in_secs=timeout_in_seconds,\n",
    "    num_engines=num_engines,\n",
    "    num_chains=num_chains,\n",
    "    coupling_mult=coupling_mult\n",
    ")\n",
    "\n",
    "#Retrieving minimum energy and corresponding state\n",
    "ising_energy, result_vector = min(response.result_items(),key= lambda x : x[0])\n",
    "\n",
    "print(\"-\" * 15, \"+\", \"-\" * 26, sep=\"\")\n",
    "print(\"TitanQ Ising energy   | Result vector\")\n",
    "print(\"-\" * 15, \"+\", \"-\" * 26, sep=\"\")\n",
    "print(f\"{ising_energy + shift} | {result_vector.tolist()}\")"
   ]
  },
  {
   "cell_type": "markdown",
   "metadata": {},
   "source": [
    "### Results Transformation"
   ]
  },
  {
   "cell_type": "code",
   "execution_count": null,
   "metadata": {},
   "outputs": [],
   "source": [
    "#Transforming variables (https://arxiv.org/pdf/1706.02998)\n",
    "result = dict(zip(all_variables,result_vector))\n",
    "x_variables = [f'x{i}' for i in range(original_num_variables)]\n",
    "x_dict = {k : v for k,v in filter(lambda t: t[0] in x_variables, result.items())}\n",
    "solution = {k.replace('x','z'):2 * v -1 for k,v in x_dict.items()}\n",
    "final_sol = {k: (1-v)/2  for k,v in solution.items()} \n",
    "\n",
    "result = ProteinFoldingResult(\n",
    "            unused_qubits=protein_folding_problem.unused_qubits,\n",
    "            peptide=protein_folding_problem.peptide,\n",
    "            turn_sequence=\"\".join(list(map(lambda x : str(int(x)),final_sol.values())))\n",
    "        )\n",
    "\n",
    "print(\"Cartesian coordinates for each of the amino acids of the protein:\")\n",
    "result.protein_shape_file_gen.get_xyz_data()"
   ]
  },
  {
   "cell_type": "markdown",
   "metadata": {},
   "source": [
    "### Visualization Generation"
   ]
  },
  {
   "cell_type": "code",
   "execution_count": null,
   "metadata": {},
   "outputs": [],
   "source": [
    "%matplotlib ipympl\n",
    "fig = result.get_figure(title=\"Protein Structure\", ticks=False, grid=True)\n",
    "fig.get_axes()[0].view_init(10, 70)"
   ]
  }
 ],
 "metadata": {
  "kernelspec": {
   "display_name": "Python 3",
   "language": "python",
   "name": "python3"
  },
  "language_info": {
   "codemirror_mode": {
    "name": "ipython",
    "version": 3
   },
   "file_extension": ".py",
   "mimetype": "text/x-python",
   "name": "python",
   "nbconvert_exporter": "python",
   "pygments_lexer": "ipython3",
   "version": "3.12.3"
  }
 },
 "nbformat": 4,
 "nbformat_minor": 2
}
