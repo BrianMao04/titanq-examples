{
 "cells": [
  {
   "attachments": {},
   "cell_type": "markdown",
   "metadata": {},
   "source": [
    "# TitanQ Index Tracking Example\n",
    "\n",
    "## Introduction\n",
    "\n",
    "The index tracking problem in finance refers to the challenge of creating and managing a portfolio that closely replicates the performance of a specific stock market index, such as the S&P 500 or FTSE 100, while minimizing tracking error and associated costs. This problem is central to passive investment strategies, such as index funds and exchange-traded funds (ETFs), which aim to deliver the same returns as the index they track.\n",
    "\n",
    "We analyze the Index Tracking problem as a non-linear quadratically constrained, quadratic optimization problem (MIQCP). This problem is challenging due to the non-linearity and the constraints, making it computationally intensive and difficult to solve directly especially when taking into account real world constraints and a large number of possible assets. "
   ]
  },
  {
   "cell_type": "code",
   "execution_count": 1,
   "metadata": {},
   "outputs": [],
   "source": [
    "#Importing required libraries\n",
    "import numpy as np\n",
    "import time\n",
    "import matplotlib.pyplot as plt\n",
    "#TitanQ specific imports\n",
    "from titanq import Model, Vtype, Target\n",
    "#Library to help with model generation\n",
    "import model_generation\n",
    "\n",
    "#Obtain your API key by contacting --> support@infinityq.tech\n",
    "#Example: TITANQ_DEV_API_KEY = \"00000000-0000-0000-0000-000000000000\"\n",
    "TITANQ_DEV_API_KEY = None"
   ]
  },
  {
   "cell_type": "code",
   "execution_count": null,
   "metadata": {},
   "outputs": [],
   "source": [
    "#When should we model our time indices for? \n",
    "\n",
    "#Use Cached values for quicker access without downloading the data again\n",
    "#Note: Downloading data from yFinance can be slow and buggy, recommend using a local cache\n",
    "cache = True\n",
    "\n",
    "#Pick an index which we would like to track\n",
    "#SP500\n",
    "ind_symbol = \"^GSPC\"\n",
    "#FTSE\n",
    "# ind_symbol = \"^FTSE\"\n",
    "#CAC40\n",
    "# ind_symbol = \"^FCHI\"\n",
    "\n",
    "if cache:\n",
    "    print(\"Using Cached Stock Data\")\n",
    "    stock_data, stock_returns, index_data, index_returns = model_generation.load_cache(\"2021\", ind_symbol)\n",
    "else:\n",
    "    print(\"Downloading Stock Data, WARNING: This may take a while, and may error!\")\n",
    "    start_date = \"2021-01-01\"\n",
    "    end_date = \"2022-01-01\"\n",
    "    stock_data_dl, stock_returns_dl, index_data_dl, index_returns_dl = model_generation.download_data(index_name=ind_symbol, \n",
    "                                                                                          start_date=start_date, \n",
    "                                                                                          end_date=end_date)"
   ]
  },
  {
   "attachments": {},
   "cell_type": "markdown",
   "metadata": {},
   "source": [
    "## Model Formulation:\n",
    "\n",
    "$ min_w \\sum_{t=0}^T\\sum_{i=0}^N(w_ix_{it} - r_t)^2 $\n",
    "\n",
    "​\n",
    "We're minimizing the difference in returns between our portfolio and the benchmark over each time period. The goal is to find the weights $w_i$ that minimize the tracking error at each time period. Here the values of $x_{it}$ represent historical return for each asset at each time period, $w_i$ represents the weight of each asset and $r_t$ represent the benchmark index's return at each time period.\n",
    "\n",
    "We also impose a few extra features to make it closer to a real-world scenario:\n",
    "\n",
    "* Integer Constraints: The integer constraints ensure that the weights are whole numbers, preventing fractional shares.\n",
    "* Variable Bounds: The variable bounds ensure that the weights are within a certain range, preventing excessive exposure to certain assets or under-allocation of others. Non-negativity prevents short selling.\n",
    "* Risk Control: The variance constraints ensure that the constructed portfolio's risk profile is similar to the benchmark's, preventing excessive deviation in risk levels.\n",
    "    * Additional Constraint: $ s.t. (c_l) * \\sum_{t=0}^T (r_t - \\mathbb{E}(r_t))^2 \\leq \\sum_{t=0}^T(wx_t - \\mathbb{E}(wx_t))^2 \\leq (c_u) * \\sum_{t=0}^T (r_t - \\mathbb{E}(r_t))^2 $\n",
    "* Budget Control: A minimum investment constraint ensures that a minimum portfolio value is invested, and a maximum investment constraint ensures that the maximum budget is not exceeded.\n",
    "    * Additional Constraint: $ s.t. \\sum_{t=0}^T wx \\geq B_l $\n",
    "    * Additional Constraint: $ s.t. \\sum_{t=0}^T wx \\leq B_u $\n",
    "\n",
    "Note: for proper normalization, we divide the variables by the total maximum invested amount in the portfolio. This is a simplification and might not be accurate for real-world investments and can be adjusted in future models"
   ]
  },
  {
   "cell_type": "code",
   "execution_count": 3,
   "metadata": {},
   "outputs": [],
   "source": [
    "#Parameter max_invest: Maximum stocks of a single type to invest in\n",
    "max_invest = 16\n",
    "\n",
    "#Parameter min_budget: Minimum amount of money you'd like to spend\n",
    "min_budget = 20000\n",
    "\n",
    "#Parameter max_budget: Maximum amount of money you're willing to spend\n",
    "max_budget = 50000\n",
    "\n",
    "#Parameter var_diff: Maximum difference in variance between the portfolio and the benchmark\n",
    "var_diff = 0.1"
   ]
  },
  {
   "cell_type": "code",
   "execution_count": null,
   "metadata": {},
   "outputs": [],
   "source": [
    "#Numerical stability scaling factor\n",
    "scaling_factor = 100\n",
    "\n",
    "N = len(stock_returns.columns)  #Number of stocks\n",
    "T = len(stock_returns)  #Number of time periods\n",
    "print(f\"Number of Stocks: {N}\")\n",
    "print(f\"Number of Time Periods: {T}\")\n",
    "\n",
    "#Create a new TitanQ model\n",
    "model = Model(\n",
    "    api_key=TITANQ_DEV_API_KEY\n",
    ")\n",
    "\n",
    "print(\"Creating Variables...\")\n",
    "#Variables\n",
    "x = model.add_variable_vector(name=\"x\", size=N, vtype=Vtype.INTEGER, variable_bounds =[[0, max_invest-1]]*N)  # Portfolio weights\n",
    "\n",
    "print(\"Setting Objective...\")\n",
    "#Objective function: minimize tracking error\n",
    "#Utility function to make this easier to read\n",
    "W, b, offset = model_generation.get_objective(stock_returns=stock_returns, index_returns=index_returns, max_invest=max_invest)\n",
    "\n",
    "model.set_objective_matrices(weights=scaling_factor * W, bias=scaling_factor * b, target=Target.MINIMIZE)\n",
    "\n",
    "#Model Constraints\n",
    "print(\"Adding Constraints...\")\n",
    "\n",
    "#The initial buy price for each of the stocks\n",
    "stock_init_price = stock_data.bfill().iloc[0, :].array\n",
    "\n",
    "#Use at least the minimum budget\n",
    "model.add_constraint_from_expression(sum(stock_init_price[i] * x[i] for i in range(N)) >= min_budget)\n",
    "#Don't go over the maximum budget\n",
    "model.add_constraint_from_expression(sum(stock_init_price[i] * x[i] for i in range(N)) <= max_budget)\n",
    "\n",
    "\n",
    "# Variance bounds to control risk of target portfolio\n",
    "#This is the portfolio variance\n",
    "stock_cov = stock_returns.cov()\n",
    "Q = stock_cov.values.astype(np.float32)\n",
    "#This is the target variance\n",
    "target_variance = index_returns.var()\n",
    "#Want to ensure that the variance is within 10% of the target portfolio\n",
    "#Note: This can also be used to create a portfolio that is correlated with a specific market,\n",
    "#       but with a lower risk. \n",
    "c_l = (1 - var_diff) * target_variance * (max_invest**2)\n",
    "c_u = (1 + var_diff) * target_variance * (max_invest**2)\n",
    "\n",
    "# Variance constraints\n",
    "model.add_quadratic_inequality_constraint(constraint_mask=Q, constraint_bounds=np.array([c_l, c_u]), constraint_linear_weights=np.zeros(N, dtype=np.float32))\n",
    "\n",
    "print(\"Model creation completed!\")"
   ]
  },
  {
   "attachments": {},
   "cell_type": "markdown",
   "metadata": {},
   "source": [
    "## Solving the Model on TitanQ\n",
    "\n",
    "TitanQ is a system for running large-scale optimization problems on massive datasets. It specializes in non-convex, quadratic optimization problems which are difficult to solve exactly due to the complexity of the problem."
   ]
  },
  {
   "cell_type": "code",
   "execution_count": null,
   "metadata": {},
   "outputs": [],
   "source": [
    "print(\"Solving the model!\")\n",
    "#Optimize the model\n",
    "\n",
    "t0 = time.time()\n",
    "response = model.optimize(**model_generation.titanq_params)\n",
    "t1 = time.time()\n",
    "\n",
    "print(\"Done!\")\n",
    "print(\"Time Taken On Solver: {0:.3f} seconds\".format(response.computation_metrics()['solve_time_in_secs']))\n",
    "print(\"Total Wall Clock Time including network connection: {0:.3f} seconds\".format(t1 - t0))"
   ]
  },
  {
   "cell_type": "code",
   "execution_count": null,
   "metadata": {},
   "outputs": [],
   "source": [
    "best_solution, best_obj = model_generation.analyze_results_titanq(response, stock_init_price, W, b, offset)"
   ]
  },
  {
   "attachments": {},
   "cell_type": "markdown",
   "metadata": {},
   "source": [
    "# Cheat Sheet for typical stocks chosen:\n",
    "* **AME**: Ametek, Inc. is a American multinational conglomerate and global designer and manufacturer of electronic instruments and electromechanical devices.\n",
    "* **AAPL**: Apple Inc. is an American multinational corporation and technology company.\n",
    "* **AOS**: A. O. Smith Corporation is an American manufacturer of both residential and commercial water heaters and boilers, and the largest manufacturer and marketer of water heaters in North America.\n",
    "* **AFL**: Aflac Incorporated is an American insurance company and is the largest provider of supplemental insurance in the United States.\n",
    "* **APD**: Air Products and Chemicals, Inc. is an American international corporation whose principal business is selling gases and chemicals for industrial use.\n",
    "* **ADSK**: Autodesk, Inc. is an American multinational software corporation that provides software products and services for the architecture, engineering, construction, manufacturing, media, education, and entertainment industries.\n",
    "* **AZO**: AutoZone, Inc. is an American retailer of aftermarket automotive parts and accessories.\n",
    "* **AVGO**: Broadcom Inc. is an American multinational designer, developer, manufacturer, and global supplier of a wide range of semiconductor and infrastructure software products.\n",
    "* **BMY**: The Bristol-Myers Squibb Company, doing business as Bristol Myers Squibb, is an American multinational pharmaceutical company.\n",
    "* **BKR**: Baker Hughes Company is a global energy technology company.\n",
    "* **BBY**: Best Buy Co., Inc. is an American multinational consumer electronics retailer.\n",
    "* **CI**: The Cigna Group\tHealth Services\tprovides health insurance and related services, including medical, dental, disability, and life insurance products, catering to individuals and businesses.\n",
    "* **ETN**: Eaton Corporation is a multinational power management company providing energy-efficient solutions for electrical, hydraulic, and mechanical power, serving diverse markets worldwide.\n",
    "* **GE**: General Electric Company operates in sectors such as aviation, healthcare, power, and renewable energy, offering products ranging from jet engines to medical imaging equipment.\n",
    "* **GIS**: General Mills, Inc.\tis a global manufacturer and marketer of branded consumer foods, including cereals, snacks, and prepared meals, with brands like Cheerios and Betty Crocker.\n",
    "* **HOLX**:\tHologic, Inc. focuses on medical devices for diagnostics and women’s health, with products found in hospitals and healthcare facilities globally.\n",
    "* **JBHT**:\tJ.B. Hunt provides freight transportation and logistics services, supporting major retailers with efficient supply chain solutions.\n",
    "* **KMB**:\tKimberly-Clark produces household staples like Kleenex tissues and Huggies diapers, sold in supermarkets and retail stores worldwide.\n",
    "* **MLM**:\tMartin Marietta supplies aggregates and construction materials, which are key components for infrastructure and commercial projects.\n",
    "* **MA**: Mastercard operates a global payments network, providing credit and debit card services that are accepted at millions of retail locations.\n",
    "* **MCD**:\tMcDonald's Corporation is a leading global fast-food chain, serving a variety of menu items through company-owned and franchised restaurants worldwide.\n",
    "* **MDLZ**:\tMondelez is a major player in the snacks industry, known for brands like Oreo and Cadbury, widely available in supermarkets and convenience stores.\n",
    "* **MPWR**:\tMonolithic Power Systems, Inc. designs power solutions for electronics, found in consumer products like smartphones and gaming consoles sold by leading retailers.\n",
    "* **NKE**:\tNike, Inc is a global leader in sportswear, with a vast retail presence through its branded stores and partnerships with major department stores.\n",
    "* **NRG**:\tNRG provides electricity and energy services, including retail energy plans for residential and commercial customers across the U.S.\n",
    "* **PYPL**:\tPayPal offers a widely-used digital payments platform, facilitating online and in-store transactions for retailers and consumers alike.\n",
    "* **PEG**:\tPublic Service Enterprise Group provides regulated utility services, offering retail electricity and gas to customers in the northeastern United States.\n",
    "* **PEP**:\tPepsiCo, Inc. is a global food and beverage company with a diverse portfolio of brands, including Pepsi, Lay's, and Quaker, serving customers worldwide.\n",
    "* **TDG**:\tTransDigm manufactures aerospace parts, often indirectly supporting the retail travel industry through components used in commercial aircraft.\n",
    "* **TRMB**:\tTrimble Inc. provides advanced positioning solutions, integrating GPS, laser, optical, and inertial technologies for applications in agriculture, construction, and transportation.\n",
    "* **UPS**:\tUnited Parcel Service, Inc. is a major logistics company, providing delivery services that are essential for e-commerce and retail supply chains worldwide.\n",
    "* **XEL**:\tXcel Energy delivers electricity and gas services, supporting residential and commercial retail operations in several U.S. states."
   ]
  },
  {
   "attachments": {},
   "cell_type": "markdown",
   "metadata": {},
   "source": [
    "# Plotting the Portfolio Performance compared to the Index on Backwards Testing\n",
    "\n",
    "This plots the portfolio's performance compared to the index (SPY) for the previous time period it was optimized for. The portfolio's performance is represented by the cumulative return, which represents the total profit or loss over the investment period."
   ]
  },
  {
   "cell_type": "code",
   "execution_count": null,
   "metadata": {},
   "outputs": [],
   "source": [
    "portfolio_returns_back = model_generation.calc_returns(stock_returns, best_solution)\n",
    "\n",
    "tot_portfolio_ret = [np.sum(portfolio_returns_back[:x]) for x in range(T)]\n",
    "tot_index_ret = [np.sum(index_returns[:x]) for x in range(T)]\n",
    "\n",
    "plt.title(f\"Index Return ({ind_symbol}) vs. Optimized Portfolio Performance\")\n",
    "plt.plot(stock_returns.index, tot_portfolio_ret, label=\"Portfolio\")\n",
    "plt.plot(stock_returns.index, tot_index_ret, label=f\"Index: {ind_symbol}\")\n",
    "plt.xlabel(\"Stock Trading Day\")\n",
    "plt.tick_params(axis='x', rotation=45)\n",
    "plt.ylabel(\"Normalized Return\")\n",
    "plt.legend()"
   ]
  },
  {
   "attachments": {},
   "cell_type": "markdown",
   "metadata": {},
   "source": [
    "# Plotting the Portfolio Performance compared to the Index on Forwards Testing\n",
    "\n",
    "This plots the portfolio's performance compared to the index (SPY) for the forward time period projecting the portfolio performance for the future. This is a real test of the portfolio performance as it shows performance on unseen data."
   ]
  },
  {
   "cell_type": "code",
   "execution_count": 8,
   "metadata": {},
   "outputs": [],
   "source": [
    "#Fetching data for the forward time period (to test the model's performance on unseen data)\n",
    "#Same as above, don't download the data unless necessary\n",
    "if cache:\n",
    "    stock_data_forward, stock_returns_forward, index_data_forward, index_returns_forward = model_generation.load_cache(\"2022\", ind_symbol)\n",
    "else:\n",
    "    start_date = \"2022-01-01\"\n",
    "    end_date = \"2022-04-01\"\n",
    "    stock_data_forward, stock_returns_forward, index_data_forward, index_returns_forward = model_generation.download_data(index_name=ind_symbol, start_date=start_date, end_date=end_date)\n"
   ]
  },
  {
   "cell_type": "code",
   "execution_count": null,
   "metadata": {},
   "outputs": [],
   "source": [
    "portfolio_returns_forward = model_generation.calc_returns(stock_returns_forward, best_solution)\n",
    "\n",
    "\n",
    "tot_portfolio_ret = [np.sum(portfolio_returns_forward[:x]) for x in range(len(portfolio_returns_forward))]\n",
    "tot_index_ret = [np.sum(index_returns_forward[:x]) for x in range(len(index_returns_forward))]\n",
    "\n",
    "plt.title(f\"Index Return ({ind_symbol}) vs. Optimized Portfolio Performance \\n Forward in time\")\n",
    "plt.plot(stock_returns_forward.index, tot_portfolio_ret, label=\"Portfolio\")\n",
    "plt.plot(stock_returns_forward.index, tot_index_ret, label=f\"Index: {ind_symbol}\")\n",
    "plt.xlabel(\"Stock Trading Day\")\n",
    "plt.tick_params(axis='x', rotation=45)\n",
    "plt.ylabel(\"Normalized Return\")\n",
    "plt.legend()"
   ]
  }
 ],
 "metadata": {
  "kernelspec": {
   "display_name": "algorithms_repo_env",
   "language": "python",
   "name": "python3"
  },
  "language_info": {
   "codemirror_mode": {
    "name": "ipython",
    "version": 3
   },
   "file_extension": ".py",
   "mimetype": "text/x-python",
   "name": "python",
   "nbconvert_exporter": "python",
   "pygments_lexer": "ipython3",
   "version": "3.12.3"
  },
  "orig_nbformat": 4
 },
 "nbformat": 4,
 "nbformat_minor": 2
}
