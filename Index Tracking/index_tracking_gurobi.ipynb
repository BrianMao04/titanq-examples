{
 "cells": [
  {
   "attachments": {},
   "cell_type": "markdown",
   "metadata": {},
   "source": [
    "# Gurobi Index Tracking Example (for comparison)\n",
    "\n",
    "## Introduction\n",
    "\n",
    "This index tracking example is meant to show the performance differences between Gurobi and TitanQ on a real life financial index tracking problem. We will be using the S&P 500 index as our benchmark.\n",
    "\n",
    "More details for model formulation are found in the TitanQ based example of this problem."
   ]
  },
  {
   "cell_type": "code",
   "execution_count": null,
   "metadata": {},
   "outputs": [],
   "source": [
    "# Prompt the user and wait for an answer before installing dependencies.\n",
    "# Note: Usage of a virtual Python environment is recommended.\n",
    "if input(\"Install Python dependencies? [y/n]\").lower() == \"y\":\n",
    "    print(\"Installing dependencies (this can take a few minutes)...\")\n",
    "    !pip install -r \"requirements.txt\" --upgrade\n",
    "else:\n",
    "    print(\"Skipping dependency installation.\")\n",
    "\n",
    "#Importing required libraries\n",
    "import numpy as np\n",
    "import matplotlib.pyplot as plt\n",
    "import time\n",
    "#Gurobi specific libraries\n",
    "import gurobipy as gp\n",
    "from gurobipy import GRB\n",
    "#Library to help with model generation\n",
    "import model_generation"
   ]
  },
  {
   "cell_type": "code",
   "execution_count": null,
   "metadata": {},
   "outputs": [],
   "source": [
    "#When should we model our time indices for? \n",
    "\n",
    "#Use Cached values for quicker access without downloading the data again\n",
    "#Note: Downloading data from yFinance can be slow and buggy, recommend using a local cache\n",
    "cache = True\n",
    "\n",
    "#Pick an index which we would like to track\n",
    "#SP500\n",
    "ind_symbol = \"^GSPC\"\n",
    "#FTSE\n",
    "# ind_symbol = \"^FTSE\"\n",
    "#CAC40\n",
    "# ind_symbol = \"^FCHI\"\n",
    "\n",
    "if cache:\n",
    "    print(\"Using Cached Stock Data\")\n",
    "    stock_data, stock_returns, index_data, index_returns = model_generation.load_cache(\"2021\", ind_symbol)\n",
    "else:\n",
    "    print(\"Downloading Stock Data, WARNING: This may take a while, and may error!\")\n",
    "    start_date = \"2021-01-01\"\n",
    "    end_date = \"2022-01-01\"\n",
    "    stock_data_dl, stock_returns_dl, index_data_dl, index_returns_dl = model_generation.download_data(index_name=ind_symbol, \n",
    "                                                                                          start_date=start_date, \n",
    "                                                                                          end_date=end_date)"
   ]
  },
  {
   "cell_type": "code",
   "execution_count": null,
   "metadata": {},
   "outputs": [],
   "source": [
    "#Parameter max_invest: Maximum stocks of a single type to invest in\n",
    "max_invest = 16\n",
    "\n",
    "#Parameter min_budget: Minimum amount of money you'd like to spend\n",
    "min_budget = 0\n",
    "\n",
    "#Parameter max_budget: Maximum amount of money you're willing to spend\n",
    "max_budget = 50000\n",
    "\n",
    "#Parameter var_diff: Maximum difference in variance between the portfolio and the benchmark\n",
    "var_diff = 0.1"
   ]
  },
  {
   "cell_type": "code",
   "execution_count": null,
   "metadata": {},
   "outputs": [],
   "source": [
    "N = len(stock_returns.columns)  #Number of stocks\n",
    "T = len(stock_returns)  #Number of time periods\n",
    "print(f\"Number of Stocks: {N}\")\n",
    "print(f\"Number of Time Periods: {T}\")\n",
    "\n",
    "#Create a new Gurobi model\n",
    "model = gp.Model(\"index_tracking\")\n",
    "\n",
    "print(\"Creating Variables...\")\n",
    "#Variables\n",
    "x = model.addMVar(N, lb=0, ub=(max_invest-1), vtype=GRB.CONTINUOUS, name=\"x\")  #Portfolio weights\n",
    "\n",
    "print(\"Setting Objective...\")\n",
    "\n",
    "\n",
    "#Objective function: minimize tracking error\n",
    "#Utility function to make this easier to read\n",
    "W, b, offset = model_generation.get_objective(stock_returns=stock_returns, index_returns=index_returns, max_invest=max_invest)\n",
    "\n",
    "\n",
    "model.setObjective(0.5 * (x @ W @ x) + b @ x + offset, GRB.MINIMIZE)\n",
    "#Constraints\n",
    "print(\"Adding Constraints...\")\n",
    "\n",
    "stock_init_price = stock_data.bfill().iloc[0, :].array\n",
    "#Sum of portfolio weights is more than minimium budget\n",
    "model.addConstr(sum(stock_init_price[i] * x[i] for i in range(N)) >= min_budget, \"min_budget\")\n",
    "#Sum of portfolio weights is less than budget\n",
    "model.addConstr(sum(stock_init_price[i] * x[i] for i in range(N)) <= max_budget, \"max_budget\")\n",
    "\n",
    "\n",
    "#This is the variance of the portfolio\n",
    "stock_cov = stock_returns.cov()\n",
    "Q = stock_cov.values.astype(np.float32)\n",
    "portfolio_variance = (x) @ (Q) @ (x)\n",
    "\n",
    "#Variance bounds\n",
    "target_variance = index_returns.var()\n",
    "c_l = (1 - var_diff) * target_variance * (max_invest**2)\n",
    "c_u = (1 + var_diff) * target_variance * (max_invest**2)\n",
    "\n",
    "#Variance constraints\n",
    "model.addConstr(portfolio_variance >= c_l, name='VarianceLowerBound')\n",
    "model.addConstr(portfolio_variance <= c_u, name='VarianceUpperBound')\n",
    "\n",
    "print(\"Model creation completed!\")"
   ]
  },
  {
   "cell_type": "code",
   "execution_count": null,
   "metadata": {},
   "outputs": [],
   "source": [
    "print(\"Solving the model!\")\n",
    "#Optimize the model\n",
    "t0 = time.time()\n",
    "model.optimize()\n",
    "t1 = time.time()"
   ]
  },
  {
   "cell_type": "code",
   "execution_count": null,
   "metadata": {},
   "outputs": [],
   "source": [
    "best_solution, best_obj = model_generation.analyze_results_gurobi(model, x, stock_init_price, W, b, offset)"
   ]
  },
  {
   "cell_type": "code",
   "execution_count": null,
   "metadata": {},
   "outputs": [],
   "source": [
    "portfolio_returns_back = model_generation.calc_returns(stock_returns, best_solution.round())\n",
    "\n",
    "tot_portfolio_ret = [np.sum(portfolio_returns_back[:x]) for x in range(T)]\n",
    "tot_index_ret = [np.sum(index_returns[:x]) for x in range(T)]\n",
    "\n",
    "plt.title(f\"Index Return ({ind_symbol}) vs. Optimized Portfolio Performance\")\n",
    "plt.plot(stock_returns.index, tot_portfolio_ret, label=\"portfolio\")\n",
    "plt.plot(stock_returns.index, tot_index_ret, label=f\"Index: {ind_symbol}\")\n",
    "plt.xlabel(\"Stock Trading Day\")\n",
    "plt.tick_params(axis='x', rotation=45)\n",
    "plt.ylabel(\"Normalized Return\")\n",
    "plt.legend()"
   ]
  },
  {
   "cell_type": "code",
   "execution_count": null,
   "metadata": {},
   "outputs": [],
   "source": [
    "#Fetching data for the forward time period (to test the model's performance on unseen data)\n",
    "#Same as above, don't download the data unless necessary\n",
    "if cache:\n",
    "    stock_data_forward, stock_returns_forward, index_data_forward, index_returns_forward = model_generation.load_cache(\"2022\", ind_symbol)\n",
    "else:\n",
    "    start_date = \"2022-01-01\"\n",
    "    end_date = \"2022-04-01\"\n",
    "    stock_data_forward, stock_returns_forward, index_data_forward, index_returns_forward = model_generation.download_data(index_name=ind_symbol, start_date=start_date, end_date=end_date)"
   ]
  },
  {
   "cell_type": "code",
   "execution_count": null,
   "metadata": {},
   "outputs": [],
   "source": [
    "portfolio_returns_forward = model_generation.calc_returns(stock_returns_forward, best_solution)\n",
    "\n",
    "\n",
    "tot_portfolio_ret = [np.sum(portfolio_returns_forward[:x]) for x in range(len(portfolio_returns_forward))]\n",
    "tot_index_ret = [np.sum(index_returns_forward[:x]) for x in range(len(index_returns_forward))]\n",
    "\n",
    "plt.title(f\"Index Return ({ind_symbol}) vs. Optimized Portfolio Performance \\n Forward in time\")\n",
    "plt.plot(stock_returns_forward.index, tot_portfolio_ret, label=\"portfolio\")\n",
    "plt.plot(stock_returns_forward.index, tot_index_ret, label=f\"Index: {ind_symbol}\")\n",
    "plt.xlabel(\"Stock Trading Day\")\n",
    "plt.tick_params(axis='x', rotation=45)\n",
    "plt.ylabel(\"Normalized Return\")\n",
    "plt.legend()"
   ]
  }
 ],
 "metadata": {
  "kernelspec": {
   "display_name": "algorithms_repo_env",
   "language": "python",
   "name": "python3"
  },
  "language_info": {
   "codemirror_mode": {
    "name": "ipython",
    "version": 3
   },
   "file_extension": ".py",
   "mimetype": "text/x-python",
   "name": "python",
   "nbconvert_exporter": "python",
   "pygments_lexer": "ipython3",
   "version": "3.12.3"
  },
  "orig_nbformat": 4
 },
 "nbformat": 4,
 "nbformat_minor": 2
}
