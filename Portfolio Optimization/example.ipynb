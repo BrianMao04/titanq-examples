{
 "cells": [
  {
   "cell_type": "code",
   "execution_count": null,
   "metadata": {},
   "outputs": [],
   "source": [
    "import numpy as np\n",
    "import logging\n",
    "from utils import *\n",
    "from titanq import Model, Vtype, Target, S3Storage\n",
    "import warnings\n",
    "\n",
    "# Filter out FutureWarning messages due to yfinance using a deprecated pandas keyword\n",
    "warnings.simplefilter(action='ignore', category=FutureWarning)"
   ]
  },
  {
   "cell_type": "markdown",
   "metadata": {},
   "source": [
    "## Setting Credentials\n",
    "The user should configure their TitanQ API key here. For very large problems, the user must also configure an AWS Access key, AWS Secret Access key and AWS Bucket Name."
   ]
  },
  {
   "cell_type": "code",
   "execution_count": null,
   "metadata": {},
   "outputs": [],
   "source": [
    "logging.getLogger('botocore').setLevel(logging.CRITICAL)\n",
    "logging.getLogger('urllib3').setLevel(logging.CRITICAL)\n",
    "\n",
    "TITANQ_DEV_API_KEY = \"Your API key\"\n",
    "\n",
    "# Specify AWS keys and bucket name for solving very large problems\n",
    "# AWS_ACCESS_KEY = \"Your Access key\"\n",
    "# AWS_SECRET_ACCESS_KEY = \"Your secret access key\"\n",
    "# AWS_BUCKET_NAME = \"Your bucket name\""
   ]
  },
  {
   "cell_type": "markdown",
   "metadata": {},
   "source": [
    "## Setting Up The Problem\n",
    "Here we pick an instance from the instances folder and read in the stock symbols (tickers) and their respective weights if given. Then we compute the correlation matrix, and consequently the graph adjacency ($J$) matrix with the chosen value of $\\theta$. The user decides the time period and frequency that the correlation matrix is calculated over.\n",
    "\n",
    "If no weights are given in the instance file, then we use each stock's annualized returns rounded to the nearest integer as their weight. \n",
    "\n",
    "The parameter $\\theta \\in [0, 1]$ is the threshold to determine the level at which two assets are correlated. More specifically, two assets are connected by an edge if the absolute value of the correlation coefficient of their returns is greater than (or equal to) a threshold $\\theta$. That is, we have: $\\text{asset } i \\text{ and } \\text{asset } j \\text{ are connected } \\Leftrightarrow |correlation(r_i, r_j)| \\geq \\theta$ where $r_i$ and $r_j$ are the respective returns of the assets.\n",
    "\n"
   ]
  },
  {
   "cell_type": "code",
   "execution_count": null,
   "metadata": {},
   "outputs": [],
   "source": [
    "# Read in tickers and weights from the instance file\n",
    "instance = \"simple example\"\n",
    "tickers, weights = read_instance(f\"instances/{instance}\")\n",
    "\n",
    "# Number of stocks in consideration (number of vertices in the graph)\n",
    "size = len(tickers)\n",
    "\n",
    "# Compute the correlation matrix\n",
    "start_date = \"2010-01-01\"\n",
    "end_date = \"2023-12-31\"\n",
    "corr_matrix = get_stock_corr_matrix(tickers, start=start_date, end=end_date, period='1YE')\n",
    "\n",
    "# Compute the adjacency matrix of the market correlation graph\n",
    "theta = 0.2\n",
    "J_matrix = corr_to_J_matrix(corr_matrix, theta)\n",
    "\n",
    "# Set weights if no weights were specified in the instance file\n",
    "if weights is None:\n",
    "    weights = np.round(np.array(get_annualized_stock_returns(tickers, 2010, 2023))).astype('float32')"
   ]
  },
  {
   "cell_type": "code",
   "execution_count": null,
   "metadata": {},
   "outputs": [],
   "source": [
    "# Display results of computations above\n",
    "print(\"~~~~~~~~~~~~~ Correlation Matrix ~~~~~~~~~~~~~\")\n",
    "print(corr_matrix)\n",
    "print()\n",
    "\n",
    "print(\"~~~~~~~~~~~~~ Adjacency Matrix ~~~~~~~~~~~~~\")\n",
    "print(J_matrix)\n",
    "print(\"Graph density: {:.2%}\".format((np.sum(J_matrix)/2)/(size*(size-1)/2)))\n",
    "print()\n",
    "\n",
    "print(\"~~~~~~~~~~~~~ Weights ~~~~~~~~~~~~~\")\n",
    "print(weights)"
   ]
  },
  {
   "cell_type": "markdown",
   "metadata": {},
   "source": [
    "## Formulating The Weight Matrix And Bias Vector For The TitanQ SDK\n",
    "Here we prepare the input for the TitanQ SDK. The weight matrix is simply the $J$-matrix multiplied by the hyperparameter $A$. The bias vector is the weights vector multiplied by $-B$, where $B$ is also a hyperparameter. Recall that the $A$ term punishes the selection of nodes that are connected by an edge, and the $B$ term maximizes the total weight among selected nodes. In general, the hyperparameters should be set with $A > B$ to increase the likelihood of generating a set that is independent."
   ]
  },
  {
   "cell_type": "code",
   "execution_count": null,
   "metadata": {},
   "outputs": [],
   "source": [
    "# Hyperparameters to tune\n",
    "A = 1\n",
    "B = 0.02\n",
    "\n",
    "# Construct the weight matrix and bias vector for QUBO\n",
    "weight_matrix = A * J_matrix\n",
    "bias_vector = -1 * B * weights"
   ]
  },
  {
   "cell_type": "markdown",
   "metadata": {},
   "source": [
    "## Inputting The Problem Into The TitanQ SDK\n",
    "Here the user should provide the credentials they defined earlier. The user also defines the variables of the problem as well as the type of variable:\n",
    "\n",
    "- Vtype.BINARY if the variable is either 0 or 1\n",
    "\n",
    "- Vtype.BIPOLAR if the variable is either -1 or +1 (Coming soon)\n",
    "\n",
    "The user then injects the weights matrix and the bias vector into the SDK as the objective function to minimize. "
   ]
  },
  {
   "cell_type": "code",
   "execution_count": null,
   "metadata": {},
   "outputs": [],
   "source": [
    "#############\n",
    "# TitanQ SDK\n",
    "#############\n",
    "model = Model(\n",
    "    api_key=TITANQ_DEV_API_KEY,\n",
    "    # Insert storage_client parameter and specify corresponding AWS keys and bucket name for solving very large problems\n",
    "    # storage_client=S3Storage(\n",
    "    #     access_key=AWS_ACCESS_KEY,\n",
    "    #     secret_key=AWS_SECRET_ACCESS_KEY,\n",
    "    #     bucket_name=AWS_BUCKET_NAME\n",
    "    # )\n",
    ")\n",
    "model.add_variable_vector('x', size, Vtype.BINARY)\n",
    "model.set_objective_matrices(weight_matrix, bias_vector, Target.MINIMIZE)"
   ]
  },
  {
   "cell_type": "markdown",
   "metadata": {},
   "source": [
    "Finally, the user can call the optimize method on the model to solve the problem. The user can specify the maximum runtime of the solver (longer times have a higher probability of finding the optimal solution). They can also tune the other solver hyperparameters which are all defined in the README. These hyperparameters have the default values:\n",
    "- *beta* = [0.1]\n",
    "- *coupling_mult* = 0.5\n",
    "- *timeout_in_secs* = 10\n",
    "- *num_chains* = 8\n",
    "- *num_engines* = 1\n",
    "\n",
    "Note that the length of the list *beta* should be either 1 or *num_chains*."
   ]
  },
  {
   "cell_type": "code",
   "execution_count": null,
   "metadata": {},
   "outputs": [],
   "source": [
    "response = model.optimize(beta = [0.1], coupling_mult=0.75, timeout_in_secs=5, num_chains = 8, num_engines = 1)"
   ]
  },
  {
   "cell_type": "markdown",
   "metadata": {},
   "source": [
    "## Printing The Results\n",
    "\n",
    "The list of solutions for each engine can be accessed from the variable label defined before (in this case: ```x```). For each engine we print:\n",
    "- The solution\n",
    "- The corresponding stock symbols\n",
    "- The weight of the solution\n",
    "- The Ising energy of the solution\n",
    "- A validation of the solution, i.e. check if the set of nodes is actually independent or not.\n",
    "\n",
    "Then we print the *best* valid solution (valid solution with the greatest weight). This gives a low-risk portfolio of uncorrelated stocks that is preferrable to the investor.\n",
    "\n"
   ]
  },
  {
   "cell_type": "code",
   "execution_count": null,
   "metadata": {},
   "outputs": [],
   "source": [
    "# Keep track of the index and the weight of the best solution\n",
    "best_idx = -1\n",
    "best_weight = 0\n",
    "\n",
    "print(\"-------- ALL ENGINE RESULTS --------\")\n",
    "for idx, solution in enumerate(response.x):\n",
    "    solution_weight = weights.dot(solution)\n",
    "    \n",
    "    # Print all results\n",
    "    print(f\"\\n--- Engine {idx + 1} ---\")\n",
    "    print(\"     x:\", solution)\n",
    "    print(\"stocks:\", [tickers[i] for i in np.nonzero(solution)[0]])\n",
    "    print(\"weight:\", solution_weight)\n",
    "    print(\"energy:\", response.computation_metrics().get('solutions_objective_value')[idx])\n",
    "\n",
    "    # Check if this solution is valid\n",
    "    violations = verify_independent_set(J_matrix, solution, tickers)\n",
    "    if violations:\n",
    "        print(\"This solution is not valid since the corresponding set of nodes is not independent.\")\n",
    "        print(\"Try adjusting the hyperparameters further to yield a valid solution.\")\n",
    "        print(\"The following vertices are connected:\")\n",
    "        for pair in violations:\n",
    "            print(pair)\n",
    "    else:\n",
    "        print(\"This solution is valid! The corresponding set of nodes is independent.\")\n",
    "        \n",
    "        # Check if this solution is the best valid one so far\n",
    "        if best_idx == -1 or solution_weight > best_weight:\n",
    "            best_idx = idx\n",
    "            best_weight = solution_weight\n",
    "    \n",
    "        \n",
    "# Print the results of the best valid solution\n",
    "print(\"\\n-------- BEST VALID SOLUTION --------\")\n",
    "\n",
    "if best_idx == -1:\n",
    "    print(\"None of the engines returned valid solutions!\")\n",
    "    print(\"Try adjusting the hyperparameters further to yield some valid solutions.\")\n",
    "else:\n",
    "    print(f\"--- Engine {best_idx + 1} ---\")\n",
    "    print(\"     x:\", response.x[best_idx])\n",
    "    print(\"stocks:\", [tickers[i] for i in np.nonzero(response.x[best_idx])[0]])\n",
    "    print(\"weight:\", best_weight)\n",
    "    print(\"energy:\", response.computation_metrics().get('solutions_objective_value')[best_idx])"
   ]
  }
 ],
 "metadata": {
  "kernelspec": {
   "display_name": "Python 3",
   "language": "python",
   "name": "python3"
  },
  "language_info": {
   "codemirror_mode": {
    "name": "ipython",
    "version": 3
   },
   "file_extension": ".py",
   "mimetype": "text/x-python",
   "name": "python",
   "nbconvert_exporter": "python",
   "pygments_lexer": "ipython3",
   "version": "3.10.12"
  }
 },
 "nbformat": 4,
 "nbformat_minor": 2
}
