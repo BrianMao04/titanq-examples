{
 "cells": [
  {
   "cell_type": "markdown",
   "metadata": {},
   "source": [
    "# Portfolio Strategy Backtesting\n",
    "In this notebook we backtest the portfolio optimization strategy presented in example.ipynb. We will:\n",
    "1. Select a market index (a portfolio) to construct a \"sub-portfolio\" from (e.g. the S&P 500 index).\n",
    "2. Select a time frame and frequency over which we will obtain historical data from (e.g. 2010 to 2015, monthly).\n",
    "3. Form the Market Correlation Graph (MCG) for the market index and solve the MWIS problem using TitanQ.\n",
    "4. Assign portfolio weights to the outputted MWIS problem solution to form the final portfolio.\n",
    "5. Evaluate the performance of the portfolio against the original market index over a future time frame (e.g. 2016 to 2017)."
   ]
  },
  {
   "cell_type": "code",
   "execution_count": 1,
   "metadata": {},
   "outputs": [],
   "source": [
    "# Copyright (c) 2024, InfinityQ Technology Inc.\n",
    "\n",
    "import numpy as np\n",
    "import pandas as pd\n",
    "import yfinance as yf\n",
    "import plotly.express as px\n",
    "import logging\n",
    "import warnings\n",
    "from utils import *\n",
    "from titanq import Model, Vtype, Target, S3Storage\n",
    "\n",
    "# Filter out FutureWarning messages due to yfinance using a deprecated pandas keyword\n",
    "warnings.simplefilter(action='ignore', category=FutureWarning)"
   ]
  },
  {
   "cell_type": "markdown",
   "metadata": {},
   "source": [
    "## Setting Credentials\n",
    "The user should configure their TitanQ API key here."
   ]
  },
  {
   "cell_type": "code",
   "execution_count": 2,
   "metadata": {},
   "outputs": [],
   "source": [
    "logging.getLogger('botocore').setLevel(logging.CRITICAL)\n",
    "logging.getLogger('urllib3').setLevel(logging.CRITICAL)\n",
    "\n",
    "# Enter your API key here\n",
    "# Obtain your API key by contacting --> support@infinityq.tech\n",
    "# Example: TITANQ_DEV_API_KEY = \"00000000-0000-0000-0000-000000000000\"\n",
    "TITANQ_DEV_API_KEY = None"
   ]
  },
  {
   "cell_type": "markdown",
   "metadata": {},
   "source": [
    "# Fetching Historical Data"
   ]
  },
  {
   "cell_type": "code",
   "execution_count": null,
   "metadata": {},
   "outputs": [],
   "source": [
    "# Read in tickers and weights from the instance file\n",
    "instance = \"S&P 500\"\n",
    "tickers, weights = read_instance(f\"instances/{instance}\")\n",
    "\n",
    "# Suggested: Set start_date and end_date to cover the entire time period you want to experiment on, so that you\n",
    "# only have to pull data from Yahoo Finance once (in this cell)\n",
    "# Recommended range is 2010-01-01 to 2023-12-31 for the S&P 500 instance\n",
    "start_date = \"2010-01-01\"\n",
    "end_date = \"2023-12-31\"\n",
    "\n",
    "# Period of returns. 'M' is monthly\n",
    "period = 'M'\n",
    "\n",
    "# Get daily closing prices\n",
    "close_prices = yf.download(tickers, start=start_date, end=end_date, auto_adjust=True)['Close'][tickers]\n",
    "\n",
    "# Prune delisted stocks\n",
    "close_prices = close_prices.dropna(axis=1, how='all')\n",
    "\n",
    "# Number of stocks in consideration (number of vertices in the graph)\n",
    "size = len(close_prices.columns)\n",
    "\n",
    "# Get periodic returns\n",
    "daily_returns = get_stock_daily_returns(close_prices)\n",
    "periodic_returns = daily_to_periodic_returns(daily_returns, period)\n",
    "\n",
    "# Get market index close prices. ^GSPC is the ticker/stock symbol for the S&P 500\n",
    "index_close_prices = yf.download(['^GSPC'], start=start_date, end=end_date, progress=False, auto_adjust=True)['Close']"
   ]
  },
  {
   "cell_type": "markdown",
   "metadata": {},
   "source": [
    "## Setting Up The Problem\n",
    "Here we form the Market Correlation Graph (MCG) by defining the adjacency matrix and node weights.\n",
    "\n"
   ]
  },
  {
   "cell_type": "code",
   "execution_count": 4,
   "metadata": {},
   "outputs": [],
   "source": [
    "# Time frames for \"training\" the portfolio and for evaluating its performance\n",
    "model_start_date = \"2021-01-01\"\n",
    "model_end_date = \"2021-12-31\"\n",
    "evaluation_start_date = \"2022-01-01\"\n",
    "evaluation_end_date = \"2022-12-31\"\n",
    "\n",
    "# Get close prices and returns for the training time period\n",
    "close_prices_training = close_prices.loc[model_start_date:model_end_date]\n",
    "returns = periodic_returns.loc[model_start_date:model_end_date]\n",
    "\n",
    "# Compute correlation matrix and adjacency matrix for the Market Correlation Graph (MCG)\n",
    "corr_matrix = get_stock_corr_matrix(returns)\n",
    "theta = 0.45\n",
    "J_matrix = corr_to_J_matrix(corr_matrix, theta)\n",
    "\n",
    "# Compute (geometric) mean returns\n",
    "mean_returns = get_stock_mean_returns(returns)\n",
    "\n",
    "# Compute standard deviations of returns\n",
    "stds = get_stock_stds(returns)\n",
    "\n",
    "# Node weights in MCG\n",
    "weights = np.array(mean_returns/stds, dtype=np.float32)"
   ]
  },
  {
   "cell_type": "markdown",
   "metadata": {},
   "source": [
    "# Formulating The MWIS Problem And Solving On TitanQ"
   ]
  },
  {
   "cell_type": "code",
   "execution_count": 5,
   "metadata": {},
   "outputs": [],
   "source": [
    "# Hyperparameters to tune\n",
    "A = 1\n",
    "B = 1\n",
    "\n",
    "#############\n",
    "# TitanQ SDK\n",
    "#############\n",
    "model = Model(\n",
    "    api_key=TITANQ_DEV_API_KEY,     \n",
    "    # Insert storage_client parameter and specify corresponding AWS keys and bucket name for solving very large problems\n",
    "    # storage_client=S3Storage(\n",
    "    #     access_key=AWS_ACCESS_KEY,\n",
    "    #     secret_key=AWS_SECRET_ACCESS_KEY,\n",
    "    #     bucket_name=AWS_BUCKET_NAME\n",
    "    # )\n",
    ")\n",
    "\n",
    "x = model.add_variable_vector('x', size, Vtype.BINARY)\n",
    "\n",
    "# Setting Objective Using Expression\n",
    "expr = A*0.5*np.dot(x.T, J_matrix.dot(x))-B*weights.dot(x)\n",
    "model.set_objective_expression(expr)"
   ]
  },
  {
   "cell_type": "code",
   "execution_count": 6,
   "metadata": {},
   "outputs": [],
   "source": [
    "# TitanQ Solver Hyperparameters\n",
    "coupling_mult = 0.03\n",
    "timeout_in_secs = 5\n",
    "num_chains = 32\n",
    "num_engines = 16\n",
    "Tmin = 0.05\n",
    "Tmax = 1\n",
    "beta = (1/np.linspace(Tmin, Tmax, num_chains, dtype=np.float32)).tolist()\n",
    "\n",
    "response = model.optimize(beta=beta, coupling_mult=coupling_mult, timeout_in_secs=timeout_in_secs, num_chains=num_chains, num_engines=num_engines)"
   ]
  },
  {
   "cell_type": "markdown",
   "metadata": {},
   "source": [
    "## Printing The Results\n",
    "In this section we print the results of the TitanQ solve, and map the solution to corresponding stock symbols."
   ]
  },
  {
   "cell_type": "code",
   "execution_count": null,
   "metadata": {},
   "outputs": [],
   "source": [
    "# Keep track of the index and the weight of the best solution\n",
    "best_idx = -1\n",
    "best_weight = 0\n",
    "\n",
    "for idx, solution in enumerate(response.x):\n",
    "    solution_weight = weights.dot(solution)\n",
    "\n",
    "    if best_idx == -1 or solution_weight > best_weight:\n",
    "        best_idx = idx\n",
    "        best_weight = solution_weight\n",
    "    \n",
    "        \n",
    "# Print the results of the best valid solution\n",
    "print(\"\\n-------- BEST VALID SOLUTION --------\")\n",
    "\n",
    "if best_idx == -1:\n",
    "    print(\"None of the engines returned valid solutions!\")\n",
    "    print(\"Try adjusting the hyperparameters further to yield some valid solutions.\")\n",
    "else:\n",
    "    portfolio_stocks = [tickers[i] for i in np.nonzero(response.x[best_idx])[0]]\n",
    "    print(f\"--- Engine {best_idx + 1} ---\")\n",
    "    print(\"stocks:\", portfolio_stocks)\n",
    "    print(\"weight:\", best_weight)\n",
    "    print(\"energy:\", response.computation_metrics().get('solutions_objective_value')[best_idx])"
   ]
  },
  {
   "cell_type": "markdown",
   "metadata": {},
   "source": [
    "# Portfolio Performance\n",
    "In this section we form an \"MWIS portfolio\" with the MWIS solution we obtained above, and we evaluate its performance over a future time period."
   ]
  },
  {
   "cell_type": "code",
   "execution_count": null,
   "metadata": {},
   "outputs": [],
   "source": [
    "close_prices_evaluation = close_prices.loc[evaluation_start_date:evaluation_end_date]\n",
    "\n",
    "# Portfolio with weights proportional to mean return/risk (same as node weights in the MCG for the MWIS problem)\n",
    "portfolio_prices = close_prices_evaluation[portfolio_stocks[0]] * weights[tickers.index(portfolio_stocks[0])]\n",
    "portfolio_weights = [weights[tickers.index(portfolio_stocks[0])]]\n",
    "\n",
    "for i in range(1, len(portfolio_stocks)):\n",
    "    stock_weight = weights[tickers.index(portfolio_stocks[i])]\n",
    "    portfolio_prices += close_prices_evaluation[portfolio_stocks[i]] * stock_weight\n",
    "    portfolio_weights.append(stock_weight)\n",
    "    \n",
    "portfolio_prices /= np.sum(portfolio_weights)\n",
    "\n",
    "# Print portfolio stocks and weights\n",
    "print(\"---- MWIS Portfolio ----\")\n",
    "portfolio_df = pd.DataFrame({\"Ticker\": portfolio_stocks, \"Weight\": portfolio_weights/np.sum(portfolio_weights)})\n",
    "portfolio_df = portfolio_df.sort_values(\"Weight\", ascending=False)\n",
    "print(portfolio_df.to_string(index=False))\n",
    "\n",
    "# Daily closing prices of the index\n",
    "index_close_prices_evaluation = index_close_prices.loc[evaluation_start_date:evaluation_end_date]\n",
    "\n",
    "# Dataframe with prices of the MWIS portfolio and the index\n",
    "comparison_prices = pd.concat({\"MWIS Portfolio\": portfolio_prices, \"S&P 500\": index_close_prices_evaluation}, axis=1)\n",
    "comparison_prices.fillna(method='ffill')\n",
    "comparison_returns = comparison_prices.ffill().pct_change()\n",
    "comparison_cumprod = comparison_returns.add(1).cumprod().sub(1)*100\n",
    "\n",
    "# Plot cumulative returns of both the MWIS portfolio and the market index\n",
    "fig = px.line(\n",
    "    comparison_cumprod,\n",
    "    x=comparison_cumprod.index,\n",
    "    y=comparison_cumprod.columns,\n",
    "    title=\"MWIS vs. S&P 500 Performance\")\n",
    "\n",
    "fig.update_layout(\n",
    "    legend_title=\"Portfolio\",\n",
    "    width=1000,\n",
    "    height=500\n",
    ")\n",
    "fig.update_xaxes(title_text=\"Date\")\n",
    "fig.update_yaxes(title_text=\"Cumulative Return (%)\")\n",
    "\n",
    "fig.show()"
   ]
  },
  {
   "cell_type": "code",
   "execution_count": null,
   "metadata": {},
   "outputs": [],
   "source": [
    "# Compare the mean return, risk, and Sharpe ratio of both portfolios\n",
    "comparison_periodic_returns = daily_to_periodic_returns(comparison_returns, 'M')\n",
    "\n",
    "print(\"---- Mean Return (%) ----\")\n",
    "comparison_means = get_stock_mean_returns(comparison_periodic_returns)\n",
    "print(comparison_means.to_string())\n",
    "\n",
    "print(\"\\n---- Risk (Std) (%) ----\")\n",
    "comparison_stds = get_stock_stds(comparison_periodic_returns)\n",
    "print(comparison_stds.to_string())\n",
    "\n",
    "print(\"\\n---- Sharpe Ratio ----\")\n",
    "# Historical 1 month US treasury bill rates from 2010 to 2023\n",
    "rf_rates = {2010: 0.15, 2011: 0.06, 2012: 0.04, 2013: 0.04, 2014: 0.03, 2015: 0.02, 2016: 0.18, 2017: 0.74, 2018: 1.62,\n",
    "            2019: 2.43, 2020: 0.04, 2021: 0.01, 2022: 0.15, 2023: 4.70}\n",
    "evaluation_start_year = int(evaluation_start_date[:4])\n",
    "risk_free = rf_rates.get(evaluation_start_year)/12\n",
    "comparison_sharpe_ratios = (comparison_means - risk_free)/comparison_stds\n",
    "print(comparison_sharpe_ratios.to_string())"
   ]
  }
 ],
 "metadata": {
  "kernelspec": {
   "display_name": "algorithms_repo_env",
   "language": "python",
   "name": "python3"
  },
  "language_info": {
   "codemirror_mode": {
    "name": "ipython",
    "version": 3
   },
   "file_extension": ".py",
   "mimetype": "text/x-python",
   "name": "python",
   "nbconvert_exporter": "python",
   "pygments_lexer": "ipython3",
   "version": "3.12.3"
  }
 },
 "nbformat": 4,
 "nbformat_minor": 2
}
