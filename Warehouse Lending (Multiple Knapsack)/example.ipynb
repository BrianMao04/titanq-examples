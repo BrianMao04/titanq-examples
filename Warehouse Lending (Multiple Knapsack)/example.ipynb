{
 "cells": [
  {
   "cell_type": "code",
   "execution_count": 16,
   "metadata": {},
   "outputs": [],
   "source": [
    "# Copyright (c) 2024, InfinityQ Technology Inc.\n",
    "\n",
    "import copy\n",
    "import pprint\n",
    "import numpy as np\n",
    "import logging\n",
    "import json\n",
    "from titanq import Model, Vtype, Target, S3Storage\n",
    "import utils\n",
    "import problem_gen"
   ]
  },
  {
   "cell_type": "markdown",
   "metadata": {},
   "source": [
    "#### Setting Credentials\n",
    "\n",
    "The user should configure their TitanQ API key here. For very large problems, the user must also configure an AWS Access key, AWS Secret Access key and AWS Bucket Name."
   ]
  },
  {
   "cell_type": "code",
   "execution_count": null,
   "metadata": {},
   "outputs": [],
   "source": [
    "logging.getLogger('botocore').setLevel(logging.CRITICAL)\n",
    "logging.getLogger('urllib3').setLevel(logging.CRITICAL)\n",
    "\n",
    "# Enter your API Key Here\n",
    "# Obtain your API key by contacting --> support@infinityq.tech\n",
    "# Example: TITANQ_DEV_API_KEY = \"00000000-0000-0000-0000-000000000000\"\n",
    "TITANQ_DEV_API_KEY = None\n",
    "\n",
    "# Specify AWS keys and bucket name for solving very large problems\n",
    "# AWS_ACCESS_KEY = \"Your Access key\"\n",
    "# AWS_SECRET_ACCESS_KEY = \"Your secret access key\"\n",
    "# AWS_BUCKET_NAME = \"Your bucket name\""
   ]
  },
  {
   "cell_type": "markdown",
   "metadata": {},
   "source": [
    "#### List of warehouses"
   ]
  },
  {
   "cell_type": "code",
   "execution_count": 18,
   "metadata": {},
   "outputs": [],
   "source": [
    "with open(\"input/warehouses.json\") as f:\n",
    "    warehouses = json.load(f)"
   ]
  },
  {
   "cell_type": "markdown",
   "metadata": {},
   "source": [
    "#### List of loans to be assigned to warehouses"
   ]
  },
  {
   "cell_type": "code",
   "execution_count": 19,
   "metadata": {},
   "outputs": [],
   "source": [
    "with open(\"input/loans.json\") as f:\n",
    "    new_loans = json.load(f)"
   ]
  },
  {
   "cell_type": "markdown",
   "metadata": {},
   "source": [
    "#### Generate dictionary of valid warehouse assignments for the loans"
   ]
  },
  {
   "cell_type": "code",
   "execution_count": 20,
   "metadata": {},
   "outputs": [],
   "source": [
    "model = problem_gen.WarehouseLendingModel(new_loans,warehouses)\n",
    "\n",
    "model.generate_valid_loan_warehouse_assignments()"
   ]
  },
  {
   "cell_type": "markdown",
   "metadata": {},
   "source": [
    "#### Generate dictionary of loans that a warehouse could take (inverse of previous dictionary)"
   ]
  },
  {
   "cell_type": "code",
   "execution_count": 21,
   "metadata": {},
   "outputs": [],
   "source": [
    "model.generate_valid_warehouse_loan_assignments()"
   ]
  },
  {
   "cell_type": "markdown",
   "metadata": {},
   "source": [
    "#### Add variables to the model dictionary"
   ]
  },
  {
   "cell_type": "code",
   "execution_count": 22,
   "metadata": {},
   "outputs": [],
   "source": [
    "model.add_variables()"
   ]
  },
  {
   "cell_type": "markdown",
   "metadata": {},
   "source": [
    "#### Add constraints to the model dictionary"
   ]
  },
  {
   "cell_type": "code",
   "execution_count": 23,
   "metadata": {},
   "outputs": [],
   "source": [
    "model.add_constraints()"
   ]
  },
  {
   "cell_type": "markdown",
   "metadata": {},
   "source": [
    "#### Add objective function components"
   ]
  },
  {
   "cell_type": "code",
   "execution_count": 24,
   "metadata": {},
   "outputs": [],
   "source": [
    "model.add_objective()"
   ]
  },
  {
   "cell_type": "markdown",
   "metadata": {},
   "source": [
    "#### Set some hyperparameters for the strength of constraints"
   ]
  },
  {
   "cell_type": "code",
   "execution_count": 25,
   "metadata": {},
   "outputs": [],
   "source": [
    "model.set_constraint_strength()"
   ]
  },
  {
   "cell_type": "markdown",
   "metadata": {},
   "source": [
    "#### Compile model_dict to generate the input matrices to titanQ"
   ]
  },
  {
   "cell_type": "code",
   "execution_count": 26,
   "metadata": {},
   "outputs": [],
   "source": [
    "num_variables, weight_matrix, bias_vector = utils.gen_data(model.model_dict)"
   ]
  },
  {
   "cell_type": "markdown",
   "metadata": {},
   "source": [
    "#### Building the model on TitanQ"
   ]
  },
  {
   "cell_type": "code",
   "execution_count": 27,
   "metadata": {},
   "outputs": [],
   "source": [
    "#############\n",
    "# TitanQ SDK\n",
    "#############\n",
    "titanq_model = Model(\n",
    "    api_key=TITANQ_DEV_API_KEY,\n",
    "    # Insert storage_client parameter and specify corresponding AWS keys and bucket name for solving very large problems\n",
    "    # storage_client=S3Storage(\n",
    "    #     access_key=AWS_ACCESS_KEY,\n",
    "    #     secret_key=AWS_SECRET_ACCESS_KEY,\n",
    "    #     bucket_name=AWS_BUCKET_NAME\n",
    "    # )\n",
    ")\n",
    "x = titanq_model.add_variable_vector('x', num_variables, Vtype.BINARY)\n",
    "titanq_model.set_objective_matrices(weight_matrix, bias_vector, Target.MINIMIZE)\n",
    "\n",
    "# Add constraints as expression\n",
    "for con in model.model_dict[\"hard_constraints\"]:\n",
    "    expr = sum(var[1] * x[model.model_dict[\"name_id\"][var[0][0]]] for var in con[0]) == 1\n",
    "    titanq_model.add_constraint_from_expression(expr)"
   ]
  },
  {
   "cell_type": "markdown",
   "metadata": {},
   "source": [
    "#### Setting TitanQ hyperparameters"
   ]
  },
  {
   "cell_type": "code",
   "execution_count": 28,
   "metadata": {},
   "outputs": [],
   "source": [
    "num_chains = 32\n",
    "num_engines = 16\n",
    "T_min = 1.0\n",
    "T_max = 1.0e6\n",
    "temperatures = np.geomspace(T_min, T_max, num_chains, dtype=np.float32)\n",
    "beta = (1.0/temperatures)\n",
    "coupling_mult = 0.3\n",
    "timeout_in_seconds = 3.0"
   ]
  },
  {
   "cell_type": "markdown",
   "metadata": {},
   "source": [
    "#### Solving the model using TitanQ"
   ]
  },
  {
   "cell_type": "code",
   "execution_count": 29,
   "metadata": {},
   "outputs": [],
   "source": [
    "response = titanq_model.optimize(\n",
    "    beta = 1./temperatures,\n",
    "    coupling_mult = coupling_mult, \n",
    "    timeout_in_secs = timeout_in_seconds, \n",
    "    num_chains = num_chains, \n",
    "    num_engines = num_engines\n",
    ")"
   ]
  },
  {
   "cell_type": "markdown",
   "metadata": {},
   "source": [
    "#### Extracting the solution"
   ]
  },
  {
   "cell_type": "code",
   "execution_count": 30,
   "metadata": {},
   "outputs": [
    {
     "name": "stdout",
     "output_type": "stream",
     "text": [
      "-------- CHECKING SOLUTIONS --------\n",
      "Best Assignment:  [1 0 1 0 1 1 1]\n",
      "Best Solution Index:  0\n",
      "\n",
      "-------- Warehouse Dictionary After Loan Assignment --------\n",
      "[{'available_funds': 496.0,\n",
      "  'name': 'small_bank_0',\n",
      "  'pools': [{'category': 'location',\n",
      "             'current_pct': 0.04807692307692308,\n",
      "             'limit_pct': 0.1,\n",
      "             'name': 'quebec',\n",
      "             'value': 5.0},\n",
      "            {'category': 'location',\n",
      "             'current_pct': 0.09615384615384616,\n",
      "             'limit_pct': 0.1,\n",
      "             'name': 'ontario',\n",
      "             'value': 10.0},\n",
      "            {'category': 'location',\n",
      "             'current_pct': 0.04807692307692308,\n",
      "             'limit_pct': 0.075,\n",
      "             'name': 'nova_scotia',\n",
      "             'value': 5.0},\n",
      "            {'category': 'purpose',\n",
      "             'current_pct': 0.22115384615384615,\n",
      "             'limit_pct': 0.25,\n",
      "             'name': 'mortgage',\n",
      "             'value': 23.0},\n",
      "            {'category': 'purpose',\n",
      "             'current_pct': 0.04807692307692308,\n",
      "             'limit_pct': 0.05,\n",
      "             'name': 'car',\n",
      "             'value': 5.0},\n",
      "            {'category': 'purpose',\n",
      "             'current_pct': 0.07692307692307693,\n",
      "             'limit_pct': 0.1,\n",
      "             'name': 'small_business',\n",
      "             'value': 8.0}],\n",
      "  'total_loans': 104.0},\n",
      " {'available_funds': 1461.0,\n",
      "  'name': 'vc_fund_0',\n",
      "  'pools': [{'category': 'location',\n",
      "             'current_pct': 0.10009624639076034,\n",
      "             'limit_pct': 0.11,\n",
      "             'name': 'quebec',\n",
      "             'value': 104.0},\n",
      "            {'category': 'location',\n",
      "             'current_pct': 0.2358036573628489,\n",
      "             'limit_pct': 0.25,\n",
      "             'name': 'california',\n",
      "             'value': 245.0},\n",
      "            {'category': 'purpose',\n",
      "             'current_pct': 0.07988450433108758,\n",
      "             'limit_pct': 0.1,\n",
      "             'name': 'mortgage',\n",
      "             'value': 83.0},\n",
      "            {'category': 'purpose',\n",
      "             'current_pct': 0.02021174205967276,\n",
      "             'limit_pct': 0.05,\n",
      "             'name': 'car',\n",
      "             'value': 21.0},\n",
      "            {'category': 'purpose',\n",
      "             'current_pct': 0.09432146294513956,\n",
      "             'limit_pct': 0.1,\n",
      "             'name': 'ai_startup',\n",
      "             'value': 98.0},\n",
      "            {'category': 'purpose',\n",
      "             'current_pct': 0.18286814244465832,\n",
      "             'limit_pct': 0.25,\n",
      "             'name': 'blockchain_startup',\n",
      "             'value': 190.0}],\n",
      "  'total_loans': 1039.0}]\n"
     ]
    }
   ],
   "source": [
    "solution_found = False\n",
    "best_objective = 0\n",
    "\n",
    "best_idx = -1\n",
    "best_objective = 0\n",
    "best_assignment = []\n",
    "best_wh_state = dict()\n",
    "\n",
    "print(\"-------- CHECKING SOLUTIONS --------\")\n",
    "for idx, solution in enumerate(response.x):\n",
    "    obj = np.dot(np.dot(solution, weight_matrix), solution) + np.dot(bias_vector, solution)\n",
    "    passed = True\n",
    "    loan_assignments = np.zeros(model.num_new_loans, dtype=int)\n",
    "\n",
    "    # Extract loan assignments from solution state\n",
    "    # Check set partitioning constraints\n",
    "    for loan_i in range(model.num_new_loans):\n",
    "        set_part_accum = 0\n",
    "\n",
    "        # Check all warehouse assignment variables for loan_i\n",
    "        # Exactly one of them should = 1, and the rest = 0\n",
    "        for wh in model.valid_loan_wh[loan_i]:\n",
    "            name = f'l_{loan_i}_wh_{wh}'\n",
    "\n",
    "            var_id = model.model_dict[\"name_id\"][name]\n",
    "\n",
    "            if solution[var_id] == 1:\n",
    "                set_part_accum += 1\n",
    "\n",
    "                loan_assignments[loan_i] = wh\n",
    "        \n",
    "        if set_part_accum != 1:\n",
    "            passed = False\n",
    "            break\n",
    "    \n",
    "    if not passed:\n",
    "        continue\n",
    "\n",
    "    # Add loan values to the warehouses and pools that they're assigned to\n",
    "    for i in range(model.num_new_loans):\n",
    "        i_wh = loan_assignments[i] \n",
    "\n",
    "        warehouses[i_wh][\"total_loans\"] += new_loans[i][\"value\"]\n",
    "        warehouses[i_wh][\"available_funds\"] -= new_loans[i][\"value\"]\n",
    "\n",
    "        num_pools = len(warehouses[i_wh][\"pools\"])\n",
    "\n",
    "        for k in range(num_pools):\n",
    "            if warehouses[i_wh][\"pools\"][k][\"name\"] in new_loans[i][\"pools\"]:\n",
    "                warehouses[i_wh][\"pools\"][k][\"value\"] += new_loans[i][\"value\"]\n",
    "\n",
    "\n",
    "    # Update percentage values of pools in warehouses\n",
    "    for j in range(model.num_warehouses):\n",
    "        num_pools = len(warehouses[j][\"pools\"])\n",
    "\n",
    "        for k in range(num_pools):\n",
    "            warehouses[j][\"pools\"][k][\"current_pct\"] = warehouses[j][\"pools\"][k][\"value\"]/warehouses[j][\"total_loans\"]\n",
    "\n",
    "    # Check if any pool limits are violated\n",
    "    for wh in warehouses:\n",
    "        for pool in wh[\"pools\"]:\n",
    "            if pool[\"current_pct\"] > pool[\"limit_pct\"]:\n",
    "                passed = False\n",
    "            \n",
    "    \n",
    "    if passed and obj < best_objective:\n",
    "        best_assignment = loan_assignments.copy()\n",
    "        \n",
    "        best_wh_state = [copy.deepcopy(wh) for wh in warehouses]\n",
    "        \n",
    "        best_idx = idx\n",
    "        best_objective = obj\n",
    "        solution_found = True\n",
    "        \n",
    "    \n",
    "if solution_found:\n",
    "    print(\"Best Assignment: \", best_assignment)\n",
    "    print(\"Best Solution Index: \", best_idx)\n",
    "    print(\"\")\n",
    "    print(\"-------- Warehouse Dictionary After Loan Assignment --------\")\n",
    "    pprint.pprint(best_wh_state)\n",
    "\n",
    "else:\n",
    "    print(\"No valid solution reached\")"
   ]
  }
 ],
 "metadata": {
  "kernelspec": {
   "display_name": "Python 3",
   "language": "python",
   "name": "python3"
  },
  "language_info": {
   "codemirror_mode": {
    "name": "ipython",
    "version": 3
   },
   "file_extension": ".py",
   "mimetype": "text/x-python",
   "name": "python",
   "nbconvert_exporter": "python",
   "pygments_lexer": "ipython3",
   "version": "3.10.12"
  }
 },
 "nbformat": 4,
 "nbformat_minor": 4
}
