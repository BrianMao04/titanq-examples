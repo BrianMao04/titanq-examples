{
 "cells": [
  {
   "cell_type": "code",
   "execution_count": 1,
   "metadata": {},
   "outputs": [],
   "source": [
    "# Copyright (c) 2024, InfinityQ Technology Inc.\n",
    "\n",
    "import numpy as np\n",
    "from titanq import Model, Vtype, Target, S3Storage\n",
    "from utils import parse_input"
   ]
  },
  {
   "cell_type": "markdown",
   "metadata": {},
   "source": [
    "# Setting Credentials\n",
    "The user should configure their TitanQ API key here. For very large problems, the user must also configure an AWS Access key, AWS Secret Access key, and AWS bucket name."
   ]
  },
  {
   "cell_type": "code",
   "execution_count": 2,
   "metadata": {},
   "outputs": [],
   "source": [
    "# Enter your API key here\n",
    "# Obtain your API key by contacting --> support@infinityq.tech\n",
    "# Example: TITANQ_DEV_API_KEY = \"00000000-0000-0000-0000-000000000000\"\n",
    "TITANQ_DEV_API_KEY = None\n",
    "\n",
    "# Specify AWS keys and bucket name for solving very large problems\n",
    "# AWS_ACCESS_KEY = \"Access Key\"\n",
    "# AWS_SECRET_ACCESS_KEY = \"Secret Access Key\"\n",
    "# AWS_BUCKET_NAME = \"Bucket Name\""
   ]
  },
  {
   "cell_type": "markdown",
   "metadata": {},
   "source": [
    "# Setting Up the Problem\n",
    "Here, we select an instance from the `instances` directory. We then parse the adjacency matrix $A$ and the number of variables $N$ for the instance's graph."
   ]
  },
  {
   "cell_type": "code",
   "execution_count": 3,
   "metadata": {},
   "outputs": [],
   "source": [
    "instance_file_name = 'C125.9.clq'\n",
    "instance_folder_path = 'instances'\n",
    "\n",
    "A, N = parse_input(f'{instance_folder_path}/{instance_file_name}')"
   ]
  },
  {
   "cell_type": "code",
   "execution_count": 4,
   "metadata": {},
   "outputs": [
    {
     "name": "stdout",
     "output_type": "stream",
     "text": [
      "Number of vertices: N=125\n",
      "-------- Adjacency Matrix --------\n",
      "[[0. 1. 1. ... 1. 1. 1.]\n",
      " [1. 0. 0. ... 1. 1. 1.]\n",
      " [1. 0. 0. ... 1. 1. 1.]\n",
      " ...\n",
      " [1. 1. 1. ... 0. 1. 1.]\n",
      " [1. 1. 1. ... 1. 0. 1.]\n",
      " [1. 1. 1. ... 1. 1. 0.]]\n",
      "----------------------------------\n"
     ]
    }
   ],
   "source": [
    "# Display adjacency matrix from above\n",
    "print(f'Number of vertices: {N=}')\n",
    "print('-------- Adjacency Matrix --------')\n",
    "print(A)\n",
    "print('----------------------------------')"
   ]
  },
  {
   "cell_type": "markdown",
   "metadata": {},
   "source": [
    "# Construct the Objective and Constraints for TitanQ\n",
    "Recall that our objective is to maximize the size of our clique. Our clique is represented by a binary vector $\\mathbf{x}=\\begin{bmatrix}x_1 & x_2 & \\cdots & x_N\\end{bmatrix}^T \\in \\{0, 1\\}^N$ where $x_i = 1$ when the $i^{th}$ node is in the clique. The size of the clique is then $\\sum_{i=1}^{N}x_i=\\begin{bmatrix}1 & 1 & \\cdots & 1\\end{bmatrix}\\mathbf{x}$. To formulate this in TitanQ, we can take our bias vector as $b=\\begin{bmatrix}1 & 1 & \\cdots & 1\\end{bmatrix}^T$. Note that to frame this as a minimization problem, we must negate $b$ so that our objective function is minimized at the maximum clique size."
   ]
  },
  {
   "cell_type": "code",
   "execution_count": 5,
   "metadata": {},
   "outputs": [],
   "source": [
    "weights = None\n",
    "bias = -np.ones((N,), dtype=np.float32)"
   ]
  },
  {
   "cell_type": "markdown",
   "metadata": {},
   "source": [
    "Additionally, as discussed in the [README](README.md), we have our quadratic constraint that asserts that the set defined by $x$ is indeed a clique. This constraint is of the form $\\mathbf{x}^T(\\mathbf{1}_{N\\times N}-\\mathbf{A}-\\mathbf{I})x=0$, and can be formulated in TitanQ as follows.\n"
   ]
  },
  {
   "cell_type": "code",
   "execution_count": 6,
   "metadata": {},
   "outputs": [],
   "source": [
    "quadratic_constraint_mask = np.ones((N,N), dtype=np.float32) - A -  np.eye(N, dtype=np.float32)\n",
    "quadratic_constraint_limit = 0"
   ]
  },
  {
   "cell_type": "markdown",
   "metadata": {},
   "source": [
    "# Inputting the Problem to TitanQ\n",
    "The user should provide the credentials they defined earlier. We then initialize a TitanQ model by creating the variable $x$ and setting the weights and bias vector."
   ]
  },
  {
   "cell_type": "code",
   "execution_count": 7,
   "metadata": {},
   "outputs": [],
   "source": [
    "##############\n",
    "# TitanQ SDK #\n",
    "##############\n",
    "model = Model(\n",
    "    api_key=TITANQ_DEV_API_KEY,\n",
    "    # Insert storage_client parameter and specify corresponding AWS keys and bucket name for solving very large problems\n",
    "    # storage_client=S3Storage(\n",
    "    #     access_key=AWS_ACCESS_KEY,\n",
    "    #     secret_key=AWS_SECRET_ACCESS_KEY,\n",
    "    #     bucket_name=AWS_BUCKET_NAME\n",
    "    # )\n",
    ")\n",
    "model.add_variable_vector(name = 'x', size = N, vtype = Vtype.BINARY)\n",
    "model.set_objective_matrices(weights, bias, target = Target.MINIMIZE)\n",
    "model.add_quadratic_equality_constraint(quadratic_constraint_mask, quadratic_constraint_limit)"
   ]
  },
  {
   "cell_type": "markdown",
   "metadata": {},
   "source": [
    "The user can modify the below parameters to tune the problem for a specific instance. Increasing the timeout results in the solver running for longer, allowing it to find better quality solutions. To tune the number of chains and engines, as well as the beta values, see the [tuning guide](https://docs.titanq.infinityq.io/user-guide/parameter_tuning_guide)."
   ]
  },
  {
   "cell_type": "code",
   "execution_count": 8,
   "metadata": {},
   "outputs": [],
   "source": [
    "timeout_in_seconds = 10\n",
    "num_chains = 32\n",
    "num_engines = 8\n",
    "T_min = 1e-4\n",
    "T_max = 1\n",
    "\n",
    "titanq_args = {\n",
    "  'timeout_in_secs': timeout_in_seconds,\n",
    "  'num_chains': num_chains,\n",
    "  'num_engines': num_engines,\n",
    "  'beta': list(1/np.geomspace(T_min, T_max, num_chains)),\n",
    "}"
   ]
  },
  {
   "cell_type": "code",
   "execution_count": 9,
   "metadata": {},
   "outputs": [],
   "source": [
    "response = model.optimize(**titanq_args)"
   ]
  },
  {
   "cell_type": "markdown",
   "metadata": {},
   "source": [
    "# Printing the Results\n",
    "TitanQ has solved the model and found a potential maximum clique on each engine. We can check if the solution found corresponds to a clique by checking if our quadratic constraint was violated. Here, we print the result of each engine, as well as the best found valid result."
   ]
  },
  {
   "cell_type": "code",
   "execution_count": 10,
   "metadata": {},
   "outputs": [
    {
     "name": "stdout",
     "output_type": "stream",
     "text": [
      "-------- All Engine Results --------\n",
      "\n",
      "---- Engine 1 ----\n",
      "\tClique Size = 34\t Clique = [4, 8, 10, 13, 16, 18, 23, 24, 28, 30, 33, 39, 43, 44, 48, 51, 53, 54, 64, 65, 66, 69, 76, 78, 79, 95, 97, 98, 102, 103, 109, 116, 121, 124]\n",
      "\t which is a clique.\n",
      "\n",
      "---- Engine 2 ----\n",
      "\tClique Size = 34\t Clique = [0, 1, 4, 6, 8, 10, 17, 24, 28, 30, 33, 39, 43, 44, 47, 48, 53, 59, 67, 69, 70, 76, 78, 79, 98, 100, 109, 113, 114, 116, 120, 121, 122, 124]\n",
      "\t which is a clique.\n",
      "\n",
      "---- Engine 3 ----\n",
      "\tClique Size = 34\t Clique = [0, 4, 6, 8, 10, 12, 16, 18, 23, 24, 28, 30, 33, 43, 44, 48, 51, 53, 54, 65, 69, 76, 78, 79, 84, 95, 97, 98, 102, 103, 109, 116, 121, 124]\n",
      "\t which is a clique.\n",
      "\n",
      "---- Engine 4 ----\n",
      "\tClique Size = 34\t Clique = [0, 4, 6, 8, 10, 16, 18, 24, 28, 30, 33, 43, 44, 48, 51, 54, 65, 69, 76, 78, 79, 81, 84, 90, 95, 97, 102, 103, 109, 113, 116, 120, 121, 124]\n",
      "\t which is a clique.\n",
      "\n",
      "---- Engine 5 ----\n",
      "\tClique Size = 34\t Clique = [4, 6, 8, 10, 16, 18, 23, 24, 28, 30, 33, 39, 43, 48, 51, 53, 54, 64, 65, 66, 69, 76, 78, 79, 81, 92, 95, 97, 102, 103, 109, 116, 121, 124]\n",
      "\t which is a clique.\n",
      "\n",
      "---- Engine 6 ----\n",
      "\tClique Size = 34\t Clique = [0, 4, 6, 8, 10, 16, 18, 24, 28, 30, 33, 43, 44, 48, 51, 53, 54, 64, 65, 69, 76, 78, 79, 84, 95, 97, 98, 102, 103, 109, 113, 116, 121, 124]\n",
      "\t which is a clique.\n",
      "\n",
      "---- Engine 7 ----\n",
      "\tClique Size = 34\t Clique = [4, 6, 8, 10, 12, 18, 24, 28, 30, 33, 43, 44, 48, 49, 51, 53, 54, 65, 66, 67, 69, 76, 79, 84, 95, 97, 98, 102, 103, 109, 113, 116, 121, 124]\n",
      "\t which is a clique.\n",
      "\n",
      "---- Engine 8 ----\n",
      "\tClique Size = 34\t Clique = [0, 4, 6, 8, 10, 12, 18, 24, 28, 30, 33, 39, 43, 44, 48, 51, 54, 65, 67, 69, 76, 78, 79, 90, 95, 97, 98, 102, 103, 109, 113, 116, 121, 124]\n",
      "\t which is a clique.\n"
     ]
    }
   ],
   "source": [
    "best_idx = -1\n",
    "best_size = 0\n",
    "max_clique = []\n",
    "\n",
    "print('-------- All Engine Results --------')\n",
    "for engine, (neg_size, solution) in enumerate(response.result_items()):\n",
    "    clique = [i for i, state in enumerate(solution) if state != 0]\n",
    "    is_clique = response.constraint_violations()[0][engine] == 0\n",
    "    if is_clique and -neg_size > best_size:\n",
    "        best_idx = engine\n",
    "        best_size = -neg_size\n",
    "        max_clique = clique\n",
    "    print(f'\\n---- Engine {engine + 1} ----')\n",
    "    print(f'\\tClique Size = {-neg_size}\\t Clique = {clique}')\n",
    "    print(f'\\t which is {\"a clique\" if is_clique else \"not a clique\"}.')"
   ]
  },
  {
   "cell_type": "code",
   "execution_count": 11,
   "metadata": {},
   "outputs": [
    {
     "name": "stdout",
     "output_type": "stream",
     "text": [
      "\n",
      "-------- Best Solution --------\n",
      "---- Engine 1 ----\n",
      "\tClique Size = 34\t Clique = [4, 8, 10, 13, 16, 18, 23, 24, 28, 30, 33, 39, 43, 44, 48, 51, 53, 54, 64, 65, 66, 69, 76, 78, 79, 95, 97, 98, 102, 103, 109, 116, 121, 124]\n"
     ]
    }
   ],
   "source": [
    "print('\\n-------- Best Solution --------')\n",
    "if best_idx == -1:\n",
    "    print(\"None of the engines returned a valid solutuon.\")\n",
    "    print(\"Try adjusting the hyperparameters further to yield valid solutions.\")\n",
    "else:\n",
    "    print(f\"---- Engine {best_idx + 1} ----\")\n",
    "    print(f'\\tClique Size = {best_size}\\t Clique = {max_clique}')"
   ]
  }
 ],
 "metadata": {
  "kernelspec": {
   "display_name": "hydrogen",
   "language": "python",
   "name": "python3"
  },
  "language_info": {
   "codemirror_mode": {
    "name": "ipython",
    "version": 3
   },
   "file_extension": ".py",
   "mimetype": "text/x-python",
   "name": "python",
   "nbconvert_exporter": "python",
   "pygments_lexer": "ipython3",
   "version": "3.12.3"
  }
 },
 "nbformat": 4,
 "nbformat_minor": 2
}
