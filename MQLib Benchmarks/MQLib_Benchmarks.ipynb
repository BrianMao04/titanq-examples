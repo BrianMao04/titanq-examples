{
 "cells": [
  {
   "attachments": {},
   "cell_type": "markdown",
   "metadata": {},
   "source": [
    "TitanQ API Key"
   ]
  },
  {
   "cell_type": "code",
   "execution_count": 1,
   "metadata": {},
   "outputs": [],
   "source": [
    "# Enter your API Key Here\n",
    "# Obtain your API key by contacting --> support@infinityq.tech\n",
    "# Example: TITANQ_DEV_API_KEY = \"00000000-0000-0000-0000-000000000000\"\n",
    "TITANQ_DEV_API_KEY = input(\"Please enter your API key (e.g. 00000000-0000-0000-0000-000000000000):\")"
   ]
  },
  {
   "cell_type": "markdown",
   "metadata": {},
   "source": [
    "User Specifications"
   ]
  },
  {
   "cell_type": "code",
   "execution_count": null,
   "metadata": {},
   "outputs": [],
   "source": [
    "instance_name = \"Enter Instance Name Here\"\n",
    "#Ex: \"g000989\"\n",
    "\n",
    "num_runs = 1\n",
    "\n",
    "instance_file_path = \"Enter File Path Here\" \n",
    "#Ex: \"hss-overview-benchmarks/qubos\""
   ]
  },
  {
   "attachments": {},
   "cell_type": "markdown",
   "metadata": {},
   "source": [
    "Imports and Logging Setup"
   ]
  },
  {
   "cell_type": "code",
   "execution_count": null,
   "metadata": {},
   "outputs": [],
   "source": [
    "# Prompt the user and wait for an answer before installing dependencies.\n",
    "# Note: Usage of a virtual Python environment is recommended.\n",
    "if input(\"Install Python dependencies? [y/n]\").lower() == \"y\":\n",
    "    print(\"Installing dependencies (this can take a few minutes)...\")\n",
    "    !pip install -r \"requirements.txt\" --upgrade\n",
    "else:\n",
    "    print(\"Skipping dependency installation.\")\n",
    "\n",
    "import numpy as np\n",
    "import logging\n",
    "from MQLib_utils import *\n",
    "from titanq import Model, Vtype, Target\n",
    "\n",
    "logging.getLogger('botocore').setLevel(logging.CRITICAL)\n",
    "logging.getLogger('urllib3').setLevel(logging.CRITICAL)"
   ]
  },
  {
   "attachments": {},
   "cell_type": "markdown",
   "metadata": {},
   "source": [
    "Load Instance + Hyperparameters"
   ]
  },
  {
   "cell_type": "code",
   "execution_count": null,
   "metadata": {},
   "outputs": [],
   "source": [
    "weight_matrix, bias_vector = generate_weights_bias(instance_name, instance_file_path)\n",
    "T_min, T_max, coupling_mult, num_chains, num_engines = load_hyperparameters(instance_name)\n",
    "betas = 1/(np.linspace(T_min, T_max, num_chains, dtype=np.float32))"
   ]
  },
  {
   "attachments": {},
   "cell_type": "markdown",
   "metadata": {},
   "source": [
    "TitanQ SDK Setup"
   ]
  },
  {
   "cell_type": "code",
   "execution_count": null,
   "metadata": {},
   "outputs": [],
   "source": [
    "model = Model(api_key=TITANQ_DEV_API_KEY)\n",
    "model.add_variable_vector('x', weight_matrix.shape[0], Vtype.BINARY)\n",
    "model.set_objective_matrices(weight_matrix, bias_vector, Target.MINIMIZE)"
   ]
  },
  {
   "attachments": {},
   "cell_type": "markdown",
   "metadata": {},
   "source": [
    "Solver + Results"
   ]
  },
  {
   "cell_type": "code",
   "execution_count": null,
   "metadata": {},
   "outputs": [],
   "source": [
    "print(\"--- RESULTS ---\")\n",
    "print(\"Instance:\", instance_name)\n",
    "print()\n",
    "\n",
    "qubo_float64 = read_instance(instance_file_path + \"/\" + instance_name)\n",
    "\n",
    "for i in range(num_runs):\n",
    "    response = model.optimize(beta = betas, coupling_mult = coupling_mult, timeout_in_secs = 300, num_chains = num_chains, num_engines = num_engines)\n",
    "    print(\"Run #:\", i+1)\n",
    "    \n",
    "    min_idx = np.argmin(np.array(response.ising_energy))\n",
    "    sol = np.array(response.x[min_idx], dtype=np.float64)\n",
    "    calc_energy = np.dot(np.dot(sol, qubo_float64), sol)\n",
    "    print(\"Minimum Ising Energy:\", calc_energy)\n",
    "    \n",
    "    print(\"Solve Time(s):\", response.computation_metrics()['solve_time_in_secs'])\n",
    "    print()"
   ]
  }
 ],
 "metadata": {
  "kernelspec": {
   "display_name": "base",
   "language": "python",
   "name": "python3"
  },
  "language_info": {
   "codemirror_mode": {
    "name": "ipython",
    "version": 3
   },
   "file_extension": ".py",
   "mimetype": "text/x-python",
   "name": "python",
   "nbconvert_exporter": "python",
   "pygments_lexer": "ipython3",
   "version": "3.12.3"
  },
  "orig_nbformat": 4,
  "vscode": {
   "interpreter": {
    "hash": "9f5834f9f8c9cc5e200d1ccb05ed3d9095111aba7c82c3b351e2e675f32cba47"
   }
  }
 },
 "nbformat": 4,
 "nbformat_minor": 2
}
