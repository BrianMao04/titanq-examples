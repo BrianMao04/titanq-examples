{
 "cells": [
  {
   "cell_type": "markdown",
   "metadata": {},
   "source": [
    "# Network Intrusion Detection\n",
    "\n",
    "The following example is an extension of `example.ipynb`, based on the paper [A Quantum Feature Selection Method for Network Intrusion Detection](https://ieeexplore.ieee.org/document/9973722). In many machine learning problems, features will be categorized into different *feature classes*. \n",
    "\n",
    "This will be performed on the NSL-KDD dataset, which is a cleaned version of the KDDCUP99 dataset. KDDTraint+ and KDDTest+ are the training and testing sets of NSL-KDD respectively.\n",
    "\n",
    "The 42 features are split into 4 distinct classes:\n",
    "\n",
    "- Basic network connection features\n",
    "- Content related features\n",
    "- Time-related traffic features\n",
    "- Host-based traffic features\n",
    "\n",
    "The data itself is classified into 5 types of network attacks: Normal, DoS, Probe, R2L, and U2R, which are encoded with integers 0-4."
   ]
  },
  {
   "cell_type": "code",
   "execution_count": null,
   "metadata": {},
   "outputs": [],
   "source": [
    "# Copyright (c) 2025, InfinityQ Technology Inc.\n",
    "\n",
    "import matplotlib.pyplot as plt\n",
    "import numpy as np\n",
    "import logging\n",
    "import pandas as pd\n",
    "from model_generation import *\n",
    "from sklearn.feature_selection import SelectKBest, f_classif, mutual_info_classif\n",
    "from titanq import Model, Vtype\n",
    "\n",
    "import warnings\n",
    "\n",
    "# Filter out FutureWarning messages\n",
    "warnings.simplefilter(action='ignore', category=FutureWarning)\n",
    "\n",
    "logging.getLogger('botocore').setLevel(logging.CRITICAL)\n",
    "logging.getLogger('urllib3').setLevel(logging.CRITICAL)\n",
    "logging.getLogger(\"sklearnex\").setLevel(logging.ERROR)"
   ]
  },
  {
   "cell_type": "markdown",
   "metadata": {},
   "source": [
    "## Setting Credentials\n",
    "The user should configure their TitanQ API key here."
   ]
  },
  {
   "cell_type": "code",
   "execution_count": 2,
   "metadata": {},
   "outputs": [],
   "source": [
    "# Obtain your API key by contacting --> support@infinityq.tech\n",
    "\n",
    "TITANQ_DEV_API_KEY = None\n",
    "# Example: TITANQ_DEV_API_KEY = \"00000000-0000-0000-0000-000000000000\""
   ]
  },
  {
   "cell_type": "markdown",
   "metadata": {},
   "source": [
    "## Loading Data and Preprocessing\n",
    "\n",
    "Here we load in our training and testing dataset and prepare our data for feature selection and training.\n",
    "\n",
    "The preprocessing steps are as follows:\n",
    "\n",
    "- Drop rows with NaN values and duplicates\n",
    "- Map the 5 attack types which are originally strings to integers between 0-4\n",
    "- Drop constant features that are redundant\n",
    "- One-hot encode categorical types into binary features"
   ]
  },
  {
   "cell_type": "code",
   "execution_count": 3,
   "metadata": {},
   "outputs": [
    {
     "name": "stdout",
     "output_type": "stream",
     "text": [
      "Number of features before preprocessing: 41\n",
      "\n",
      "Dropping duplicates and nan values...\n",
      "Dropping constant feature(s): {'num_outbound_cmds'}\n",
      "One-hot encoding: ['protocol_type', 'service', 'flag']\n",
      "Num features added to protocol_type: 2\n",
      "Num features added to service: 69\n",
      "Num features added to flag: 10\n",
      "Feature classes: {0: ['basic', (0, 90)], 1: ['content', (90, 102)], 2: ['time', (102, 111)], 3: ['host', (111, 121)]}\n",
      "One-hot encoded features: {'protocol_type': (1, 4), 'service': (4, 74), 'flag': (74, 85)}\n",
      "\n",
      "Number of features after preprocessing: 121\n"
     ]
    }
   ],
   "source": [
    "# Ignoring dtype warning from reading in data (gets fixed in preprocessing)\n",
    "warnings.simplefilter(action='ignore', category=pd.errors.DtypeWarning)\n",
    "\n",
    "# Load data in\n",
    "df_train = pd.read_csv(\"./data/KDDTrain+.txt\", header=None)\n",
    "df_test = pd.read_csv(\"./data/KDDTest+.txt\", header=None)\n",
    "# removing success_pred from data set. Does not appear in the original NSL-KDD data set used in the paper\n",
    "df_train = df_train.iloc[:, :-1]\n",
    "df_test = df_test.iloc[:, :-1]\n",
    "\n",
    "# Defining feature classes\n",
    "feature_classes = {\n",
    "    0: [\"basic\", (0,9)], # Eg Features 0 - 8 are part of the basic feature class\n",
    "    1: [\"content\", (9,22)],\n",
    "    2: [\"time\", (22,31)],\n",
    "    3: [\"host\", (31,41)]\n",
    "}\n",
    "\n",
    "header_names = ['duration', 'protocol_type', 'service', 'flag', 'src_bytes', 'dst_bytes', 'land', 'wrong_fragment', 'urgent', 'hot', 'num_failed_logins', 'logged_in', 'num_compromised', 'root_shell', 'su_attempted', 'num_root', 'num_file_creations', 'num_shells', 'num_access_files', 'num_outbound_cmds', 'is_host_login', 'is_guest_login', 'count', 'srv_count', 'serror_rate', 'srv_serror_rate', 'rerror_rate', 'srv_rerror_rate', 'same_srv_rate', 'diff_srv_rate', 'srv_diff_host_rate', 'dst_host_count', 'dst_host_srv_count', 'dst_host_same_srv_rate', 'dst_host_diff_srv_rate', 'dst_host_same_src_port_rate', 'dst_host_srv_diff_host_rate', 'dst_host_serror_rate', 'dst_host_srv_serror_rate', 'dst_host_rerror_rate', 'dst_host_srv_rerror_rate', 'label']\n",
    "print(f\"Number of features before preprocessing: {len(header_names) - 1}\\n\") # minus label\n",
    "df_train.columns = header_names\n",
    "df_test.columns = header_names\n",
    "\n",
    "# Preprocess data\n",
    "feature_classes_updated, feat_indices, df_train, df_test = preprocess_data(feature_classes, df_train, df_test)\n",
    "print(f\"Feature classes: {feature_classes_updated}\")\n",
    "print(f\"One-hot encoded features: {feat_indices}\")\n",
    "\n",
    "# Separating into X and y datasets\n",
    "y_train = df_train[\"label\"].to_numpy().astype('int32')\n",
    "y_test = df_test[\"label\"].to_numpy().astype('int32')\n",
    "\n",
    "df_train = df_train.drop(columns=[\"label\"])\n",
    "df_test = df_test.drop(columns=[\"label\"])\n",
    "\n",
    "X_train = df_train.to_numpy()\n",
    "X_test = df_test.to_numpy()\n",
    "\n",
    "num_features = X_train.shape[1]\n",
    "print(f\"\\nNumber of features after preprocessing: {num_features}\")"
   ]
  },
  {
   "cell_type": "markdown",
   "metadata": {},
   "source": [
    "Here we form the weights matrix (Mutual Information matrix between all features) and set our hyperparameters $\\alpha$ and $\\beta$. $\\alpha$ is the relative weighting of importance and redundancy of features, $\\beta$ is a scaling constant for importance, and $K$ is the number of features to select. As per the paper, we use $K$ as our value for $\\beta$. Note that the matrix we cache uses a $\\beta$ of 1 and we multiply the main diagonal by $K$ to get the desired matrix. In this way, $K$ can be changed freely without having to recompute."
   ]
  },
  {
   "cell_type": "code",
   "execution_count": 4,
   "metadata": {
    "scrolled": true
   },
   "outputs": [],
   "source": [
    "# Defining hyperparameters\n",
    "alpha = 0.75\n",
    "K = 13\n",
    "\n",
    "filename = \"weights\"\n",
    "\n",
    "# Constructing matrices\n",
    "# weights = MI_matrix(X_train, y_train, alpha, 1)\n",
    "# np.save(f\"./weights/{filename}_MI.npy\", weights)\n",
    "\n",
    "# weights = pearson_matrix(X_train, y_train, alpha, 1)\n",
    "# np.save(f\"./weights/{filename}_pears.npy\", weights)\n",
    "\n",
    "# Loading in weights matrix\n",
    "# weights = np.load(f\"./weights/{filename}_MI.npy\") # Mutual Information\n",
    "weights = np.load(f\"./weights/{filename}_pears.npy\") # Pearson Correlation\n",
    "\n",
    "# multiply the diagonal by K so we only have to save one matrix\n",
    "weights[np.diag_indices_from(weights)] *= K"
   ]
  },
  {
   "cell_type": "markdown",
   "metadata": {},
   "source": [
    "## Input Problem into TitanQ SDK\n",
    "Now we can input the problem into TitanQ and derive a solution. $x$ is a binary variable determining which features will be selected. $S$ is a variable denoting the number of features to select from each of the 4 feature classes. \n",
    "\n",
    "Note that the bounds for elements of S are from 0 to num_features. That is, we can select any number of features from each feature class. The bounds can be adjusted if desired. In the paper this feature class division is done due to lack of qubits. TitanQ has no such restriction but we formalize these constraints regardless to show how it would be done.\n",
    "\n",
    "The features we one-hot encoded are highly correlated and thus should all be included if one is included. "
   ]
  },
  {
   "cell_type": "code",
   "execution_count": 5,
   "metadata": {},
   "outputs": [
    {
     "name": "stdout",
     "output_type": "stream",
     "text": [
      "Creating model...\n",
      "Adding constraints...\n",
      "Solving...\n"
     ]
    },
    {
     "data": {
      "application/vnd.jupyter.widget-view+json": {
       "model_id": "d0cc84d0c8da4b798fad44d33b2459b8",
       "version_major": 2,
       "version_minor": 0
      },
      "text/plain": [
       "Output()"
      ]
     },
     "metadata": {},
     "output_type": "display_data"
    },
    {
     "data": {
      "text/html": [
       "<pre style=\"white-space:pre;overflow-x:auto;line-height:normal;font-family:Menlo,'DejaVu Sans Mono',consolas,'Courier New',monospace\"></pre>\n"
      ],
      "text/plain": []
     },
     "metadata": {},
     "output_type": "display_data"
    },
    {
     "name": "stdout",
     "output_type": "stream",
     "text": [
      "Done solving!\n"
     ]
    }
   ],
   "source": [
    "print(\"Creating model...\")\n",
    "#############\n",
    "# TitanQ Model\n",
    "#############\n",
    "model = Model(\n",
    "    api_key=TITANQ_DEV_API_KEY\n",
    ")\n",
    "\n",
    "# Defining variables, objective, and constraints in TitanQ model\n",
    "x = model.add_variable_vector('x', num_features, Vtype.BINARY)\n",
    "z = model.add_variable_vector('z', 3, Vtype.BINARY)\n",
    "# Maximum number of features to select from each feature class. \n",
    "S = model.add_variable_vector('S', 4, Vtype.INTEGER, [(0, num_features)] * 4)\n",
    "\n",
    "weights = np.float32(weights)\n",
    "\n",
    "print(\"Adding constraints...\")\n",
    "\n",
    "# Keep highly correlated features together (eg one-hot encoded features)\n",
    "i = 0\n",
    "for feat, ind in feat_indices.items():\n",
    "    start = ind[0]\n",
    "    end = ind[1]\n",
    "    for j in range(start, end):\n",
    "        model.add_constraint_from_expression(x[j] == z[i])\n",
    "\n",
    "# Limit on number of features selected in each feature class\n",
    "for i, s in enumerate(S):\n",
    "    r = feature_classes_updated[i][1]\n",
    "    model.add_constraint_from_expression(sum(x[r[0]:r[1]]) == s)\n",
    "\n",
    "# Sum of selected features in each feature class \n",
    "model.add_constraint_from_expression(sum(S) == K)\n",
    "\n",
    "# Objective function\n",
    "model.set_objective_expression(x.T @ weights @ x)\n",
    "\n",
    "# TitanQ Solver hyperparameters\n",
    "num_chains = 32\n",
    "num_engines = 8\n",
    "T_min = 0.0001\n",
    "timeout_in_secs = 40\n",
    "T_max = 550\n",
    "penalty_scaling = 10\n",
    "beta = (1/np.linspace(T_min, T_max, num_chains, dtype=np.float32)).tolist()\n",
    "print(\"Solving...\")\n",
    "response = model.optimize(beta=beta, num_chains=num_chains, num_engines=num_engines, timeout_in_secs=timeout_in_secs, penalty_scaling=penalty_scaling)\n",
    "print(\"Done solving!\")"
   ]
  },
  {
   "cell_type": "code",
   "execution_count": 6,
   "metadata": {},
   "outputs": [
    {
     "name": "stdout",
     "output_type": "stream",
     "text": [
      "[1. 0. 0. 0. 0. 0. 0. 0. 0. 0. 0. 0. 0. 0. 0. 0. 0. 0. 0. 0. 0. 0. 0. 0.\n",
      " 0. 0. 0. 0. 0. 0. 0. 0. 0. 0. 0. 0. 0. 0. 0. 0. 0. 0. 0. 0. 0. 0. 0. 0.\n",
      " 0. 0. 0. 0. 0. 0. 0. 0. 0. 0. 0. 0. 0. 0. 0. 0. 0. 0. 0. 0. 0. 0. 0. 0.\n",
      " 0. 0. 0. 0. 0. 0. 0. 0. 0. 0. 0. 0. 0. 0. 1. 0. 0. 0. 1. 0. 0. 0. 0. 0.\n",
      " 0. 0. 0. 0. 0. 0. 1. 0. 0. 1. 1. 1. 0. 1. 0. 0. 0. 0. 1. 1. 1. 0. 0. 1.\n",
      " 1.]\n",
      "S: [2. 1. 5. 5.]\n",
      "z: [0. 0. 0.]\n",
      "Number of features selected: 13\n",
      "Selected features: ['duration', 'dst_bytes', 'hot', 'count', 'srv_serror_rate', 'rerror_rate', 'srv_rerror_rate', 'diff_srv_rate', 'dst_host_diff_srv_rate', 'dst_host_same_src_port_rate', 'dst_host_srv_diff_host_rate', 'dst_host_rerror_rate', 'dst_host_srv_rerror_rate']\n"
     ]
    }
   ],
   "source": [
    "# Getting best solution\n",
    "objective = response.computation_metrics()[\"solutions_objective_value\"]\n",
    "\n",
    "best_index = objective.index(min(objective))\n",
    "solution = response.x[best_index]\n",
    "print(solution)\n",
    "print(f\"S: {response.S[best_index]}\")\n",
    "print(f\"z: {response.z[best_index]}\")\n",
    "\n",
    "# Indices of all the selected features\n",
    "selected_features = np.where(solution==1)[0]\n",
    "print(f\"Number of features selected: {len(selected_features)}\")\n",
    "print(f\"Selected features: {list(df_train.columns[solution == 1])}\")"
   ]
  },
  {
   "cell_type": "markdown",
   "metadata": {},
   "source": [
    "## Measuring Performance\n",
    "To test the performance of our solution, we determine the performance Random Forest Classifier on a variety of feature sets. In particular, we use the full feature set, the limited feature set from TitanQ, and feature sets obtained by selecting the top K features based on some score function (Mutual Information, f_classif). We then compare the accuracy metric between them (% of correctly classified points). SVC is not used in this example as it is very slow for large datasets."
   ]
  },
  {
   "cell_type": "code",
   "execution_count": 7,
   "metadata": {},
   "outputs": [],
   "source": [
    "# Pick a classifier to apply and parameter space to explore\n",
    "classifier = \"rf\"\n",
    "param_grid = {\n",
    " 'rf__max_depth': [5, 10, 20],\n",
    " 'rf__n_estimators': [20, 50, 100],\n",
    " 'rf__min_samples_split': [2, 5, 10],\n",
    " 'rf__min_samples_leaf': [1, 2, 4]}"
   ]
  },
  {
   "cell_type": "code",
   "execution_count": 8,
   "metadata": {},
   "outputs": [
    {
     "name": "stdout",
     "output_type": "stream",
     "text": [
      "========ALL FEATURES========\n",
      "Fitting 5 folds for each of 20 candidates, totalling 100 fits\n",
      "Best Params: {'rf__n_estimators': 50, 'rf__min_samples_split': 5, 'rf__min_samples_leaf': 2, 'rf__max_depth': 20}\n",
      "Best CV Score: 0.985346039874452\n",
      "Test Accuracy: 0.7887686302342086\n",
      "Test Precision: 0.790558476334865\n",
      "Test Recall: 0.7887686302342086 \n",
      "\n",
      "Total Training Time: 177.959778547287 s\n",
      "\n",
      "Confusion Matrix:\n",
      "[[8765   73   67   83  723]\n",
      " [   4 5472    0    6  259]\n",
      " [   4    0   28    5    0]\n",
      " [ 693    0  139 1367    0]\n",
      " [1421  339  145  801 2150]]\n"
     ]
    }
   ],
   "source": [
    "print(\"========ALL FEATURES========\")\n",
    "all_acc = classify(param_grid, X_train, X_test, y_train, y_test, classifier)"
   ]
  },
  {
   "cell_type": "code",
   "execution_count": 9,
   "metadata": {},
   "outputs": [
    {
     "name": "stdout",
     "output_type": "stream",
     "text": [
      "========TITANQ FEATURES========\n",
      "Fitting 5 folds for each of 20 candidates, totalling 100 fits\n",
      "Best Params: {'rf__n_estimators': 50, 'rf__min_samples_split': 2, 'rf__min_samples_leaf': 1, 'rf__max_depth': 20}\n",
      "Best CV Score: 0.9778206301084138\n",
      "Test Accuracy: 0.764194464158978\n",
      "Test Precision: 0.7841557264607876\n",
      "Test Recall: 0.764194464158978 \n",
      "\n",
      "Total Training Time: 45.66156601905823 s\n",
      "\n",
      "Confusion Matrix:\n",
      "[[9124   44   52  219  272]\n",
      " [  27 5218    7  232  257]\n",
      " [   6    0   20   11    0]\n",
      " [1214    1  403  532   49]\n",
      " [1319  224  405  574 2334]]\n"
     ]
    }
   ],
   "source": [
    "print(\"========TITANQ FEATURES========\")\n",
    "titanq_acc = classify(param_grid, X_train[:, selected_features], X_test[:, selected_features], y_train, y_test, classifier)"
   ]
  },
  {
   "cell_type": "code",
   "execution_count": 10,
   "metadata": {
    "scrolled": true
   },
   "outputs": [
    {
     "name": "stdout",
     "output_type": "stream",
     "text": [
      "========KBEST MUTUAL INFO========\n",
      "Fitting 5 folds for each of 20 candidates, totalling 100 fits\n",
      "Best Params: {'rf__n_estimators': 50, 'rf__min_samples_split': 2, 'rf__min_samples_leaf': 1, 'rf__max_depth': 20}\n",
      "Best CV Score: 0.9847665661204517\n",
      "Test Accuracy: 0.7519517388218595\n",
      "Test Precision: 0.7429112048562049\n",
      "Test Recall: 0.7519517388218595 \n",
      "\n",
      "Total Training Time: 41.47622871398926 s\n",
      "\n",
      "Confusion Matrix:\n",
      "[[9208   46   53  179  225]\n",
      " [  18 5524    2   43  154]\n",
      " [  18    0   12    7    0]\n",
      " [1638    4   96  324  137]\n",
      " [1559  494  104  815 1884]]\n"
     ]
    }
   ],
   "source": [
    "print(\"========KBEST MUTUAL INFO========\")\n",
    "selector = SelectKBest(score_func=mutual_info_classif, k=int(K))  # Select top K features\n",
    "X_train_selected = selector.fit_transform(X_train, y_train)\n",
    "X_test_selected = selector.transform(X_test)\n",
    "mutual_info_acc = classify(param_grid, X_train_selected, X_test_selected, y_train, y_test, classifier)"
   ]
  },
  {
   "cell_type": "code",
   "execution_count": 11,
   "metadata": {},
   "outputs": [
    {
     "name": "stdout",
     "output_type": "stream",
     "text": [
      "========KBEST FCLASSIF========\n",
      "Fitting 5 folds for each of 20 candidates, totalling 100 fits\n",
      "Best Params: {'rf__n_estimators': 50, 'rf__min_samples_split': 2, 'rf__min_samples_leaf': 1, 'rf__max_depth': 20}\n",
      "Best CV Score: 0.9649528057589636\n",
      "Test Accuracy: 0.6985894251242015\n",
      "Test Precision: 0.6813640970185252\n",
      "Test Recall: 0.6985894251242015 \n",
      "\n",
      "Total Training Time: 44.563024044036865 s\n",
      "\n",
      "Confusion Matrix:\n",
      "[[8715  533   58  106  299]\n",
      " [ 338 5073   11    9  310]\n",
      " [  17    1   12    5    2]\n",
      " [1505   17   76  311  290]\n",
      " [2131  246  140  701 1638]]\n"
     ]
    }
   ],
   "source": [
    "print(\"========KBEST FCLASSIF========\")\n",
    "selector = SelectKBest(score_func=f_classif, k=int(K))  # Select top K features\n",
    "X_train_selected = selector.fit_transform(X_train, y_train)\n",
    "X_test_selected = selector.transform(X_test)\n",
    "f_classif_acc = classify(param_grid, X_train_selected, X_test_selected, y_train, y_test, classifier)"
   ]
  },
  {
   "cell_type": "code",
   "execution_count": 12,
   "metadata": {},
   "outputs": [
    {
     "data": {
      "image/png": "[encoded data removed]",
      "text/plain": [
       "<Figure size 800x500 with 1 Axes>"
      ]
     },
     "metadata": {},
     "output_type": "display_data"
    }
   ],
   "source": [
    "algorithms = ['All', 'TitanQ', 'mutual_info', 'f_classif']\n",
    "accuracies = [all_acc, titanq_acc,mutual_info_acc, f_classif_acc]\n",
    "\n",
    "# Plotting\n",
    "plt.figure(figsize=(8, 5))\n",
    "plt.bar(algorithms, accuracies, color='skyblue')\n",
    "plt.ylim(0, 1)\n",
    "plt.ylabel('Accuracy')\n",
    "plt.title('Comparison of Feature Selection Algorithms')\n",
    "plt.grid(axis='y', linestyle='--', alpha=0.7)\n",
    "plt.show()"
   ]
  }
 ],
 "metadata": {
  "kernelspec": {
   "display_name": "Python 3 (ipykernel)",
   "language": "python",
   "name": "python3"
  },
  "language_info": {
   "codemirror_mode": {
    "name": "ipython",
    "version": 3
   },
   "file_extension": ".py",
   "mimetype": "text/x-python",
   "name": "python",
   "nbconvert_exporter": "python",
   "pygments_lexer": "ipython3",
   "version": "3.13.2"
  }
 },
 "nbformat": 4,
 "nbformat_minor": 4
}
