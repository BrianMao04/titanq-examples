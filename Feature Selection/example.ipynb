{
 "cells": [
  {
   "cell_type": "code",
   "execution_count": null,
   "metadata": {},
   "outputs": [],
   "source": [
    "# Copyright (c) 2025, InfinityQ Technology Inc.\n",
    "\n",
    "import matplotlib.pyplot as plt\n",
    "import numpy as np\n",
    "import logging\n",
    "import pandas as pd\n",
    "from model_generation import *\n",
    "from sklearn.model_selection import train_test_split\n",
    "from sklearn.datasets import make_classification\n",
    "from sklearn.feature_selection import SelectKBest, f_classif, mutual_info_classif\n",
    "from titanq import Model, Vtype\n",
    "\n",
    "import warnings\n",
    "\n",
    "# Filter out FutureWarning messages\n",
    "warnings.simplefilter(action='ignore', category=FutureWarning)\n",
    "\n",
    "logging.getLogger('botocore').setLevel(logging.CRITICAL)\n",
    "logging.getLogger('urllib3').setLevel(logging.CRITICAL)\n",
    "logging.getLogger(\"sklearnex\").setLevel(logging.ERROR)"
   ]
  },
  {
   "cell_type": "markdown",
   "metadata": {},
   "source": [
    "## Setting Credentials\n",
    "The user should configure their TitanQ API key here."
   ]
  },
  {
   "cell_type": "code",
   "execution_count": 2,
   "metadata": {},
   "outputs": [],
   "source": [
    "# Obtain your API key by contacting --> support@infinityq.tech\n",
    "\n",
    "TITANQ_DEV_API_KEY = None\n",
    "# Example: TITANQ_DEV_API_KEY = \"00000000-0000-0000-0000-000000000000\""
   ]
  },
  {
   "cell_type": "markdown",
   "metadata": {},
   "source": [
    "## Setting Up The Problem\n",
    "\n",
    "Here you can load in a dataset from OpenML. Try using the datasets names defined in \"datasets_hyperparameters.csv\" with their corresponding alpha and K values. The goal of this feature selection method is to maximize the importance of the selected features while minimizing the redundancy between features."
   ]
  },
  {
   "cell_type": "code",
   "execution_count": null,
   "metadata": {
    "scrolled": true
   },
   "outputs": [],
   "source": [
    "# Load your dataset. Try using Indian_pines or alternatively the ozone-level-8hr and waveform-5000 datasets with the parameters specified in dataset_hyperparameters.csv\n",
    "name = \"Indian_pines\" # Name of the OpenML dataset to fetch\n",
    "alpha = 0.8 # Bias of importance vs independence (higher alpha means prioritizing importance)\n",
    "K = 50 # Number of desired features\n",
    "X, y = load_dataset(name)\n",
    "\n",
    "# Alternatively you can also try sklearn's make_classification to generate an arbitrary classification problem\n",
    "# alpha = 0.8\n",
    "# K = 10\n",
    "# X, y = make_classification(n_samples=5000, n_features=60, n_informative=20, n_redundant=20, random_state=42, shuffle = True)\n",
    "\n",
    "X_train, X_test, y_train, y_test = train_test_split(X, y, test_size=0.3, stratify=y, random_state=42)\n",
    "\n",
    "num_rows, num_features = X.shape\n",
    "print(f\"Number of datapoints: {num_rows}\")\n",
    "print(f\"Number of features: {num_features}\")"
   ]
  },
  {
   "cell_type": "code",
   "execution_count": 4,
   "metadata": {},
   "outputs": [
    {
     "name": "stdout",
     "output_type": "stream",
     "text": [
      "Time Elapsed: 0.07613468170166016\n"
     ]
    }
   ],
   "source": [
    "# calculate weights matrix based on training data\n",
    "weights = np.float32(pearson_matrix(X_train, y_train, alpha, K))\n",
    "# weights = MI_matrix(X_train, y_train, alpha, K)"
   ]
  },
  {
   "cell_type": "markdown",
   "metadata": {},
   "source": [
    "## Input Problem into TitanQ SDK\n",
    "The objective and constraint expressions are set here and TitanQ is called to solve the model. $x$ is a binary variable determining which features will be selected.\n",
    "\n",
    "Explanation of uses_equality: Consider using an inequality to limit the features selected. It is possible for TitanQ to select less than the desired number of features. In particular, this happens when adding another feature adds more redundancy than the importance it contributes. This can be solved by either increasing alpha to value feature importance more and thus select more features, or alternatively, changing the constraint to an equality, guaranteeing $K$ selected features. Using an equality constraint may require more careful hyperparameter tuning due to degenerate solutions. If you see that the solution provided by TitanQ has selected all of the features at the beginning, try reducing coupling_mult and/or increasing T_max so that it can escape this initial state. \n",
    "\n",
    "In conclusion, if you are selecting a small amount of features you can get away with using inequality."
   ]
  },
  {
   "cell_type": "code",
   "execution_count": 5,
   "metadata": {},
   "outputs": [
    {
     "data": {
      "application/vnd.jupyter.widget-view+json": {
       "model_id": "15bb1326a33548d394db9015245ee059",
       "version_major": 2,
       "version_minor": 0
      },
      "text/plain": [
       "Output()"
      ]
     },
     "metadata": {},
     "output_type": "display_data"
    },
    {
     "data": {
      "text/html": [
       "<pre style=\"white-space:pre;overflow-x:auto;line-height:normal;font-family:Menlo,'DejaVu Sans Mono',consolas,'Courier New',monospace\"></pre>\n"
      ],
      "text/plain": []
     },
     "metadata": {},
     "output_type": "display_data"
    }
   ],
   "source": [
    "#############\n",
    "# TitanQ Model\n",
    "#############\n",
    "model = Model(\n",
    "    api_key=TITANQ_DEV_API_KEY\n",
    ")\n",
    "\n",
    "# Defining variables, objective, and constraints in TitanQ model\n",
    "x = model.add_variable_vector('x', num_features, Vtype.BINARY)\n",
    "model.set_objective_matrices(weights, bias=np.zeros(num_features, dtype=np.float32))\n",
    "\n",
    "try:\n",
    "    #Retrieve pre-tuned hyperparameters from \"dataset_hyperparameters.csv\"\n",
    "    T_min, T_max, coupling_mult, penalty_scaling, num_chains, num_engines, timeout, uses_equality = load_hyperparameters(name, alpha, K)\n",
    "except:\n",
    "    #Otherwise, use a manually specified set of hyperparameters \n",
    "    T_min = 0.0001\n",
    "    T_max = 550\n",
    "    coupling_mult = 0.3\n",
    "    penalty_scaling = 10\n",
    "    num_chains = 32\n",
    "    num_engines = 8\n",
    "    timeout = 30\n",
    "    uses_equality = False\n",
    "\n",
    "# Number of features to select\n",
    "if uses_equality:\n",
    "    model.add_constraint_from_expression(sum(x) == K)\n",
    "else:\n",
    "    model.add_constraint_from_expression(sum(x) <= K)\n",
    "\n",
    "\n",
    "beta = (1/np.linspace(T_min, T_max, num_chains, dtype=np.float32)).tolist()\n",
    "\n",
    "response = model.optimize(coupling_mult=coupling_mult, beta=beta, num_chains=num_chains, num_engines=num_engines, timeout_in_secs=timeout, penalty_scaling=penalty_scaling)"
   ]
  },
  {
   "cell_type": "code",
   "execution_count": 6,
   "metadata": {
    "scrolled": true
   },
   "outputs": [
    {
     "name": "stdout",
     "output_type": "stream",
     "text": [
      "Features:  [0. 0. 0. 1. 0. 0. 0. 0. 0. 0. 0. 0. 0. 0. 0. 1. 0. 0. 0. 0. 0. 0. 0. 0.\n",
      " 1. 1. 0. 0. 0. 1. 0. 0. 0. 0. 1. 0. 0. 1. 0. 0. 0. 0. 0. 1. 0. 0. 0. 1.\n",
      " 1. 1. 1. 0. 0. 0. 0. 1. 0. 1. 1. 0. 0. 0. 0. 0. 0. 1. 0. 0. 0. 0. 0. 0.\n",
      " 0. 0. 0. 1. 0. 1. 0. 1. 0. 1. 0. 0. 1. 0. 1. 0. 0. 0. 1. 0. 0. 0. 0. 0.\n",
      " 0. 0. 0. 0. 1. 0. 0. 0. 0. 1. 0. 0. 1. 0. 0. 0. 1. 0. 0. 0. 0. 1. 0. 0.\n",
      " 1. 0. 0. 0. 0. 0. 0. 0. 1. 0. 1. 0. 0. 1. 0. 0. 0. 0. 0. 0. 0. 0. 0. 0.\n",
      " 0. 0. 0. 0. 0. 0. 0. 0. 0. 1. 0. 0. 0. 1. 0. 0. 0. 1. 0. 0. 0. 0. 0. 0.\n",
      " 0. 1. 0. 0. 0. 1. 0. 0. 1. 0. 0. 0. 0. 0. 0. 1. 1. 0. 0. 0. 0. 0. 1. 0.\n",
      " 0. 1. 0. 1. 0. 0. 0. 0. 0. 0. 1. 1. 1. 1. 0. 1. 0. 0. 1. 0. 0. 0. 0. 0.\n",
      " 1. 0. 0. 0.]\n",
      "Number of features selected: 50\n"
     ]
    }
   ],
   "source": [
    "# Getting best solution\n",
    "objective = response.computation_metrics()[\"solutions_objective_value\"]\n",
    "solution = response.x[objective.index(min(objective))]\n",
    "print(\"Features: \", solution)\n",
    "selected_features = np.where(solution==1)[0]\n",
    "print(f\"Number of features selected: {len(selected_features)}\")"
   ]
  },
  {
   "cell_type": "markdown",
   "metadata": {},
   "source": [
    "### Measuring Performance\n",
    "To test the performance of our solution, we determine the performance of a classifier like Random Forest or SVC on a variety of feature sets. In particular, we use the full feature set, the limited feature set from TitanQ, and feature sets obtained by selecting the top K features based on some score function (Mutual Information, f_classif). We then compare the accuracy metric between them (% of correctly classified points)."
   ]
  },
  {
   "cell_type": "code",
   "execution_count": 7,
   "metadata": {},
   "outputs": [],
   "source": [
    "# Specify the classification method and params you want to use for the problem\n",
    "\n",
    "classifier = \"rf\"\n",
    "param_grid = {\n",
    " 'rf__max_depth': [5, 10, 20],\n",
    " 'rf__n_estimators': [20, 50, 100],\n",
    " 'rf__min_samples_split': [2, 5, 10],\n",
    " 'rf__min_samples_leaf': [1, 2, 4]}\n",
    "\n",
    "# classifier = \"svc\"\n",
    "# param_grid = {\n",
    "#     'svc__C': [0.1, 1, 10],\n",
    "#     'svc__kernel': ['linear', 'rbf', 'poly'],\n",
    "#     'svc__gamma': ['scale', 'auto']\n",
    "# }"
   ]
  },
  {
   "cell_type": "code",
   "execution_count": 8,
   "metadata": {
    "scrolled": true
   },
   "outputs": [
    {
     "name": "stdout",
     "output_type": "stream",
     "text": [
      "========ALL FEATURES========\n",
      "Fitting 5 folds for each of 20 candidates, totalling 100 fits\n",
      "Best Params: {'rf__n_estimators': 100, 'rf__min_samples_split': 5, 'rf__min_samples_leaf': 2, 'rf__max_depth': 20}\n",
      "Best CV Score: 0.8690625000000001\n",
      "Test Accuracy: 0.8688046647230321\n",
      "Test Precision: 0.8932266905695624\n",
      "Test Recall: 0.8688046647230321 \n",
      "\n",
      "Total Training Time: 6.145528316497803 s\n",
      "\n",
      "Confusion Matrix:\n",
      "[[  15    0    0    1    0    0    0    0]\n",
      " [   7  637    9    0    1   95    0    2]\n",
      " [   5    0  144    2    4    1    1    0]\n",
      " [  14    0    1  132    0    0    0    0]\n",
      " [   0    0    0    0    6    0    0    0]\n",
      " [  36  135   16    0    8 1020    0    0]\n",
      " [   0    0   11    0    5    0  371    1]\n",
      " [   0    0    0    0    5    0    0   59]]\n"
     ]
    }
   ],
   "source": [
    "print(\"========ALL FEATURES========\")\n",
    "all_acc = classify(param_grid, X_train, X_test, y_train, y_test, classifier)"
   ]
  },
  {
   "cell_type": "code",
   "execution_count": 9,
   "metadata": {},
   "outputs": [
    {
     "name": "stdout",
     "output_type": "stream",
     "text": [
      "========TITANQ FEATURES========\n",
      "Fitting 5 folds for each of 20 candidates, totalling 100 fits\n",
      "Best Params: {'rf__n_estimators': 100, 'rf__min_samples_split': 5, 'rf__min_samples_leaf': 2, 'rf__max_depth': 20}\n",
      "Best CV Score: 0.8603125\n",
      "Test Accuracy: 0.8647959183673469\n",
      "Test Precision: 0.8867689906641144\n",
      "Test Recall: 0.8647959183673469 \n",
      "\n",
      "Total Training Time: 1.9789516925811768 s\n",
      "\n",
      "Confusion Matrix:\n",
      "[[  16    0    0    0    0    0    0    0]\n",
      " [   8  633    6    0    0  103    0    1]\n",
      " [   3    0  146    2    3    1    2    0]\n",
      " [  16    0    1  130    0    0    0    0]\n",
      " [   0    0    0    0    6    0    0    0]\n",
      " [  31  151   18    0    6 1008    0    1]\n",
      " [   0    0    8    0    5    0  375    0]\n",
      " [   0    0    0    0    5    0    0   59]]\n"
     ]
    }
   ],
   "source": [
    "print(\"========TITANQ FEATURES========\")\n",
    "titanq_acc = classify(param_grid, X_train[:, selected_features], X_test[:, selected_features], y_train, y_test, classifier)"
   ]
  },
  {
   "cell_type": "code",
   "execution_count": 10,
   "metadata": {
    "scrolled": true
   },
   "outputs": [
    {
     "name": "stdout",
     "output_type": "stream",
     "text": [
      "========KBEST MUTUAL INFO========\n",
      "Fitting 5 folds for each of 20 candidates, totalling 100 fits\n",
      "Best Params: {'rf__n_estimators': 100, 'rf__min_samples_split': 5, 'rf__min_samples_leaf': 2, 'rf__max_depth': 20}\n",
      "Best CV Score: 0.7982812499999999\n",
      "Test Accuracy: 0.8119533527696793\n",
      "Test Precision: 0.8462824106235501\n",
      "Test Recall: 0.8119533527696793 \n",
      "\n",
      "Total Training Time: 1.8162140846252441 s\n",
      "\n",
      "Confusion Matrix:\n",
      "[[ 13   0   0   3   0   0   0   0]\n",
      " [ 17 602   6   2   3 121   0   0]\n",
      " [  9   1 120   5  18   1   1   2]\n",
      " [ 21   0   1 125   0   0   0   0]\n",
      " [  0   0   0   0   5   0   0   1]\n",
      " [ 33 210  10  10   9 943   0   0]\n",
      " [  0   0  20   0   1   0 358   9]\n",
      " [  0   0   0   0   2   0   0  62]]\n"
     ]
    }
   ],
   "source": [
    "print(\"========KBEST MUTUAL INFO========\")\n",
    "selector = SelectKBest(score_func=mutual_info_classif, k=int(K))  # Select top K features\n",
    "X_train_selected = selector.fit_transform(X_train, y_train)\n",
    "X_test_selected = selector.transform(X_test)\n",
    "mutual_info_acc = classify(param_grid, X_train_selected, X_test_selected, y_train, y_test, classifier)"
   ]
  },
  {
   "cell_type": "code",
   "execution_count": 11,
   "metadata": {
    "scrolled": true
   },
   "outputs": [
    {
     "name": "stdout",
     "output_type": "stream",
     "text": [
      "========KBEST FCLASSIF========\n",
      "Fitting 5 folds for each of 20 candidates, totalling 100 fits\n",
      "Best Params: {'rf__n_estimators': 50, 'rf__min_samples_split': 2, 'rf__min_samples_leaf': 1, 'rf__max_depth': 20}\n",
      "Best CV Score: 0.79453125\n",
      "Test Accuracy: 0.7955539358600583\n",
      "Test Precision: 0.8269020956797128\n",
      "Test Recall: 0.7955539358600583 \n",
      "\n",
      "Total Training Time: 1.7654132843017578 s\n",
      "\n",
      "Confusion Matrix:\n",
      "[[ 14   0   0   2   0   0   0   0]\n",
      " [ 18 571   8   0   2 151   0   1]\n",
      " [  9   2 124   6  11   1   2   2]\n",
      " [ 31   0   0 116   0   0   0   0]\n",
      " [  0   0   0   0   5   0   0   1]\n",
      " [ 19 218  21   2   6 948   0   1]\n",
      " [  0   0  34   0   1   0 343  10]\n",
      " [  0   0   1   0   1   0   0  62]]\n"
     ]
    }
   ],
   "source": [
    "print(\"========KBEST FCLASSIF========\")\n",
    "selector = SelectKBest(score_func=f_classif, k=int(K))  # Select top K features\n",
    "X_train_selected = selector.fit_transform(X_train, y_train)\n",
    "X_test_selected = selector.transform(X_test)\n",
    "f_classif_acc = classify(param_grid, X_train_selected, X_test_selected, y_train, y_test, classifier)"
   ]
  },
  {
   "cell_type": "code",
   "execution_count": 12,
   "metadata": {
    "scrolled": true
   },
   "outputs": [
    {
     "data": {
      "image/png": "[encoded data removed]",
      "text/plain": [
       "<Figure size 800x500 with 1 Axes>"
      ]
     },
     "metadata": {},
     "output_type": "display_data"
    }
   ],
   "source": [
    "algorithms = ['All', 'TitanQ', 'mutual_info', 'f_classif']\n",
    "accuracies = [all_acc, titanq_acc,mutual_info_acc, f_classif_acc]\n",
    "\n",
    "# Plotting\n",
    "plt.figure(figsize=(8, 5))\n",
    "plt.bar(algorithms, accuracies, color='skyblue')\n",
    "plt.ylim(0, 1)\n",
    "plt.ylabel('Accuracy')\n",
    "plt.title('Comparison of Feature Selection Algorithms')\n",
    "plt.grid(axis='y', linestyle='--', alpha=0.7)\n",
    "plt.show()"
   ]
  }
 ],
 "metadata": {
  "kernelspec": {
   "display_name": "Python 3 (ipykernel)",
   "language": "python",
   "name": "python3"
  },
  "language_info": {
   "codemirror_mode": {
    "name": "ipython",
    "version": 3
   },
   "file_extension": ".py",
   "mimetype": "text/x-python",
   "name": "python",
   "nbconvert_exporter": "python",
   "pygments_lexer": "ipython3",
   "version": "3.13.2"
  }
 },
 "nbformat": 4,
 "nbformat_minor": 4
}
