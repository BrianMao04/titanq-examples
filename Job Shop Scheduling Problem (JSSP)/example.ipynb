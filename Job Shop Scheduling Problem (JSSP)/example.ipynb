{
 "cells": [
  {
   "cell_type": "code",
   "execution_count": null,
   "metadata": {},
   "outputs": [],
   "source": [
    "import numpy as np\n",
    "import logging\n",
    "import utils\n",
    "import problem_gen\n",
    "from titanq import Model, Vtype, Target, S3Storage"
   ]
  },
  {
   "attachments": {},
   "cell_type": "markdown",
   "metadata": {},
   "source": [
    "## Setting Credentials\n",
    "The user should configure their TitanQ API key here. For very large problems, the user must also configure an AWS Access key, AWS Secret Access key and AWS Bucket Name."
   ]
  },
  {
   "cell_type": "code",
   "execution_count": null,
   "metadata": {},
   "outputs": [],
   "source": [
    "logging.getLogger('botocore').setLevel(logging.CRITICAL)\n",
    "logging.getLogger('urllib3').setLevel(logging.CRITICAL)\n",
    "\n",
    "TITANQ_DEV_API_KEY = \"Your API key\"\n",
    "\n",
    "# Specify AWS keys and bucket name for solving very large problems\n",
    "# AWS_ACCESS_KEY = \"Your Access key\"\n",
    "# AWS_SECRET_ACCESS_KEY = \"Your secret access key\"\n",
    "# AWS_BUCKET_NAME = \"Your bucket name\""
   ]
  },
  {
   "attachments": {},
   "cell_type": "markdown",
   "metadata": {},
   "source": [
    "## Problem Definition\n",
    "\n",
    "Read instance file as a dictionary where the keys are the job id, and the values are a list of tuples (machine_id, processing_time)."
   ]
  },
  {
   "cell_type": "code",
   "execution_count": null,
   "metadata": {},
   "outputs": [],
   "source": [
    "# Reading the JSSP instance file\n",
    "problem = dict(utils.read_instance(\"instances/jssp_1\"))\n",
    "\n",
    "# Some useful variables\n",
    "num_tasks = problem_gen.get_num_tasks(problem)\n",
    "max_time = problem_gen.get_max_time(problem)\n",
    "num_machines = problem_gen.get_num_machines(problem)\n",
    "num_jobs = len(problem.keys())\n",
    "\n",
    "num_rows = num_tasks\n",
    "num_cols = max_time"
   ]
  },
  {
   "attachments": {},
   "cell_type": "markdown",
   "metadata": {},
   "source": [
    "## Model Definition\n",
    "\n",
    "Defines hyperparameters used in the QUBO formulation as well as the QUBO matrix:\n",
    "\n",
    "- The first three hyperparameters (a,b,c) correspond to the constraints of the problem.\n",
    "\n",
    "- The fourth and fifth hyperparameters (d,e) correspond to the objective function of the problem."
   ]
  },
  {
   "cell_type": "code",
   "execution_count": null,
   "metadata": {},
   "outputs": [],
   "source": [
    "# Hyperparameters for the constraints\n",
    "a = 4000\n",
    "b = 4000\n",
    "c = 4000\n",
    "\n",
    "# Hyperparameters for the objective function\n",
    "d = 20\n",
    "e = 20\n",
    "\n",
    "# Calling the function that generates the QUBO matrix\n",
    "qubo = problem_gen.generate_qubo(problem, a, b, c, d, e)\n",
    "size = len(qubo)"
   ]
  },
  {
   "attachments": {},
   "cell_type": "markdown",
   "metadata": {},
   "source": [
    "## Construction of the Input for the TitanQ SDK\n",
    "\n",
    "Here we construct both the bias (the linear terms) and the weights (the quadratic terms) from the QUBO matrix."
   ]
  },
  {
   "cell_type": "code",
   "execution_count": null,
   "metadata": {},
   "outputs": [],
   "source": [
    "# Construction of the bias vector\n",
    "bias = np.array(qubo, dtype=np.float32).diagonal()\n",
    "\n",
    "# Construction of the weight matrix\n",
    "weights = np.array(qubo,dtype=np.float32)\n",
    "\n",
    "# The diagonal of the weight matrix should contain only null values\n",
    "np.fill_diagonal(weights,0)"
   ]
  },
  {
   "attachments": {},
   "cell_type": "markdown",
   "metadata": {},
   "source": [
    "## Additional Parameter Setup for the TitanQ SDK\n",
    "\n",
    "Define the variable name along with the variable type.\n",
    "\n",
    "- Vtype.BINARY if the variable is binary.\n",
    "\n",
    "- Vtype.BIPOLAR if the variable is bipolar (Coming soon).\n",
    "\n",
    "Set the weights and bias vector defined above previously into the SDK.\n",
    "\n",
    "Specify whether to minimize or maximize the Hamiltonian as the objective of the solver (Set to Target.MINIMIZE by default).\n",
    "\n",
    "Additional hyperparameters which could be tuned include:\n",
    "\n",
    "- *beta* = Scales the problem by this factor (inverse of temperature). A lower *beta* allows for easier escape from local minima, while a higher *beta* is more likely to respect penalties and constraints.\n",
    "\n",
    "- *coupling_mult* = Strength of the minor embedding for the titanQ specific hardware.\n",
    "\n",
    "- *timeout_in_secs* = Maximum runtime of the solver in seconds.\n",
    "\n",
    "- *num_chains* = Number of parallel runs executed by the solver. A larger number of parallel runs generally leads to higher quality solutions."
   ]
  },
  {
   "cell_type": "code",
   "execution_count": null,
   "metadata": {},
   "outputs": [],
   "source": [
    "#############\n",
    "# TitanQ SDK\n",
    "#############\n",
    "model = Model(\n",
    "    api_key=TITANQ_DEV_API_KEY,\n",
    "    # Insert storage_client parameter and specify corresponding AWS keys and bucket name for solving very large problems\n",
    "    # storage_client=S3Storage(\n",
    "    #     access_key=AWS_ACCESS_KEY,\n",
    "    #     secret_key=AWS_SECRET_ACCESS_KEY,\n",
    "    #     bucket_name=AWS_BUCKET_NAME,\n",
    "    # )\n",
    ")\n",
    "model.add_variable_vector('x', size, Vtype.BINARY)\n",
    "model.set_objective_matrices(weights, bias, Target.MINIMIZE)\n",
    "response = model.optimize(timeout_in_secs=10, coupling_mult=0.75)"
   ]
  },
  {
   "attachments": {},
   "cell_type": "markdown",
   "metadata": {},
   "source": [
    "## Printing Results\n",
    "\n",
    "The solution and corresponding Ising energy can be accessed as shown below."
   ]
  },
  {
   "cell_type": "code",
   "execution_count": null,
   "metadata": {},
   "outputs": [],
   "source": [
    "print(\"--- RESULTS ---\")\n",
    "print(\"     x:\", np.array(response.x,dtype=int).tolist())\n",
    "print(\"energy:\", response.ising_energy)"
   ]
  },
  {
   "attachments": {},
   "cell_type": "markdown",
   "metadata": {},
   "source": [
    "## Solution Visualization\n",
    "\n",
    "The solution is plotted below as a GANTT chart where each color defines a certain job and each row define a machine id."
   ]
  },
  {
   "cell_type": "code",
   "execution_count": null,
   "metadata": {},
   "outputs": [],
   "source": [
    "solution = utils.from_sigma_to_solution(np.reshape(response.x,(num_rows,num_cols)),problem)\n",
    "\n",
    "utils.draw_solution(problem,solution,x_max=max_time)"
   ]
  }
 ],
 "metadata": {
  "kernelspec": {
   "display_name": "base",
   "language": "python",
   "name": "python3"
  },
  "language_info": {
   "codemirror_mode": {
    "name": "ipython",
    "version": 3
   },
   "file_extension": ".py",
   "mimetype": "text/x-python",
   "name": "python",
   "nbconvert_exporter": "python",
   "pygments_lexer": "ipython3",
   "version": "3.10.12"
  }
 },
 "nbformat": 4,
 "nbformat_minor": 2
}
