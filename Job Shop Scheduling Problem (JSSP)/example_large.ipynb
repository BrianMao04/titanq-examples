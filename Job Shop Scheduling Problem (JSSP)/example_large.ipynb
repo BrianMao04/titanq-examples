{
 "cells": [
  {
   "cell_type": "code",
   "execution_count": null,
   "metadata": {},
   "outputs": [],
   "source": [
    "# Copyright (c) 2024, InfinityQ Technology Inc.\n",
    "\n",
    "import numpy as np\n",
    "import utils\n",
    "import problem_gen\n",
    "\n",
    "from titanq import Model, Vtype, Target, S3Storage\n",
    "import logging"
   ]
  },
  {
   "cell_type": "markdown",
   "metadata": {},
   "source": [
    "### Setting Credentials for TitanQ\n",
    "The user should configure their TitanQ API key here. For very large problems, the user must also configure an AWS Access key, AWS Secret Access key and AWS Bucket Name."
   ]
  },
  {
   "cell_type": "code",
   "execution_count": null,
   "metadata": {},
   "outputs": [],
   "source": [
    "logging.getLogger('botocore').setLevel(logging.CRITICAL)\n",
    "logging.getLogger('urllib3').setLevel(logging.CRITICAL)\n",
    "\n",
    "# Enter your API Key Here\n",
    "# Obtain your API key by contacting --> support@infinityq.tech\n",
    "# Example: TITANQ_DEV_API_KEY = \"00000000-0000-0000-0000-000000000000\"\n",
    "TITANQ_DEV_API_KEY = None\n",
    "\n",
    "# Specify AWS keys and bucket name for solving very large problems\n",
    "# AWS_ACCESS_KEY = \"Your Access key\"\n",
    "# AWS_SECRET_ACCESS_KEY = \"Your secret access key\"\n",
    "# AWS_BUCKET_NAME = \"Your bucket name\""
   ]
  },
  {
   "cell_type": "markdown",
   "metadata": {},
   "source": [
    "### Setting Up Data"
   ]
  },
  {
   "cell_type": "code",
   "execution_count": null,
   "metadata": {},
   "outputs": [],
   "source": [
    "jobs = utils.read_instance(\"instances/la01\")\n",
    "\n",
    "# Number of jobs\n",
    "num_jobs = len(jobs)\n",
    "# Number of machines\n",
    "num_machines = utils.get_num_machines(jobs)\n",
    "# Number of tasks\n",
    "num_tasks = utils.get_num_tasks(jobs)\n",
    "\n",
    "machine_names = [f\"Machine_{i}\" for i in range(num_machines)]\n",
    "task_names = []\n",
    "assignment = {}\n",
    "for job, tasks in jobs.items():\n",
    "    task_names.extend(\n",
    "        [f\"Job{job+1}_Task{task_id+1}\" for task_id in range(len(tasks))])\n",
    "    assignment.update(\n",
    "        {f\"Job{job+1}_Task{task_id+1}\": machine_names[task[0]] for task_id, task in enumerate(tasks)})\n",
    "\n",
    "# Available Time Slots\n",
    "## Each row represents a machine, and each column represents an interval of time.\n",
    "## An entry of 1 indicates that the machine is available, and an entry of -1 indicates that the machine is not available.\n",
    "\n",
    "## Set the size of the available_time_slots matrix\n",
    "rows = num_machines\n",
    "columns = 500\n",
    "\n",
    "## Create a matrix with all elements initialized to 1\n",
    "available_time_slots = np.ones((rows, columns), dtype=int)\n",
    "\n",
    "# Blocked Time slots\n",
    "## Ex: 'Machine_0' is not available during time unit 1 to 4\n",
    "## available_time_slots[0, 1:4] = -1\n",
    "\n",
    "# Distance matrix for moving from one machine to another\n",
    "distance_matrix = np.zeros((num_machines, num_machines), dtype=np.float32)"
   ]
  },
  {
   "cell_type": "markdown",
   "metadata": {},
   "source": [
    "### Building the JSSP Model"
   ]
  },
  {
   "cell_type": "code",
   "execution_count": null,
   "metadata": {},
   "outputs": [],
   "source": [
    "# Model generation\n",
    "tasks = [item for sublist in jobs.values()\n",
    "        for item in sublist] # List of tasks\n",
    "\n",
    "max_start_time = utils.get_max_time(jobs)*2\n",
    "\n",
    "Nx = num_tasks\n",
    "Nz = len([(i, j) for i in range(Nx) for j in range(Nx) if tasks[i][0] == tasks[j][0]])\n",
    "\n",
    "# Variable array structure\n",
    "# x = [x_0, x_1, ..., x_num_tasks, z_01, z_02, z_03, z_12, z_13, z_23,\n",
    "#   y_{machine_1}l_1_{task_1},y_{machine_1}l_2_{task_1},...,y_{machine_1}l_{num_blocked}_{task_1},....,y_{machine_m}l_j_{task_1}]\n",
    "N = Nx + Nz\n",
    "\n",
    "machine_group = utils.generate_machine_group(jobs)\n",
    "\n",
    "Ny = sum([len(utils.find_available_time_slots(available_time_slots[m_idx]))*len(machine_group[m_idx])\n",
    "         for m_idx in range(num_machines) if m_idx in machine_group.keys()])\n",
    "N += Ny\n",
    "\n",
    "# Large value to enforce tasks not overlapping with each other\n",
    "V = sum(task[1] for task in tasks)\n",
    "\n",
    "# Large number to enforce tasks not overlapping with blocked time slots\n",
    "H = V\n",
    "\n",
    "constraint_weights, constraint_bounds = problem_gen.generate_constraint_weights_bounds(\n",
    "    jobs,\n",
    "    N,\n",
    "    Nx,\n",
    "    Nz,\n",
    "    V,\n",
    "    distance_matrix,\n",
    "    num_machines,\n",
    "    available_time_slots,\n",
    "    H\n",
    ")\n",
    "\n",
    "W, b = problem_gen.generate_weights_bias(jobs, N)\n",
    "\n",
    "variable_bounds = problem_gen.generate_variable_bounds(\n",
    "    jobs,\n",
    "    distance_matrix,\n",
    "    Nx,\n",
    "    Nz,\n",
    "    Ny,\n",
    "    max_start_time\n",
    ")\n",
    "variable_types = problem_gen.generate_variable_types(Ny, Nz, Ny)\n",
    "\n",
    "num_variables = N"
   ]
  },
  {
   "cell_type": "markdown",
   "metadata": {},
   "source": [
    "### Building the Model on TitanQ"
   ]
  },
  {
   "cell_type": "code",
   "execution_count": null,
   "metadata": {},
   "outputs": [],
   "source": [
    "############\n",
    "# TitanQ SDK\n",
    "############\n",
    "model_JSSP = Model(\n",
    "    api_key=TITANQ_DEV_API_KEY,\n",
    "    # Insert storage_client parameter and specify corresponding AWS keys and bucket name for solving very large problems\n",
    "    # storage_client=S3Storage(\n",
    "    #     access_key=AWS_ACCESS_KEY,\n",
    "    #     secret_key=AWS_SECRET_ACCESS_KEY,\n",
    "    #     bucket_name=AWS_BUCKET_NAME\n",
    "    # )\n",
    ")\n",
    "\n",
    "model_JSSP.add_variable_vector(\n",
    "    'x', Nx, Vtype.INTEGER, variable_bounds=variable_bounds[:Nx].tolist())\n",
    "model_JSSP.add_variable_vector('z', Nz, Vtype.BINARY)\n",
    "model_JSSP.add_variable_vector('y', Ny, Vtype.BINARY)\n",
    "model_JSSP.set_objective_matrices(W, b, Target.MINIMIZE)\n",
    "model_JSSP.add_inequality_constraints_matrix(\n",
    "    constraint_weights, constraint_bounds)"
   ]
  },
  {
   "cell_type": "markdown",
   "metadata": {},
   "source": [
    "### Setting TitanQ Hyperparameters"
   ]
  },
  {
   "cell_type": "code",
   "execution_count": null,
   "metadata": {},
   "outputs": [],
   "source": [
    "num_chains = 64\n",
    "num_engines = 1\n",
    "T_min = 0.1\n",
    "T_max = 1e6\n",
    "beta = (1.0/np.geomspace(T_min, T_max, num_chains)).tolist()\n",
    "timeout_in_seconds = 100.0"
   ]
  },
  {
   "cell_type": "markdown",
   "metadata": {},
   "source": [
    "### Sending the Model to TitanQ Solver"
   ]
  },
  {
   "cell_type": "code",
   "execution_count": null,
   "metadata": {},
   "outputs": [],
   "source": [
    "response = model_JSSP.optimize(\n",
    "    beta=beta,\n",
    "    timeout_in_secs=timeout_in_seconds,\n",
    "    num_engines=num_engines,\n",
    "    num_chains=num_chains\n",
    ")\n",
    "\n",
    "print(\"-\" * 15, \"+\", \"-\" * 26, sep=\"\")\n",
    "print(\"Ising energy   | Result vector\")\n",
    "print(\"-\" * 15, \"+\", \"-\" * 26, sep=\"\")\n",
    "ctr = 0\n",
    "for ising_energy, result_vector in response.result_items():\n",
    "    print(f\"{ising_energy: <14f} | {result_vector}\")\n",
    "    if ctr == 0:\n",
    "        lowest_ising_energy = ising_energy\n",
    "        index = 0\n",
    "    elif ising_energy < lowest_ising_energy:\n",
    "        lowest_ising_energy = ising_energy\n",
    "        index = ctr\n",
    "    ctr += 1"
   ]
  },
  {
   "cell_type": "markdown",
   "metadata": {},
   "source": [
    "### GANTT Chart of Raw Schedule"
   ]
  },
  {
   "cell_type": "code",
   "execution_count": null,
   "metadata": {},
   "outputs": [],
   "source": [
    "# The schedule dictionary\n",
    "ground_state = response.result_vector()[index]\n",
    "schedule = utils.extract_solution(ground_state[:Nx], tasks, task_names)\n",
    "\n",
    "# Post-processing for adding the hand-offs\n",
    "for i, task in enumerate(task_names):\n",
    "    if i == len(task_names) - 2:\n",
    "        break\n",
    "    schedule[f\"Hand-off: {assignment[task_names[i]]}-{task_names[i]} --> {assignment[task_names[i+1]]}-{task_names[i+1]}\"] = \\\n",
    "        (schedule[task_names[i]][1], schedule[task_names[i]][1] + int(distance_matrix[machine_names.index(\n",
    "            assignment[task_names[i]])][machine_names.index(assignment[task_names[i+1]])]))\n",
    "    assignment[f\"Hand-off: {assignment[task_names[i]]}-{task_names[i]} --> {assignment[task_names[i+1]]}-{task_names[i+1]}\"] = assignment[task_names[i]]\n",
    "\n",
    "utils.plot_schedule(\n",
    "    assignment,\n",
    "    schedule,\n",
    "    available_time_slots,\n",
    "    machine_names,\n",
    "    unit=\"days\"\n",
    ")"
   ]
  },
  {
   "cell_type": "markdown",
   "metadata": {},
   "source": [
    "### Extracting the Schedule Finish Time"
   ]
  },
  {
   "cell_type": "code",
   "execution_count": null,
   "metadata": {},
   "outputs": [],
   "source": [
    "utils.max_value_schedule(schedule)"
   ]
  }
 ],
 "metadata": {
  "kernelspec": {
   "display_name": "hydrogen_3p9",
   "language": "python",
   "name": "python3"
  },
  "language_info": {
   "codemirror_mode": {
    "name": "ipython",
    "version": 3
   },
   "file_extension": ".py",
   "mimetype": "text/x-python",
   "name": "python",
   "nbconvert_exporter": "python",
   "pygments_lexer": "ipython3",
   "version": "3.12.3"
  }
 },
 "nbformat": 4,
 "nbformat_minor": 2
}
