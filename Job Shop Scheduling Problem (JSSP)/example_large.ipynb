{
 "cells": [
  {
   "cell_type": "code",
   "execution_count": 1,
   "metadata": {},
   "outputs": [],
   "source": [
    "# Copyright (c) 2024, InfinityQ Technology Inc.\n",
    "\n",
    "import numpy as np\n",
    "import utils\n",
    "import problem_gen\n",
    "\n",
    "from titanq import Model, Vtype, Target, S3Storage\n",
    "import logging\n",
    "from utils import get_global_index_of_task"
   ]
  },
  {
   "cell_type": "markdown",
   "metadata": {},
   "source": [
    "### Setting Credentials for TitanQ\n",
    "The user should configure their TitanQ API key here. For very large problems, the user must also configure an AWS Access key, AWS Secret Access key and AWS Bucket Name."
   ]
  },
  {
   "cell_type": "code",
   "execution_count": 2,
   "metadata": {},
   "outputs": [],
   "source": [
    "logging.getLogger('botocore').setLevel(logging.CRITICAL)\n",
    "logging.getLogger('urllib3').setLevel(logging.CRITICAL)\n",
    "\n",
    "# Enter your API Key Here\n",
    "# Obtain your API key by contacting --> support@infinityq.tech\n",
    "# Example: TITANQ_DEV_API_KEY = \"00000000-0000-0000-0000-000000000000\"\n",
    "TITANQ_DEV_API_KEY = None\n",
    "\n",
    "# Specify AWS keys and bucket name for solving very large problems\n",
    "# AWS_ACCESS_KEY = \"Your Access key\"\n",
    "# AWS_SECRET_ACCESS_KEY = \"Your secret access key\"\n",
    "# AWS_BUCKET_NAME = \"Your bucket name\""
   ]
  },
  {
   "cell_type": "markdown",
   "metadata": {},
   "source": [
    "### Setting Up Data"
   ]
  },
  {
   "cell_type": "code",
   "execution_count": 3,
   "metadata": {},
   "outputs": [],
   "source": [
    "jobs = utils.read_instance(\"instances/la01\")\n",
    "\n",
    "# Number of jobs\n",
    "num_jobs = len(jobs)\n",
    "# Number of machines\n",
    "num_machines = utils.get_num_machines(jobs)\n",
    "# Number of tasks\n",
    "num_tasks = utils.get_num_tasks(jobs)\n",
    "\n",
    "machine_names = [f\"Machine_{i}\" for i in range(num_machines)]\n",
    "task_names = []\n",
    "assignment = {}\n",
    "for job, tasks in jobs.items():\n",
    "    task_names.extend(\n",
    "        [f\"Job{job+1}_Task{task_id+1}\" for task_id in range(len(tasks))])\n",
    "    assignment.update(\n",
    "        {f\"Job{job+1}_Task{task_id+1}\": machine_names[task[0]] for task_id, task in enumerate(tasks)})\n",
    "\n",
    "# Available Time Slots\n",
    "## Each row represents a machine, and each column represents an interval of time.\n",
    "## An entry of 1 indicates that the machine is available, and an entry of -1 indicates that the machine is not available.\n",
    "\n",
    "## Set the size of the available_time_slots matrix\n",
    "rows = num_machines\n",
    "columns = 500\n",
    "\n",
    "## Create a matrix with all elements initialized to 1\n",
    "available_time_slots = np.ones((rows, columns), dtype=int)\n",
    "\n",
    "# Blocked Time slots\n",
    "## Ex: 'Machine_0' is not available during time unit 1 to 4\n",
    "## available_time_slots[0, 1:4] = -1\n",
    "\n",
    "# Distance matrix for moving from one machine to another\n",
    "distance_matrix = np.zeros((num_machines, num_machines), dtype=np.float32)"
   ]
  },
  {
   "cell_type": "markdown",
   "metadata": {},
   "source": [
    "### Building the JSSP Model"
   ]
  },
  {
   "cell_type": "code",
   "execution_count": 4,
   "metadata": {},
   "outputs": [],
   "source": [
    "# Model generation\n",
    "tasks = [item for sublist in jobs.values()\n",
    "        for item in sublist] # List of tasks\n",
    "\n",
    "max_start_time = utils.get_max_time(jobs)*2\n",
    "\n",
    "Nx = num_tasks\n",
    "Nz = len([(i, j) for i in range(Nx) for j in range(Nx) if tasks[i][0] == tasks[j][0]])\n",
    "\n",
    "machine_group = utils.generate_machine_group(jobs)\n",
    "\n",
    "Ny = sum([len(utils.find_available_time_slots(available_time_slots[m_idx]))*len(machine_group[m_idx])\n",
    "         for m_idx in range(num_machines) if m_idx in machine_group.keys()])\n",
    "\n",
    "# Variable array structure\n",
    "# x = [x_0, x_1, ..., x_num_tasks, z_01, z_02, z_03, z_12, z_13, z_23,\n",
    "#   y_{machine_1}l_1_{task_1},y_{machine_1}l_2_{task_1},...,y_{machine_1}l_{num_blocked}_{task_1},....,y_{machine_m}l_j_{task_1}]\n",
    "N = Nx + Ny + Nz\n",
    "\n",
    "# Large value to enforce tasks not overlapping with each other\n",
    "V = sum(task[1] for task in tasks)\n",
    "\n",
    "# Large number to enforce tasks not overlapping with blocked time slots\n",
    "H = sum(task[1] for task in tasks)\n",
    "\n",
    "W, b = problem_gen.generate_weights_bias(jobs, N)\n",
    "\n",
    "variable_bounds = problem_gen.generate_variable_bounds(\n",
    "    jobs,\n",
    "    distance_matrix,\n",
    "    Nx,\n",
    "    Nz,\n",
    "    Ny,\n",
    "    max_start_time\n",
    ")\n",
    "variable_types = problem_gen.generate_variable_types(Ny, Nz, Ny)"
   ]
  },
  {
   "cell_type": "markdown",
   "metadata": {},
   "source": [
    "### Building the Model on TitanQ"
   ]
  },
  {
   "cell_type": "code",
   "execution_count": 5,
   "metadata": {},
   "outputs": [],
   "source": [
    "############\n",
    "# TitanQ SDK\n",
    "############\n",
    "model_JSSP = Model(\n",
    "    api_key=TITANQ_DEV_API_KEY,\n",
    "    # Insert storage_client parameter and specify corresponding AWS keys and bucket name for solving very large problems\n",
    "    # storage_client=S3Storage(\n",
    "    #     access_key=AWS_ACCESS_KEY,\n",
    "    #     secret_key=AWS_SECRET_ACCESS_KEY,\n",
    "    #     bucket_name=AWS_BUCKET_NAME\n",
    "    # )\n",
    ")\n",
    "\n",
    "x = model_JSSP.add_variable_vector('x', Nx, Vtype.INTEGER, variable_bounds=variable_bounds[:Nx].tolist())\n",
    "z = model_JSSP.add_variable_vector('z', Nz, Vtype.BINARY)\n",
    "y = model_JSSP.add_variable_vector('y', Ny, Vtype.BINARY)"
   ]
  },
  {
   "cell_type": "markdown",
   "metadata": {},
   "source": [
    "### Setting Objective Using Expression"
   ]
  },
  {
   "cell_type": "code",
   "execution_count": 6,
   "metadata": {},
   "outputs": [],
   "source": [
    "expr = sum(x[i] for i in problem_gen.last_task_for_each_job(jobs))\n",
    "model_JSSP.set_objective_expression(expr)"
   ]
  },
  {
   "cell_type": "markdown",
   "metadata": {},
   "source": [
    "### Add Constraints Using Expressions "
   ]
  },
  {
   "cell_type": "code",
   "execution_count": 7,
   "metadata": {},
   "outputs": [],
   "source": [
    "# Helper Arrays and Variables\n",
    "\n",
    "# List of tasks\n",
    "list_tasks = [item for sublist in jobs.values() for item in sublist]\n",
    "\n",
    "# z index\n",
    "z_idx = [(i, j) for i in range(Nx) for j in range(Nx) if list_tasks[i][0] == list_tasks[j][0]]\n",
    "\n",
    "# Column position for the first constraints\n",
    "col = 0\n",
    "\n",
    "# Constraint #1: Precedence Constraint\n",
    "\n",
    "# Iterate over each job and its tasks\n",
    "for job, tsk in jobs.items():\n",
    "    num_tasks = len(tsk)\n",
    "    for i in range(1, num_tasks):\n",
    "        # Calculate the right-hand side of the constraint\n",
    "        rhs = jobs[job][i-1][1] + distance_matrix[jobs[job][i-1][0]][jobs[job][i][0]]\n",
    "        \n",
    "        # Create the constraint expression\n",
    "        expr = x[col+i] - x[col+i-1] >= rhs\n",
    "        \n",
    "        # Add the constraint to the model_JSSP\n",
    "        model_JSSP.add_constraint_from_expression(expr)\n",
    "    \n",
    "    # Update the column position\n",
    "    col += num_tasks\n",
    "\n",
    "# Constraint #2 and #3: Machine Overlapping\n",
    "\n",
    "# Iterate over each pair of jobs and tasks\n",
    "for job_1, tasks_1 in jobs.items():\n",
    "    num_tasks_1 = len(tasks_1)\n",
    "    for job_2, tasks_2 in jobs.items():\n",
    "        num_tasks_2 = len(tasks_2)\n",
    "        for i in range(num_tasks_1):\n",
    "            for j in range(num_tasks_2):\n",
    "                _i = get_global_index_of_task(jobs, job_1, i)\n",
    "                _j = get_global_index_of_task(jobs, job_2, j)\n",
    "                \n",
    "                machine_i = jobs[job_1][i][0]\n",
    "                machine_j = jobs[job_2][j][0]\n",
    "                \n",
    "                # Check if tasks are on the same machine and _i < _j\n",
    "                if (_i < _j) and (machine_i == machine_j):\n",
    "                    # Constraint #2\n",
    "                    expr = x[_i] - x[_j] + (V * z[z_idx.index((_i, _j))]) >= jobs[job_2][j][1]\n",
    "                    model_JSSP.add_constraint_from_expression(expr)\n",
    "                    \n",
    "                    # Constraint #3\n",
    "                    expr = x[_j] - x[_i] - (V * z[z_idx.index((_i, _j))]) >= (jobs[job_1][i][1] - V)\n",
    "                    model_JSSP.add_constraint_from_expression(expr)\n",
    "\n",
    "# Constraint #4 and #5: Blocked Time Slots\n",
    "\n",
    "# Flatten tasks into a single list\n",
    "flatten_tasks = [item for row in jobs.values() for item in row]\n",
    "\n",
    "# Initialize y_counter\n",
    "y_counter = 0\n",
    "\n",
    "# Iterate over each machine\n",
    "for m_idx in range(num_machines):\n",
    "    # Find the indices where -1 occurs\n",
    "    indices = np.where(available_time_slots[m_idx] == -1)[0]\n",
    "    \n",
    "    # Find the groups of -1 indices\n",
    "    groups = np.split(indices, np.where(np.diff(indices) != 1)[0] + 1)\n",
    "    \n",
    "    # Filter out groups with only one element\n",
    "    time_slots = [(group.tolist()[0],group.tolist()[-1]) \n",
    "                    for group in groups if len(group) >= 1]\n",
    "    \n",
    "    # Find the tasks that use machine m_idx\n",
    "    I_m = [idx for idx,(machine,_) in enumerate(flatten_tasks) if machine==m_idx]\n",
    "    \n",
    "    # Iterate over each task and time slot\n",
    "    for i in I_m:\n",
    "        for j,(l,u) in enumerate(time_slots):\n",
    "            # Constraint #4\n",
    "            expr = x[i] + H * y[y_counter] >= (jobs[job_1][i][1] - V)\n",
    "            model_JSSP.add_constraint_from_expression(expr)\n",
    "            \n",
    "            # Constraint #5\n",
    "            expr = x[i] + H * y[y_counter] >= u + 1\n",
    "            model_JSSP.add_constraint_from_expression(expr)\n",
    "        \n",
    "            y_counter += 1"
   ]
  },
  {
   "cell_type": "markdown",
   "metadata": {},
   "source": [
    "### Setting TitanQ Hyperparameters"
   ]
  },
  {
   "cell_type": "code",
   "execution_count": 8,
   "metadata": {},
   "outputs": [],
   "source": [
    "num_chains = 64\n",
    "num_engines = 1\n",
    "T_min = 0.1\n",
    "T_max = 1e6\n",
    "beta = (1.0/np.geomspace(T_min, T_max, num_chains)).tolist()\n",
    "timeout_in_seconds = 100.0"
   ]
  },
  {
   "cell_type": "markdown",
   "metadata": {},
   "source": [
    "### Sending the Model to TitanQ Solver"
   ]
  },
  {
   "cell_type": "code",
   "execution_count": 9,
   "metadata": {},
   "outputs": [
    {
     "name": "stdout",
     "output_type": "stream",
     "text": [
      "---------------+--------------------------\n",
      "Ising energy   | Result vector\n",
      "---------------+--------------------------\n",
      "2590.000000    | [  0.  41.  95. 214. 268.   0.  23.  76.  92. 115.   0.  81. 197. 238.\n",
      " 210.  68. 155. 222. 302. 348.   0.  83. 117. 183. 200.   0.  54. 143.\n",
      " 222. 272.  40. 237. 314. 368. 425.   4.  95. 155. 196. 303.   0.  21.\n",
      "  66.  91. 135.   0. 117. 196. 239. 314.   1.   1.   1.   1.   1.   1.\n",
      "   1.   1.   1.   1.   0.   0.   1.   1.   0.   1.   1.   1.   1.   1.\n",
      "   0.   0.   0.   1.   1.   1.   1.   1.   0.   0.   0.   0.   0.   1.\n",
      "   0.   1.   0.   0.   0.   0.   0.   0.   0.   1.   0.   0.   1.   0.\n",
      "   0.   0.   0.   0.   1.   1.   1.   1.   1.   1.   1.   1.   0.   0.\n",
      "   0.   1.   1.   1.   1.   1.   0.   1.   0.   0.   1.   1.   1.   1.\n",
      "   1.   1.   0.   0.   0.   1.   1.   1.   1.   0.   1.   0.   1.   1.\n",
      "   0.   0.   1.   0.   1.   0.   1.   1.   0.   1.   0.   0.   1.   1.\n",
      "   1.   1.   1.   1.   0.   1.   0.   0.   1.   1.   1.   1.   1.   1.\n",
      "   0.   0.   0.   1.   0.   0.   0.   0.   1.   0.   0.   1.   0.   0.\n",
      "   0.   1.   0.   0.   1.   0.   0.   0.   0.   0.   0.   0.   0.   1.\n",
      "   1.   0.   0.   1.   0.   0.   1.   0.   1.   0.   1.   1.   0.   1.\n",
      "   0.   0.   1.   0.   0.   1.   1.   0.   0.   1.   1.   0.   1.   0.\n",
      "   0.   0.   1.   1.   0.   0.   0.   0.   0.   1.   0.   0.   1.   0.\n",
      "   0.   0.   0.   0.   1.   0.   0.   0.   0.   0.   0.   0.   0.   1.\n",
      "   0.   0.   0.   1.   1.   1.   1.   1.   1.   0.   1.   0.   0.   1.\n",
      "   0.   1.   0.   1.   0.   1.   0.   1.   0.   0.   1.   0.   1.   1.\n",
      "   1.   1.   0.   0.   0.   0.   1.   0.   0.   1.   0.   0.   0.   1.\n",
      "   1.   0.   1.   1.   0.   0.   1.   1.   0.   0.   1.   0.   1.   1.\n",
      "   1.   1.   1.   0.   0.   0.   0.   0.   1.   0.   1.   1.   1.   1.\n",
      "   0.   0.   0.   1.   1.   1.   0.   0.   1.   1.   0.   0.   0.   1.\n",
      "   1.   0.   0.   1.   0.   0.   1.   0.   1.   0.   0.   0.   0.   0.\n",
      "   0.   0.   0.   1.   0.   0.   1.   1.   0.   1.   1.   0.   0.   1.\n",
      "   0.   1.   0.   1.   0.   0.   1.   0.   0.   0.   1.   0.   0.   0.\n",
      "   0.   0.   0.   0.   0.   0.   1.   1.   0.   0.   0.   0.   1.   0.\n",
      "   1.   1.   0.   0.   0.   0.   0.   0.   1.   0.   0.   0.   0.   0.\n",
      "   0.   1.   1.   1.   0.   0.   0.   1.   0.   0.   1.   1.   0.   1.\n",
      "   0.   0.   0.   0.   0.   0.   1.   0.   0.   1.   0.   0.   1.   0.\n",
      "   1.   0.   0.   0.   0.   0.   0.   0.   1.   0.   0.   0.   0.   1.\n",
      "   0.   0.   1.   0.   0.   0.   0.   0.   1.   0.   1.   1.   0.   0.\n",
      "   1.   0.   1.   0.   0.   0.   0.   1.   1.   1.   0.   1.   0.   1.\n",
      "   0.   1.   0.   0.   0.   1.   1.   0.   0.   0.   0.   0.   0.   1.\n",
      "   0.   0.   1.   0.   0.   1.   0.   0.   0.   1.   1.   0.   0.   0.\n",
      "   0.   1.   1.   0.   1.   0.   1.   0.   0.   0.   0.   0.   1.   1.\n",
      "   0.   1.   1.   1.   1.   0.   1.   1.   0.   0.   1.   1.   1.   1.\n",
      "   0.   0.   0.   0.   0.   0.   1.   1.   0.   0.   0.   1.   0.   0.\n",
      "   0.   1.   0.   0.   0.   1.   1.   0.   0.   0.   1.   0.   0.   1.\n",
      "   1.   1.   0.   0.   0.   0.   1.   1.   0.   1.   1.   0.   1.   1.\n",
      "   0.   1.   0.   0.   1.   0.   0.   1.   1.   0.   1.   1.   0.   1.\n",
      "   0.   0.   1.   0.   0.   1.   0.   0.   0.   1.   0.   0.]\n"
     ]
    }
   ],
   "source": [
    "response = model_JSSP.optimize(\n",
    "    beta=beta,\n",
    "    timeout_in_secs=timeout_in_seconds,\n",
    "    num_engines=num_engines,\n",
    "    num_chains=num_chains\n",
    ")\n",
    "\n",
    "print(\"-\" * 15, \"+\", \"-\" * 26, sep=\"\")\n",
    "print(\"Ising energy   | Result vector\")\n",
    "print(\"-\" * 15, \"+\", \"-\" * 26, sep=\"\")\n",
    "ctr = 0\n",
    "for ising_energy, result_vector in response.result_items():\n",
    "    print(f\"{ising_energy: <14f} | {result_vector}\")\n",
    "    if ctr == 0:\n",
    "        lowest_ising_energy = ising_energy\n",
    "        index = 0\n",
    "    elif ising_energy < lowest_ising_energy:\n",
    "        lowest_ising_energy = ising_energy\n",
    "        index = ctr\n",
    "    ctr += 1"
   ]
  },
  {
   "cell_type": "markdown",
   "metadata": {},
   "source": [
    "### GANTT Chart of Raw Schedule"
   ]
  },
  {
   "cell_type": "code",
   "execution_count": 10,
   "metadata": {},
   "outputs": [
    {
     "data": {
      "application/vnd.plotly.v1+json": {
       "config": {
        "plotlyServerURL": "https://plot.ly"
       },
       "data": [
        {
         "alignmentgroup": "True",
         "base": [
          "2025-03-19",
          "2025-04-29",
          "2025-06-22",
          "2025-10-19",
          "2025-12-12",
          "2025-03-19",
          "2025-04-11",
          "2025-06-03",
          "2025-06-19",
          "2025-07-12",
          "2025-03-19",
          "2025-06-08",
          "2025-10-02",
          "2025-11-12",
          "2025-10-15",
          "2025-05-26",
          "2025-08-21",
          "2025-10-27",
          "2026-01-15",
          "2026-03-02",
          "2025-03-19",
          "2025-06-10",
          "2025-07-14",
          "2025-09-18",
          "2025-10-05",
          "2025-03-19",
          "2025-05-12",
          "2025-08-09",
          "2025-10-27",
          "2025-12-16",
          "2025-04-28",
          "2025-11-11",
          "2026-01-27",
          "2026-03-22",
          "2026-05-18",
          "2025-03-23",
          "2025-06-22",
          "2025-08-21",
          "2025-10-01",
          "2026-01-16",
          "2025-03-19",
          "2025-04-09",
          "2025-05-24",
          "2025-06-18",
          "2025-08-01",
          "2025-03-19",
          "2025-07-14",
          "2025-10-01",
          "2025-11-13",
          "2026-01-27",
          "2025-04-09",
          "2025-06-21",
          "2025-09-25",
          "2025-12-13",
          "2026-01-15",
          "2025-04-09",
          "2025-06-02",
          "2025-06-19",
          "2025-07-15",
          "2025-09-21",
          "2025-04-27",
          "2025-09-14",
          "2025-11-13",
          "2025-12-13",
          "2025-10-27",
          "2025-08-11",
          "2025-10-15",
          "2026-01-14",
          "2026-03-22",
          "2026-05-18",
          "2025-06-10",
          "2025-07-14",
          "2025-09-16",
          "2025-10-07",
          "2025-11-11",
          "2025-05-12",
          "2025-06-24",
          "2025-10-27",
          "2026-01-27",
          "2026-02-16",
          "2025-07-06",
          "2026-01-27",
          "2026-04-24",
          "2026-06-17",
          "2026-08-19",
          "2025-04-30",
          "2025-08-21",
          "2025-10-01",
          "2025-10-25",
          "2026-04-09",
          "2025-04-05",
          "2025-05-28",
          "2025-06-18",
          "2025-08-01",
          "2025-11-07",
          "2025-06-04",
          "2025-10-01",
          "2025-11-13"
         ],
         "hovertemplate": "<b>%{hovertext}</b><br><br>Job=<br>Start=%{base}<br>Finish=%{x}<br>Machine=%{y}<extra></extra>",
         "hovertext": [
          "Job1_Task1",
          "Job1_Task2",
          "Job1_Task3",
          "Job1_Task4",
          "Job1_Task5",
          "Job2_Task1",
          "Job2_Task2",
          "Job2_Task3",
          "Job2_Task4",
          "Job2_Task5",
          "Job3_Task1",
          "Job3_Task2",
          "Job3_Task3",
          "Job3_Task4",
          "Job3_Task5",
          "Job4_Task1",
          "Job4_Task2",
          "Job4_Task3",
          "Job4_Task4",
          "Job4_Task5",
          "Job5_Task1",
          "Job5_Task2",
          "Job5_Task3",
          "Job5_Task4",
          "Job5_Task5",
          "Job6_Task1",
          "Job6_Task2",
          "Job6_Task3",
          "Job6_Task4",
          "Job6_Task5",
          "Job7_Task1",
          "Job7_Task2",
          "Job7_Task3",
          "Job7_Task4",
          "Job7_Task5",
          "Job8_Task1",
          "Job8_Task2",
          "Job8_Task3",
          "Job8_Task4",
          "Job8_Task5",
          "Job9_Task1",
          "Job9_Task2",
          "Job9_Task3",
          "Job9_Task4",
          "Job9_Task5",
          "Job10_Task1",
          "Job10_Task2",
          "Job10_Task3",
          "Job10_Task4",
          "Job10_Task5",
          "Hand-off: Machine_1-Job1_Task1 --> Machine_0-Job1_Task2",
          "Hand-off: Machine_0-Job1_Task2 --> Machine_4-Job1_Task3",
          "Hand-off: Machine_4-Job1_Task3 --> Machine_3-Job1_Task4",
          "Hand-off: Machine_3-Job1_Task4 --> Machine_2-Job1_Task5",
          "Hand-off: Machine_2-Job1_Task5 --> Machine_0-Job2_Task1",
          "Hand-off: Machine_0-Job2_Task1 --> Machine_3-Job2_Task2",
          "Hand-off: Machine_3-Job2_Task2 --> Machine_4-Job2_Task3",
          "Hand-off: Machine_4-Job2_Task3 --> Machine_2-Job2_Task4",
          "Hand-off: Machine_2-Job2_Task4 --> Machine_1-Job2_Task5",
          "Hand-off: Machine_1-Job2_Task5 --> Machine_3-Job3_Task1",
          "Hand-off: Machine_3-Job3_Task1 --> Machine_4-Job3_Task2",
          "Hand-off: Machine_4-Job3_Task2 --> Machine_1-Job3_Task3",
          "Hand-off: Machine_1-Job3_Task3 --> Machine_2-Job3_Task4",
          "Hand-off: Machine_2-Job3_Task4 --> Machine_0-Job3_Task5",
          "Hand-off: Machine_0-Job3_Task5 --> Machine_1-Job4_Task1",
          "Hand-off: Machine_1-Job4_Task1 --> Machine_0-Job4_Task2",
          "Hand-off: Machine_0-Job4_Task2 --> Machine_4-Job4_Task3",
          "Hand-off: Machine_4-Job4_Task3 --> Machine_2-Job4_Task4",
          "Hand-off: Machine_2-Job4_Task4 --> Machine_3-Job4_Task5",
          "Hand-off: Machine_3-Job4_Task5 --> Machine_0-Job5_Task1",
          "Hand-off: Machine_0-Job5_Task1 --> Machine_3-Job5_Task2",
          "Hand-off: Machine_3-Job5_Task2 --> Machine_2-Job5_Task3",
          "Hand-off: Machine_2-Job5_Task3 --> Machine_1-Job5_Task4",
          "Hand-off: Machine_1-Job5_Task4 --> Machine_4-Job5_Task5",
          "Hand-off: Machine_4-Job5_Task5 --> Machine_1-Job6_Task1",
          "Hand-off: Machine_1-Job6_Task1 --> Machine_2-Job6_Task2",
          "Hand-off: Machine_2-Job6_Task2 --> Machine_4-Job6_Task3",
          "Hand-off: Machine_4-Job6_Task3 --> Machine_0-Job6_Task4",
          "Hand-off: Machine_0-Job6_Task4 --> Machine_3-Job6_Task5",
          "Hand-off: Machine_3-Job6_Task5 --> Machine_3-Job7_Task1",
          "Hand-off: Machine_3-Job7_Task1 --> Machine_4-Job7_Task2",
          "Hand-off: Machine_4-Job7_Task2 --> Machine_1-Job7_Task3",
          "Hand-off: Machine_1-Job7_Task3 --> Machine_2-Job7_Task4",
          "Hand-off: Machine_2-Job7_Task4 --> Machine_0-Job7_Task5",
          "Hand-off: Machine_0-Job7_Task5 --> Machine_2-Job8_Task1",
          "Hand-off: Machine_2-Job8_Task1 --> Machine_0-Job8_Task2",
          "Hand-off: Machine_0-Job8_Task2 --> Machine_1-Job8_Task3",
          "Hand-off: Machine_1-Job8_Task3 --> Machine_3-Job8_Task4",
          "Hand-off: Machine_3-Job8_Task4 --> Machine_4-Job8_Task5",
          "Hand-off: Machine_4-Job8_Task5 --> Machine_3-Job9_Task1",
          "Hand-off: Machine_3-Job9_Task1 --> Machine_1-Job9_Task2",
          "Hand-off: Machine_1-Job9_Task2 --> Machine_4-Job9_Task3",
          "Hand-off: Machine_4-Job9_Task3 --> Machine_0-Job9_Task4",
          "Hand-off: Machine_0-Job9_Task4 --> Machine_2-Job9_Task5",
          "Hand-off: Machine_2-Job9_Task5 --> Machine_4-Job10_Task1",
          "Hand-off: Machine_4-Job10_Task1 --> Machine_3-Job10_Task2",
          "Hand-off: Machine_3-Job10_Task2 --> Machine_2-Job10_Task3",
          "Hand-off: Machine_2-Job10_Task3 --> Machine_1-Job10_Task4"
         ],
         "legendgroup": "",
         "marker": {
          "color": "#d5d5d5",
          "pattern": {
           "shape": ""
          }
         },
         "name": "",
         "offsetgroup": "",
         "orientation": "h",
         "showlegend": false,
         "textposition": "auto",
         "type": "bar",
         "x": [
          1814400000,
          4579200000,
          8208000000,
          4752000000,
          2937600000,
          1814400000,
          4492800000,
          1382400000,
          2246400000,
          6134400000,
          3369600000,
          8467200000,
          3628800000,
          2678400000,
          1036800000,
          6652800000,
          4752000000,
          6825600000,
          5702400000,
          6652800000,
          7171200000,
          2937600000,
          5529600000,
          1641600000,
          3196800000,
          4665600000,
          3715200000,
          6825600000,
          7948800000,
          5356800000,
          5961600000,
          6652800000,
          7516800000,
          7516800000,
          8035200000,
          3283200000,
          5184000000,
          3542400000,
          2073600000,
          7171200000,
          1468800000,
          4233600000,
          2160000000,
          3801600000,
          8467200000,
          6652800000,
          6825600000,
          3715200000,
          6480000000,
          8294400000,
          0,
          0,
          0,
          0,
          0,
          0,
          0,
          0,
          0,
          0,
          0,
          0,
          0,
          0,
          0,
          0,
          0,
          0,
          0,
          0,
          0,
          0,
          0,
          0,
          0,
          0,
          0,
          0,
          0,
          0,
          0,
          0,
          0,
          0,
          0,
          0,
          0,
          0,
          0,
          0,
          0,
          0,
          0,
          0,
          0,
          0,
          0,
          0
         ],
         "xaxis": "x",
         "y": [
          "Machine_1",
          "Machine_0",
          "Machine_4",
          "Machine_3",
          "Machine_2",
          "Machine_0",
          "Machine_3",
          "Machine_4",
          "Machine_2",
          "Machine_1",
          "Machine_3",
          "Machine_4",
          "Machine_1",
          "Machine_2",
          "Machine_0",
          "Machine_1",
          "Machine_0",
          "Machine_4",
          "Machine_2",
          "Machine_3",
          "Machine_0",
          "Machine_3",
          "Machine_2",
          "Machine_1",
          "Machine_4",
          "Machine_1",
          "Machine_2",
          "Machine_4",
          "Machine_0",
          "Machine_3",
          "Machine_3",
          "Machine_4",
          "Machine_1",
          "Machine_2",
          "Machine_0",
          "Machine_2",
          "Machine_0",
          "Machine_1",
          "Machine_3",
          "Machine_4",
          "Machine_3",
          "Machine_1",
          "Machine_4",
          "Machine_0",
          "Machine_2",
          "Machine_4",
          "Machine_3",
          "Machine_2",
          "Machine_1",
          "Machine_0",
          "Machine_1",
          "Machine_0",
          "Machine_4",
          "Machine_3",
          "Machine_2",
          "Machine_0",
          "Machine_3",
          "Machine_4",
          "Machine_2",
          "Machine_1",
          "Machine_3",
          "Machine_4",
          "Machine_1",
          "Machine_2",
          "Machine_0",
          "Machine_1",
          "Machine_0",
          "Machine_4",
          "Machine_2",
          "Machine_3",
          "Machine_0",
          "Machine_3",
          "Machine_2",
          "Machine_1",
          "Machine_4",
          "Machine_1",
          "Machine_2",
          "Machine_4",
          "Machine_0",
          "Machine_3",
          "Machine_3",
          "Machine_4",
          "Machine_1",
          "Machine_2",
          "Machine_0",
          "Machine_2",
          "Machine_0",
          "Machine_1",
          "Machine_3",
          "Machine_4",
          "Machine_3",
          "Machine_1",
          "Machine_4",
          "Machine_0",
          "Machine_2",
          "Machine_4",
          "Machine_3",
          "Machine_2"
         ],
         "yaxis": "y"
        },
        {
         "alignmentgroup": "True",
         "base": [
          "2025-03-19",
          "2025-04-29",
          "2025-06-22",
          "2025-10-19",
          "2025-12-12"
         ],
         "hovertemplate": "<b>%{hovertext}</b><br><br>Job=Job1<br>Start=%{base}<br>Finish=%{x}<br>Machine=%{y}<extra></extra>",
         "hovertext": [
          "Job1_Task1",
          "Job1_Task2",
          "Job1_Task3",
          "Job1_Task4",
          "Job1_Task5"
         ],
         "legendgroup": "Job1",
         "marker": {
          "color": "#ef553b",
          "pattern": {
           "shape": ""
          }
         },
         "name": "Job1",
         "offsetgroup": "Job1",
         "orientation": "h",
         "showlegend": true,
         "textposition": "auto",
         "type": "bar",
         "x": [
          1814400000,
          4579200000,
          8208000000,
          4752000000,
          2937600000
         ],
         "xaxis": "x",
         "y": [
          "Machine_1",
          "Machine_0",
          "Machine_4",
          "Machine_3",
          "Machine_2"
         ],
         "yaxis": "y"
        },
        {
         "alignmentgroup": "True",
         "base": [
          "2025-03-19",
          "2025-04-11",
          "2025-06-03",
          "2025-06-19",
          "2025-07-12"
         ],
         "hovertemplate": "<b>%{hovertext}</b><br><br>Job=Job2<br>Start=%{base}<br>Finish=%{x}<br>Machine=%{y}<extra></extra>",
         "hovertext": [
          "Job2_Task1",
          "Job2_Task2",
          "Job2_Task3",
          "Job2_Task4",
          "Job2_Task5"
         ],
         "legendgroup": "Job2",
         "marker": {
          "color": "#ff97ff",
          "pattern": {
           "shape": ""
          }
         },
         "name": "Job2",
         "offsetgroup": "Job2",
         "orientation": "h",
         "showlegend": true,
         "textposition": "auto",
         "type": "bar",
         "x": [
          1814400000,
          4492800000,
          1382400000,
          2246400000,
          6134400000
         ],
         "xaxis": "x",
         "y": [
          "Machine_0",
          "Machine_3",
          "Machine_4",
          "Machine_2",
          "Machine_1"
         ],
         "yaxis": "y"
        },
        {
         "alignmentgroup": "True",
         "base": [
          "2025-03-19",
          "2025-06-08",
          "2025-10-02",
          "2025-11-12",
          "2025-10-15"
         ],
         "hovertemplate": "<b>%{hovertext}</b><br><br>Job=Job3<br>Start=%{base}<br>Finish=%{x}<br>Machine=%{y}<extra></extra>",
         "hovertext": [
          "Job3_Task1",
          "Job3_Task2",
          "Job3_Task3",
          "Job3_Task4",
          "Job3_Task5"
         ],
         "legendgroup": "Job3",
         "marker": {
          "color": "#ffa15a",
          "pattern": {
           "shape": ""
          }
         },
         "name": "Job3",
         "offsetgroup": "Job3",
         "orientation": "h",
         "showlegend": true,
         "textposition": "auto",
         "type": "bar",
         "x": [
          3369600000,
          8467200000,
          3628800000,
          2678400000,
          1036800000
         ],
         "xaxis": "x",
         "y": [
          "Machine_3",
          "Machine_4",
          "Machine_1",
          "Machine_2",
          "Machine_0"
         ],
         "yaxis": "y"
        },
        {
         "alignmentgroup": "True",
         "base": [
          "2025-05-26",
          "2025-08-21",
          "2025-10-27",
          "2026-01-15",
          "2026-03-02"
         ],
         "hovertemplate": "<b>%{hovertext}</b><br><br>Job=Job4<br>Start=%{base}<br>Finish=%{x}<br>Machine=%{y}<extra></extra>",
         "hovertext": [
          "Job4_Task1",
          "Job4_Task2",
          "Job4_Task3",
          "Job4_Task4",
          "Job4_Task5"
         ],
         "legendgroup": "Job4",
         "marker": {
          "color": "#abc3f1",
          "pattern": {
           "shape": ""
          }
         },
         "name": "Job4",
         "offsetgroup": "Job4",
         "orientation": "h",
         "showlegend": true,
         "textposition": "auto",
         "type": "bar",
         "x": [
          6652800000,
          4752000000,
          6825600000,
          5702400000,
          6652800000
         ],
         "xaxis": "x",
         "y": [
          "Machine_1",
          "Machine_0",
          "Machine_4",
          "Machine_2",
          "Machine_3"
         ],
         "yaxis": "y"
        },
        {
         "alignmentgroup": "True",
         "base": [
          "2025-03-19",
          "2025-06-10",
          "2025-07-14",
          "2025-09-18",
          "2025-10-05"
         ],
         "hovertemplate": "<b>%{hovertext}</b><br><br>Job=Job5<br>Start=%{base}<br>Finish=%{x}<br>Machine=%{y}<extra></extra>",
         "hovertext": [
          "Job5_Task1",
          "Job5_Task2",
          "Job5_Task3",
          "Job5_Task4",
          "Job5_Task5"
         ],
         "legendgroup": "Job5",
         "marker": {
          "color": "#19d3f3",
          "pattern": {
           "shape": ""
          }
         },
         "name": "Job5",
         "offsetgroup": "Job5",
         "orientation": "h",
         "showlegend": true,
         "textposition": "auto",
         "type": "bar",
         "x": [
          7171200000,
          2937600000,
          5529600000,
          1641600000,
          3196800000
         ],
         "xaxis": "x",
         "y": [
          "Machine_0",
          "Machine_3",
          "Machine_2",
          "Machine_1",
          "Machine_4"
         ],
         "yaxis": "y"
        },
        {
         "alignmentgroup": "True",
         "base": [
          "2025-03-19",
          "2025-05-12",
          "2025-08-09",
          "2025-10-27",
          "2025-12-16"
         ],
         "hovertemplate": "<b>%{hovertext}</b><br><br>Job=Job6<br>Start=%{base}<br>Finish=%{x}<br>Machine=%{y}<extra></extra>",
         "hovertext": [
          "Job6_Task1",
          "Job6_Task2",
          "Job6_Task3",
          "Job6_Task4",
          "Job6_Task5"
         ],
         "legendgroup": "Job6",
         "marker": {
          "color": "#b6e880",
          "pattern": {
           "shape": ""
          }
         },
         "name": "Job6",
         "offsetgroup": "Job6",
         "orientation": "h",
         "showlegend": true,
         "textposition": "auto",
         "type": "bar",
         "x": [
          4665600000,
          3715200000,
          6825600000,
          7948800000,
          5356800000
         ],
         "xaxis": "x",
         "y": [
          "Machine_1",
          "Machine_2",
          "Machine_4",
          "Machine_0",
          "Machine_3"
         ],
         "yaxis": "y"
        },
        {
         "alignmentgroup": "True",
         "base": [
          "2025-04-28",
          "2025-11-11",
          "2026-01-27",
          "2026-03-22",
          "2026-05-18"
         ],
         "hovertemplate": "<b>%{hovertext}</b><br><br>Job=Job7<br>Start=%{base}<br>Finish=%{x}<br>Machine=%{y}<extra></extra>",
         "hovertext": [
          "Job7_Task1",
          "Job7_Task2",
          "Job7_Task3",
          "Job7_Task4",
          "Job7_Task5"
         ],
         "legendgroup": "Job7",
         "marker": {
          "color": "#fecb52",
          "pattern": {
           "shape": ""
          }
         },
         "name": "Job7",
         "offsetgroup": "Job7",
         "orientation": "h",
         "showlegend": true,
         "textposition": "auto",
         "type": "bar",
         "x": [
          5961600000,
          6652800000,
          7516800000,
          7516800000,
          8035200000
         ],
         "xaxis": "x",
         "y": [
          "Machine_3",
          "Machine_4",
          "Machine_1",
          "Machine_2",
          "Machine_0"
         ],
         "yaxis": "y"
        },
        {
         "alignmentgroup": "True",
         "base": [
          "2025-03-23",
          "2025-06-22",
          "2025-08-21",
          "2025-10-01",
          "2026-01-16"
         ],
         "hovertemplate": "<b>%{hovertext}</b><br><br>Job=Job8<br>Start=%{base}<br>Finish=%{x}<br>Machine=%{y}<extra></extra>",
         "hovertext": [
          "Job8_Task1",
          "Job8_Task2",
          "Job8_Task3",
          "Job8_Task4",
          "Job8_Task5"
         ],
         "legendgroup": "Job8",
         "marker": {
          "color": "#ff6692",
          "pattern": {
           "shape": ""
          }
         },
         "name": "Job8",
         "offsetgroup": "Job8",
         "orientation": "h",
         "showlegend": true,
         "textposition": "auto",
         "type": "bar",
         "x": [
          3283200000,
          5184000000,
          3542400000,
          2073600000,
          7171200000
         ],
         "xaxis": "x",
         "y": [
          "Machine_2",
          "Machine_0",
          "Machine_1",
          "Machine_3",
          "Machine_4"
         ],
         "yaxis": "y"
        },
        {
         "alignmentgroup": "True",
         "base": [
          "2025-03-19",
          "2025-04-09",
          "2025-05-24",
          "2025-06-18",
          "2025-08-01"
         ],
         "hovertemplate": "<b>%{hovertext}</b><br><br>Job=Job9<br>Start=%{base}<br>Finish=%{x}<br>Machine=%{y}<extra></extra>",
         "hovertext": [
          "Job9_Task1",
          "Job9_Task2",
          "Job9_Task3",
          "Job9_Task4",
          "Job9_Task5"
         ],
         "legendgroup": "Job9",
         "marker": {
          "color": "#00cc96",
          "pattern": {
           "shape": ""
          }
         },
         "name": "Job9",
         "offsetgroup": "Job9",
         "orientation": "h",
         "showlegend": true,
         "textposition": "auto",
         "type": "bar",
         "x": [
          1468800000,
          4233600000,
          2160000000,
          3801600000,
          8467200000
         ],
         "xaxis": "x",
         "y": [
          "Machine_3",
          "Machine_1",
          "Machine_4",
          "Machine_0",
          "Machine_2"
         ],
         "yaxis": "y"
        },
        {
         "alignmentgroup": "True",
         "base": [
          "2025-03-19",
          "2025-07-14",
          "2025-10-01",
          "2025-11-13",
          "2026-01-27"
         ],
         "hovertemplate": "<b>%{hovertext}</b><br><br>Job=Job10<br>Start=%{base}<br>Finish=%{x}<br>Machine=%{y}<extra></extra>",
         "hovertext": [
          "Job10_Task1",
          "Job10_Task2",
          "Job10_Task3",
          "Job10_Task4",
          "Job10_Task5"
         ],
         "legendgroup": "Job10",
         "marker": {
          "color": "#cf2918",
          "pattern": {
           "shape": ""
          }
         },
         "name": "Job10",
         "offsetgroup": "Job10",
         "orientation": "h",
         "showlegend": true,
         "textposition": "auto",
         "type": "bar",
         "x": [
          6652800000,
          6825600000,
          3715200000,
          6480000000,
          8294400000
         ],
         "xaxis": "x",
         "y": [
          "Machine_4",
          "Machine_3",
          "Machine_2",
          "Machine_1",
          "Machine_0"
         ],
         "yaxis": "y"
        },
        {
         "alignmentgroup": "True",
         "base": [
          "2025-04-09",
          "2025-06-21",
          "2025-09-25",
          "2025-12-13",
          "2026-01-15",
          "2025-04-09",
          "2025-06-02",
          "2025-06-19",
          "2025-07-15",
          "2025-09-21",
          "2025-04-27",
          "2025-09-14",
          "2025-11-13",
          "2025-12-13",
          "2025-10-27",
          "2025-08-11",
          "2025-10-15",
          "2026-01-14",
          "2026-03-22",
          "2026-05-18",
          "2025-06-10",
          "2025-07-14",
          "2025-09-16",
          "2025-10-07",
          "2025-11-11",
          "2025-05-12",
          "2025-06-24",
          "2025-10-27",
          "2026-01-27",
          "2026-02-16",
          "2025-07-06",
          "2026-01-27",
          "2026-04-24",
          "2026-06-17",
          "2026-08-19",
          "2025-04-30",
          "2025-08-21",
          "2025-10-01",
          "2025-10-25",
          "2026-04-09",
          "2025-04-05",
          "2025-05-28",
          "2025-06-18",
          "2025-08-01",
          "2025-11-07",
          "2025-06-04",
          "2025-10-01",
          "2025-11-13"
         ],
         "hovertemplate": "<b>%{hovertext}</b><br><br>Job=Hand-off<br>Start=%{base}<br>Finish=%{x}<br>Machine=%{y}<extra></extra>",
         "hovertext": [
          "Hand-off: Machine_1-Job1_Task1 --> Machine_0-Job1_Task2",
          "Hand-off: Machine_0-Job1_Task2 --> Machine_4-Job1_Task3",
          "Hand-off: Machine_4-Job1_Task3 --> Machine_3-Job1_Task4",
          "Hand-off: Machine_3-Job1_Task4 --> Machine_2-Job1_Task5",
          "Hand-off: Machine_2-Job1_Task5 --> Machine_0-Job2_Task1",
          "Hand-off: Machine_0-Job2_Task1 --> Machine_3-Job2_Task2",
          "Hand-off: Machine_3-Job2_Task2 --> Machine_4-Job2_Task3",
          "Hand-off: Machine_4-Job2_Task3 --> Machine_2-Job2_Task4",
          "Hand-off: Machine_2-Job2_Task4 --> Machine_1-Job2_Task5",
          "Hand-off: Machine_1-Job2_Task5 --> Machine_3-Job3_Task1",
          "Hand-off: Machine_3-Job3_Task1 --> Machine_4-Job3_Task2",
          "Hand-off: Machine_4-Job3_Task2 --> Machine_1-Job3_Task3",
          "Hand-off: Machine_1-Job3_Task3 --> Machine_2-Job3_Task4",
          "Hand-off: Machine_2-Job3_Task4 --> Machine_0-Job3_Task5",
          "Hand-off: Machine_0-Job3_Task5 --> Machine_1-Job4_Task1",
          "Hand-off: Machine_1-Job4_Task1 --> Machine_0-Job4_Task2",
          "Hand-off: Machine_0-Job4_Task2 --> Machine_4-Job4_Task3",
          "Hand-off: Machine_4-Job4_Task3 --> Machine_2-Job4_Task4",
          "Hand-off: Machine_2-Job4_Task4 --> Machine_3-Job4_Task5",
          "Hand-off: Machine_3-Job4_Task5 --> Machine_0-Job5_Task1",
          "Hand-off: Machine_0-Job5_Task1 --> Machine_3-Job5_Task2",
          "Hand-off: Machine_3-Job5_Task2 --> Machine_2-Job5_Task3",
          "Hand-off: Machine_2-Job5_Task3 --> Machine_1-Job5_Task4",
          "Hand-off: Machine_1-Job5_Task4 --> Machine_4-Job5_Task5",
          "Hand-off: Machine_4-Job5_Task5 --> Machine_1-Job6_Task1",
          "Hand-off: Machine_1-Job6_Task1 --> Machine_2-Job6_Task2",
          "Hand-off: Machine_2-Job6_Task2 --> Machine_4-Job6_Task3",
          "Hand-off: Machine_4-Job6_Task3 --> Machine_0-Job6_Task4",
          "Hand-off: Machine_0-Job6_Task4 --> Machine_3-Job6_Task5",
          "Hand-off: Machine_3-Job6_Task5 --> Machine_3-Job7_Task1",
          "Hand-off: Machine_3-Job7_Task1 --> Machine_4-Job7_Task2",
          "Hand-off: Machine_4-Job7_Task2 --> Machine_1-Job7_Task3",
          "Hand-off: Machine_1-Job7_Task3 --> Machine_2-Job7_Task4",
          "Hand-off: Machine_2-Job7_Task4 --> Machine_0-Job7_Task5",
          "Hand-off: Machine_0-Job7_Task5 --> Machine_2-Job8_Task1",
          "Hand-off: Machine_2-Job8_Task1 --> Machine_0-Job8_Task2",
          "Hand-off: Machine_0-Job8_Task2 --> Machine_1-Job8_Task3",
          "Hand-off: Machine_1-Job8_Task3 --> Machine_3-Job8_Task4",
          "Hand-off: Machine_3-Job8_Task4 --> Machine_4-Job8_Task5",
          "Hand-off: Machine_4-Job8_Task5 --> Machine_3-Job9_Task1",
          "Hand-off: Machine_3-Job9_Task1 --> Machine_1-Job9_Task2",
          "Hand-off: Machine_1-Job9_Task2 --> Machine_4-Job9_Task3",
          "Hand-off: Machine_4-Job9_Task3 --> Machine_0-Job9_Task4",
          "Hand-off: Machine_0-Job9_Task4 --> Machine_2-Job9_Task5",
          "Hand-off: Machine_2-Job9_Task5 --> Machine_4-Job10_Task1",
          "Hand-off: Machine_4-Job10_Task1 --> Machine_3-Job10_Task2",
          "Hand-off: Machine_3-Job10_Task2 --> Machine_2-Job10_Task3",
          "Hand-off: Machine_2-Job10_Task3 --> Machine_1-Job10_Task4"
         ],
         "legendgroup": "Hand-off",
         "marker": {
          "color": "#a44155",
          "pattern": {
           "shape": ""
          }
         },
         "name": "Hand-off",
         "offsetgroup": "Hand-off",
         "orientation": "h",
         "showlegend": true,
         "textposition": "auto",
         "type": "bar",
         "x": [
          0,
          0,
          0,
          0,
          0,
          0,
          0,
          0,
          0,
          0,
          0,
          0,
          0,
          0,
          0,
          0,
          0,
          0,
          0,
          0,
          0,
          0,
          0,
          0,
          0,
          0,
          0,
          0,
          0,
          0,
          0,
          0,
          0,
          0,
          0,
          0,
          0,
          0,
          0,
          0,
          0,
          0,
          0,
          0,
          0,
          0,
          0,
          0
         ],
         "xaxis": "x",
         "y": [
          "Machine_1",
          "Machine_0",
          "Machine_4",
          "Machine_3",
          "Machine_2",
          "Machine_0",
          "Machine_3",
          "Machine_4",
          "Machine_2",
          "Machine_1",
          "Machine_3",
          "Machine_4",
          "Machine_1",
          "Machine_2",
          "Machine_0",
          "Machine_1",
          "Machine_0",
          "Machine_4",
          "Machine_2",
          "Machine_3",
          "Machine_0",
          "Machine_3",
          "Machine_2",
          "Machine_1",
          "Machine_4",
          "Machine_1",
          "Machine_2",
          "Machine_4",
          "Machine_0",
          "Machine_3",
          "Machine_3",
          "Machine_4",
          "Machine_1",
          "Machine_2",
          "Machine_0",
          "Machine_2",
          "Machine_0",
          "Machine_1",
          "Machine_3",
          "Machine_4",
          "Machine_3",
          "Machine_1",
          "Machine_4",
          "Machine_0",
          "Machine_2",
          "Machine_4",
          "Machine_3",
          "Machine_2"
         ],
         "yaxis": "y"
        }
       ],
       "layout": {
        "barmode": "overlay",
        "legend": {
         "title": {
          "text": "Job"
         },
         "tracegroupgap": 0
        },
        "margin": {
         "t": 60
        },
        "showlegend": true,
        "template": {
         "data": {
          "bar": [
           {
            "error_x": {
             "color": "#2a3f5f"
            },
            "error_y": {
             "color": "#2a3f5f"
            },
            "marker": {
             "line": {
              "color": "#E5ECF6",
              "width": 0.5
             },
             "pattern": {
              "fillmode": "overlay",
              "size": 10,
              "solidity": 0.2
             }
            },
            "type": "bar"
           }
          ],
          "barpolar": [
           {
            "marker": {
             "line": {
              "color": "#E5ECF6",
              "width": 0.5
             },
             "pattern": {
              "fillmode": "overlay",
              "size": 10,
              "solidity": 0.2
             }
            },
            "type": "barpolar"
           }
          ],
          "carpet": [
           {
            "aaxis": {
             "endlinecolor": "#2a3f5f",
             "gridcolor": "white",
             "linecolor": "white",
             "minorgridcolor": "white",
             "startlinecolor": "#2a3f5f"
            },
            "baxis": {
             "endlinecolor": "#2a3f5f",
             "gridcolor": "white",
             "linecolor": "white",
             "minorgridcolor": "white",
             "startlinecolor": "#2a3f5f"
            },
            "type": "carpet"
           }
          ],
          "choropleth": [
           {
            "colorbar": {
             "outlinewidth": 0,
             "ticks": ""
            },
            "type": "choropleth"
           }
          ],
          "contour": [
           {
            "colorbar": {
             "outlinewidth": 0,
             "ticks": ""
            },
            "colorscale": [
             [
              0,
              "#0d0887"
             ],
             [
              0.1111111111111111,
              "#46039f"
             ],
             [
              0.2222222222222222,
              "#7201a8"
             ],
             [
              0.3333333333333333,
              "#9c179e"
             ],
             [
              0.4444444444444444,
              "#bd3786"
             ],
             [
              0.5555555555555556,
              "#d8576b"
             ],
             [
              0.6666666666666666,
              "#ed7953"
             ],
             [
              0.7777777777777778,
              "#fb9f3a"
             ],
             [
              0.8888888888888888,
              "#fdca26"
             ],
             [
              1,
              "#f0f921"
             ]
            ],
            "type": "contour"
           }
          ],
          "contourcarpet": [
           {
            "colorbar": {
             "outlinewidth": 0,
             "ticks": ""
            },
            "type": "contourcarpet"
           }
          ],
          "heatmap": [
           {
            "colorbar": {
             "outlinewidth": 0,
             "ticks": ""
            },
            "colorscale": [
             [
              0,
              "#0d0887"
             ],
             [
              0.1111111111111111,
              "#46039f"
             ],
             [
              0.2222222222222222,
              "#7201a8"
             ],
             [
              0.3333333333333333,
              "#9c179e"
             ],
             [
              0.4444444444444444,
              "#bd3786"
             ],
             [
              0.5555555555555556,
              "#d8576b"
             ],
             [
              0.6666666666666666,
              "#ed7953"
             ],
             [
              0.7777777777777778,
              "#fb9f3a"
             ],
             [
              0.8888888888888888,
              "#fdca26"
             ],
             [
              1,
              "#f0f921"
             ]
            ],
            "type": "heatmap"
           }
          ],
          "heatmapgl": [
           {
            "colorbar": {
             "outlinewidth": 0,
             "ticks": ""
            },
            "colorscale": [
             [
              0,
              "#0d0887"
             ],
             [
              0.1111111111111111,
              "#46039f"
             ],
             [
              0.2222222222222222,
              "#7201a8"
             ],
             [
              0.3333333333333333,
              "#9c179e"
             ],
             [
              0.4444444444444444,
              "#bd3786"
             ],
             [
              0.5555555555555556,
              "#d8576b"
             ],
             [
              0.6666666666666666,
              "#ed7953"
             ],
             [
              0.7777777777777778,
              "#fb9f3a"
             ],
             [
              0.8888888888888888,
              "#fdca26"
             ],
             [
              1,
              "#f0f921"
             ]
            ],
            "type": "heatmapgl"
           }
          ],
          "histogram": [
           {
            "marker": {
             "pattern": {
              "fillmode": "overlay",
              "size": 10,
              "solidity": 0.2
             }
            },
            "type": "histogram"
           }
          ],
          "histogram2d": [
           {
            "colorbar": {
             "outlinewidth": 0,
             "ticks": ""
            },
            "colorscale": [
             [
              0,
              "#0d0887"
             ],
             [
              0.1111111111111111,
              "#46039f"
             ],
             [
              0.2222222222222222,
              "#7201a8"
             ],
             [
              0.3333333333333333,
              "#9c179e"
             ],
             [
              0.4444444444444444,
              "#bd3786"
             ],
             [
              0.5555555555555556,
              "#d8576b"
             ],
             [
              0.6666666666666666,
              "#ed7953"
             ],
             [
              0.7777777777777778,
              "#fb9f3a"
             ],
             [
              0.8888888888888888,
              "#fdca26"
             ],
             [
              1,
              "#f0f921"
             ]
            ],
            "type": "histogram2d"
           }
          ],
          "histogram2dcontour": [
           {
            "colorbar": {
             "outlinewidth": 0,
             "ticks": ""
            },
            "colorscale": [
             [
              0,
              "#0d0887"
             ],
             [
              0.1111111111111111,
              "#46039f"
             ],
             [
              0.2222222222222222,
              "#7201a8"
             ],
             [
              0.3333333333333333,
              "#9c179e"
             ],
             [
              0.4444444444444444,
              "#bd3786"
             ],
             [
              0.5555555555555556,
              "#d8576b"
             ],
             [
              0.6666666666666666,
              "#ed7953"
             ],
             [
              0.7777777777777778,
              "#fb9f3a"
             ],
             [
              0.8888888888888888,
              "#fdca26"
             ],
             [
              1,
              "#f0f921"
             ]
            ],
            "type": "histogram2dcontour"
           }
          ],
          "mesh3d": [
           {
            "colorbar": {
             "outlinewidth": 0,
             "ticks": ""
            },
            "type": "mesh3d"
           }
          ],
          "parcoords": [
           {
            "line": {
             "colorbar": {
              "outlinewidth": 0,
              "ticks": ""
             }
            },
            "type": "parcoords"
           }
          ],
          "pie": [
           {
            "automargin": true,
            "type": "pie"
           }
          ],
          "scatter": [
           {
            "fillpattern": {
             "fillmode": "overlay",
             "size": 10,
             "solidity": 0.2
            },
            "type": "scatter"
           }
          ],
          "scatter3d": [
           {
            "line": {
             "colorbar": {
              "outlinewidth": 0,
              "ticks": ""
             }
            },
            "marker": {
             "colorbar": {
              "outlinewidth": 0,
              "ticks": ""
             }
            },
            "type": "scatter3d"
           }
          ],
          "scattercarpet": [
           {
            "marker": {
             "colorbar": {
              "outlinewidth": 0,
              "ticks": ""
             }
            },
            "type": "scattercarpet"
           }
          ],
          "scattergeo": [
           {
            "marker": {
             "colorbar": {
              "outlinewidth": 0,
              "ticks": ""
             }
            },
            "type": "scattergeo"
           }
          ],
          "scattergl": [
           {
            "marker": {
             "colorbar": {
              "outlinewidth": 0,
              "ticks": ""
             }
            },
            "type": "scattergl"
           }
          ],
          "scattermapbox": [
           {
            "marker": {
             "colorbar": {
              "outlinewidth": 0,
              "ticks": ""
             }
            },
            "type": "scattermapbox"
           }
          ],
          "scatterpolar": [
           {
            "marker": {
             "colorbar": {
              "outlinewidth": 0,
              "ticks": ""
             }
            },
            "type": "scatterpolar"
           }
          ],
          "scatterpolargl": [
           {
            "marker": {
             "colorbar": {
              "outlinewidth": 0,
              "ticks": ""
             }
            },
            "type": "scatterpolargl"
           }
          ],
          "scatterternary": [
           {
            "marker": {
             "colorbar": {
              "outlinewidth": 0,
              "ticks": ""
             }
            },
            "type": "scatterternary"
           }
          ],
          "surface": [
           {
            "colorbar": {
             "outlinewidth": 0,
             "ticks": ""
            },
            "colorscale": [
             [
              0,
              "#0d0887"
             ],
             [
              0.1111111111111111,
              "#46039f"
             ],
             [
              0.2222222222222222,
              "#7201a8"
             ],
             [
              0.3333333333333333,
              "#9c179e"
             ],
             [
              0.4444444444444444,
              "#bd3786"
             ],
             [
              0.5555555555555556,
              "#d8576b"
             ],
             [
              0.6666666666666666,
              "#ed7953"
             ],
             [
              0.7777777777777778,
              "#fb9f3a"
             ],
             [
              0.8888888888888888,
              "#fdca26"
             ],
             [
              1,
              "#f0f921"
             ]
            ],
            "type": "surface"
           }
          ],
          "table": [
           {
            "cells": {
             "fill": {
              "color": "#EBF0F8"
             },
             "line": {
              "color": "white"
             }
            },
            "header": {
             "fill": {
              "color": "#C8D4E3"
             },
             "line": {
              "color": "white"
             }
            },
            "type": "table"
           }
          ]
         },
         "layout": {
          "annotationdefaults": {
           "arrowcolor": "#2a3f5f",
           "arrowhead": 0,
           "arrowwidth": 1
          },
          "autotypenumbers": "strict",
          "coloraxis": {
           "colorbar": {
            "outlinewidth": 0,
            "ticks": ""
           }
          },
          "colorscale": {
           "diverging": [
            [
             0,
             "#8e0152"
            ],
            [
             0.1,
             "#c51b7d"
            ],
            [
             0.2,
             "#de77ae"
            ],
            [
             0.3,
             "#f1b6da"
            ],
            [
             0.4,
             "#fde0ef"
            ],
            [
             0.5,
             "#f7f7f7"
            ],
            [
             0.6,
             "#e6f5d0"
            ],
            [
             0.7,
             "#b8e186"
            ],
            [
             0.8,
             "#7fbc41"
            ],
            [
             0.9,
             "#4d9221"
            ],
            [
             1,
             "#276419"
            ]
           ],
           "sequential": [
            [
             0,
             "#0d0887"
            ],
            [
             0.1111111111111111,
             "#46039f"
            ],
            [
             0.2222222222222222,
             "#7201a8"
            ],
            [
             0.3333333333333333,
             "#9c179e"
            ],
            [
             0.4444444444444444,
             "#bd3786"
            ],
            [
             0.5555555555555556,
             "#d8576b"
            ],
            [
             0.6666666666666666,
             "#ed7953"
            ],
            [
             0.7777777777777778,
             "#fb9f3a"
            ],
            [
             0.8888888888888888,
             "#fdca26"
            ],
            [
             1,
             "#f0f921"
            ]
           ],
           "sequentialminus": [
            [
             0,
             "#0d0887"
            ],
            [
             0.1111111111111111,
             "#46039f"
            ],
            [
             0.2222222222222222,
             "#7201a8"
            ],
            [
             0.3333333333333333,
             "#9c179e"
            ],
            [
             0.4444444444444444,
             "#bd3786"
            ],
            [
             0.5555555555555556,
             "#d8576b"
            ],
            [
             0.6666666666666666,
             "#ed7953"
            ],
            [
             0.7777777777777778,
             "#fb9f3a"
            ],
            [
             0.8888888888888888,
             "#fdca26"
            ],
            [
             1,
             "#f0f921"
            ]
           ]
          },
          "colorway": [
           "#636efa",
           "#EF553B",
           "#00cc96",
           "#ab63fa",
           "#FFA15A",
           "#19d3f3",
           "#FF6692",
           "#B6E880",
           "#FF97FF",
           "#FECB52"
          ],
          "font": {
           "color": "#2a3f5f"
          },
          "geo": {
           "bgcolor": "white",
           "lakecolor": "white",
           "landcolor": "#E5ECF6",
           "showlakes": true,
           "showland": true,
           "subunitcolor": "white"
          },
          "hoverlabel": {
           "align": "left"
          },
          "hovermode": "closest",
          "mapbox": {
           "style": "light"
          },
          "paper_bgcolor": "white",
          "plot_bgcolor": "#E5ECF6",
          "polar": {
           "angularaxis": {
            "gridcolor": "white",
            "linecolor": "white",
            "ticks": ""
           },
           "bgcolor": "#E5ECF6",
           "radialaxis": {
            "gridcolor": "white",
            "linecolor": "white",
            "ticks": ""
           }
          },
          "scene": {
           "xaxis": {
            "backgroundcolor": "#E5ECF6",
            "gridcolor": "white",
            "gridwidth": 2,
            "linecolor": "white",
            "showbackground": true,
            "ticks": "",
            "zerolinecolor": "white"
           },
           "yaxis": {
            "backgroundcolor": "#E5ECF6",
            "gridcolor": "white",
            "gridwidth": 2,
            "linecolor": "white",
            "showbackground": true,
            "ticks": "",
            "zerolinecolor": "white"
           },
           "zaxis": {
            "backgroundcolor": "#E5ECF6",
            "gridcolor": "white",
            "gridwidth": 2,
            "linecolor": "white",
            "showbackground": true,
            "ticks": "",
            "zerolinecolor": "white"
           }
          },
          "shapedefaults": {
           "line": {
            "color": "#2a3f5f"
           }
          },
          "ternary": {
           "aaxis": {
            "gridcolor": "white",
            "linecolor": "white",
            "ticks": ""
           },
           "baxis": {
            "gridcolor": "white",
            "linecolor": "white",
            "ticks": ""
           },
           "bgcolor": "#E5ECF6",
           "caxis": {
            "gridcolor": "white",
            "linecolor": "white",
            "ticks": ""
           }
          },
          "title": {
           "x": 0.05
          },
          "xaxis": {
           "automargin": true,
           "gridcolor": "white",
           "linecolor": "white",
           "ticks": "",
           "title": {
            "standoff": 15
           },
           "zerolinecolor": "white",
           "zerolinewidth": 2
          },
          "yaxis": {
           "automargin": true,
           "gridcolor": "white",
           "linecolor": "white",
           "ticks": "",
           "title": {
            "standoff": 15
           },
           "zerolinecolor": "white",
           "zerolinewidth": 2
          }
         }
        },
        "title": {
         "text": "Schedule"
        },
        "xaxis": {
         "anchor": "y",
         "domain": [
          0,
          1
         ],
         "dtick": "M1",
         "range": [
          "2025-03-19",
          "2026-08-20"
         ],
         "showgrid": true,
         "ticklabelmode": "period",
         "title": {
          "text": "Time [days]"
         },
         "type": "date"
        },
        "yaxis": {
         "anchor": "x",
         "autorange": "reversed",
         "domain": [
          0,
          1
         ],
         "title": {
          "text": "Machine"
         }
        }
       }
      }
     },
     "metadata": {},
     "output_type": "display_data"
    }
   ],
   "source": [
    "# The schedule dictionary\n",
    "ground_state = response.result_vector()[index]\n",
    "schedule = utils.extract_solution(ground_state[:Nx], tasks, task_names)\n",
    "\n",
    "# Post-processing for adding the hand-offs\n",
    "for i, task in enumerate(task_names):\n",
    "    if i == len(task_names) - 2:\n",
    "        break\n",
    "    schedule[f\"Hand-off: {assignment[task_names[i]]}-{task_names[i]} --> {assignment[task_names[i+1]]}-{task_names[i+1]}\"] = \\\n",
    "        (schedule[task_names[i]][1], schedule[task_names[i]][1] + int(distance_matrix[machine_names.index(\n",
    "            assignment[task_names[i]])][machine_names.index(assignment[task_names[i+1]])]))\n",
    "    assignment[f\"Hand-off: {assignment[task_names[i]]}-{task_names[i]} --> {assignment[task_names[i+1]]}-{task_names[i+1]}\"] = assignment[task_names[i]]\n",
    "\n",
    "utils.plot_schedule(\n",
    "    assignment,\n",
    "    schedule,\n",
    "    available_time_slots,\n",
    "    machine_names,\n",
    "    unit=\"days\"\n",
    ")"
   ]
  },
  {
   "cell_type": "markdown",
   "metadata": {},
   "source": [
    "### Extracting the Schedule Finish Time"
   ]
  },
  {
   "cell_type": "code",
   "execution_count": 11,
   "metadata": {},
   "outputs": [
    {
     "data": {
      "text/plain": [
       "518.0"
      ]
     },
     "execution_count": 11,
     "metadata": {},
     "output_type": "execute_result"
    }
   ],
   "source": [
    "utils.max_value_schedule(schedule)"
   ]
  }
 ],
 "metadata": {
  "kernelspec": {
   "display_name": "algorithms_repo_env",
   "language": "python",
   "name": "python3"
  },
  "language_info": {
   "codemirror_mode": {
    "name": "ipython",
    "version": 3
   },
   "file_extension": ".py",
   "mimetype": "text/x-python",
   "name": "python",
   "nbconvert_exporter": "python",
   "pygments_lexer": "ipython3",
   "version": "3.12.3"
  }
 },
 "nbformat": 4,
 "nbformat_minor": 2
}
