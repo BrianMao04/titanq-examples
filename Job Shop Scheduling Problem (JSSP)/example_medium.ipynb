{
 "cells": [
  {
   "cell_type": "code",
   "execution_count": 1,
   "metadata": {},
   "outputs": [],
   "source": [
    "# Copyright (c) 2024, InfinityQ Technology Inc.\n",
    "\n",
    "# Installing Python dependencies\n",
    "!pip install -r \"requirements.txt\" --upgrade\n",
    "\n",
    "import numpy as np\n",
    "import utils\n",
    "import problem_gen\n",
    "\n",
    "from titanq import Model, Vtype, Target, S3Storage\n",
    "import logging\n",
    "from utils import get_global_index_of_task"
   ]
  },
  {
   "cell_type": "markdown",
   "metadata": {},
   "source": [
    "### Setting Credentials for TitanQ\n",
    "The user should configure their TitanQ API key here. For very large problems, the user must also configure an AWS Access key, AWS Secret Access key and AWS Bucket Name."
   ]
  },
  {
   "cell_type": "code",
   "execution_count": 2,
   "metadata": {},
   "outputs": [],
   "source": [
    "logging.getLogger('botocore').setLevel(logging.CRITICAL)\n",
    "logging.getLogger('urllib3').setLevel(logging.CRITICAL)\n",
    "\n",
    "# Enter your API Key Here\n",
    "# Obtain your API key by contacting --> support@infinityq.tech\n",
    "# Example: TITANQ_DEV_API_KEY = \"00000000-0000-0000-0000-000000000000\"\n",
    "TITANQ_DEV_API_KEY = None\n",
    "\n",
    "# Specify AWS keys and bucket name for solving very large problems\n",
    "# AWS_ACCESS_KEY = \"Your Access key\"\n",
    "# AWS_SECRET_ACCESS_KEY = \"Your secret access key\"\n",
    "# AWS_BUCKET_NAME = \"Your bucket name\""
   ]
  },
  {
   "cell_type": "markdown",
   "metadata": {},
   "source": [
    "### Setting Up Data"
   ]
  },
  {
   "cell_type": "code",
   "execution_count": 3,
   "metadata": {},
   "outputs": [],
   "source": [
    "jobs = utils.read_instance(\"instances/ft06\")\n",
    "\n",
    "# Number of jobs\n",
    "num_jobs = len(jobs)\n",
    "# Number of machines\n",
    "num_machines = utils.get_num_machines(jobs)\n",
    "# Number of tasks\n",
    "num_tasks = utils.get_num_tasks(jobs)\n",
    "\n",
    "machine_names = [f\"Machine_{i}\" for i in range(num_machines)]\n",
    "task_names = []\n",
    "assignment = {}\n",
    "for job, tasks in jobs.items():\n",
    "    task_names.extend(\n",
    "        [f\"Job{job+1}_Task{task_id+1}\" for task_id in range(len(tasks))])\n",
    "    assignment.update(\n",
    "        {f\"Job{job+1}_Task{task_id+1}\": machine_names[task[0]] for task_id, task in enumerate(tasks)})\n",
    "\n",
    "# Available Time Slots\n",
    "## Each row represents a machine, and each column represents an interval of time.\n",
    "## An entry of 1 indicates that the machine is available, and an entry of -1 indicates that the machine is not available.\n",
    "\n",
    "## Set the size of the available_time_slots matrix\n",
    "rows = num_machines\n",
    "columns = 500\n",
    "\n",
    "## Create a matrix with all elements initialized to 1\n",
    "available_time_slots = np.ones((rows, columns), dtype=int)\n",
    "\n",
    "# Blocked Time slots\n",
    "## Ex: 'Machine_0' is not available during time unit 1 to 4\n",
    "## available_time_slots[0, 1:4] = -1\n",
    "\n",
    "# Distance matrix for moving from one machine to another\n",
    "distance_matrix = np.zeros((num_machines, num_machines), dtype=np.float32)"
   ]
  },
  {
   "cell_type": "markdown",
   "metadata": {},
   "source": [
    "### Building the JSSP Model"
   ]
  },
  {
   "cell_type": "code",
   "execution_count": 4,
   "metadata": {},
   "outputs": [],
   "source": [
    "# Model generation\n",
    "tasks = [item for sublist in jobs.values()\n",
    "        for item in sublist]  # List of tasks\n",
    "\n",
    "max_start_time = utils.get_max_time(jobs)*10\n",
    "\n",
    "Nx = num_tasks\n",
    "Nz = len([(i, j) for i in range(Nx) for j in range(Nx) if tasks[i][0] == tasks[j][0]])\n",
    "\n",
    "machine_group = utils.generate_machine_group(jobs)\n",
    "\n",
    "Ny = sum([len(utils.find_available_time_slots(available_time_slots[m_idx]))*len(machine_group[m_idx])\n",
    "         for m_idx in range(num_machines) if m_idx in machine_group.keys()])\n",
    "\n",
    "# Variable array structure\n",
    "# x = [x_0, x_1, ..., x_num_tasks, z_01, z_02, z_03, z_12, z_13, z_23,\n",
    "#   y_{machine_1}l_1_{task_1},y_{machine_1}l_2_{task_1},...,y_{machine_1}l_{num_blocked}_{task_1},....,y_{machine_m}l_j_{task_1}]\n",
    "N = Nx + Ny + Nz\n",
    "\n",
    "# Large value to enforce tasks not overlapping with each other\n",
    "V = sum(task[1] for task in tasks)\n",
    "\n",
    "# Large number to enforce tasks not overlapping with blocked time slots\n",
    "H = sum(task[1] for task in tasks)\n",
    "\n",
    "W, b = problem_gen.generate_weights_bias(jobs, N)\n",
    "\n",
    "variable_bounds = problem_gen.generate_variable_bounds(\n",
    "    jobs,\n",
    "    distance_matrix,\n",
    "    Nx,\n",
    "    Nz,\n",
    "    Ny,\n",
    "    max_start_time\n",
    ")\n",
    "variable_types = problem_gen.generate_variable_types(Ny, Nz, Ny)"
   ]
  },
  {
   "cell_type": "markdown",
   "metadata": {},
   "source": [
    "### Building the Model on TitanQ"
   ]
  },
  {
   "cell_type": "code",
   "execution_count": 5,
   "metadata": {},
   "outputs": [],
   "source": [
    "############\n",
    "# TitanQ SDK\n",
    "############\n",
    "model_JSSP = Model(\n",
    "    api_key=TITANQ_DEV_API_KEY,\n",
    "    # Insert storage_client parameter and specify corresponding AWS keys and bucket name for solving very large problems\n",
    "    # storage_client=S3Storage(\n",
    "    #     access_key=AWS_ACCESS_KEY,\n",
    "    #     secret_key=AWS_SECRET_ACCESS_KEY,\n",
    "    #     bucket_name=AWS_BUCKET_NAME\n",
    "    # )\n",
    ")\n",
    "\n",
    "x = model_JSSP.add_variable_vector('x', Nx, Vtype.INTEGER, variable_bounds=variable_bounds[:Nx].tolist())\n",
    "z = model_JSSP.add_variable_vector('z', Nz, Vtype.BINARY)\n",
    "y = model_JSSP.add_variable_vector('y', Ny, Vtype.BINARY)"
   ]
  },
  {
   "cell_type": "markdown",
   "metadata": {},
   "source": [
    "### Setting Objective Using Expression"
   ]
  },
  {
   "cell_type": "code",
   "execution_count": 6,
   "metadata": {},
   "outputs": [],
   "source": [
    "expr = sum(x[i] for i in problem_gen.last_task_for_each_job(jobs))\n",
    "model_JSSP.set_objective_expression(expr)"
   ]
  },
  {
   "cell_type": "markdown",
   "metadata": {},
   "source": [
    "### Add Constraints Using Expressions "
   ]
  },
  {
   "cell_type": "code",
   "execution_count": 7,
   "metadata": {},
   "outputs": [],
   "source": [
    "# Helper Arrays and Variables\n",
    "\n",
    "# List of tasks\n",
    "list_tasks = [item for sublist in jobs.values() for item in sublist]\n",
    "\n",
    "# z index\n",
    "z_idx = [(i, j) for i in range(Nx) for j in range(Nx) if list_tasks[i][0] == list_tasks[j][0]]\n",
    "\n",
    "# Column position for the first constraints\n",
    "col = 0\n",
    "\n",
    "# Constraint #1: Precedence Constraint\n",
    "\n",
    "# Iterate over each job and its tasks\n",
    "for job, tsk in jobs.items():\n",
    "    num_tasks = len(tsk)\n",
    "    for i in range(1, num_tasks):\n",
    "        # Calculate the right-hand side of the constraint\n",
    "        rhs = jobs[job][i-1][1] + distance_matrix[jobs[job][i-1][0]][jobs[job][i][0]]\n",
    "        \n",
    "        # Create the constraint expression\n",
    "        expr = x[col+i] - x[col+i-1] >= rhs\n",
    "        \n",
    "        # Add the constraint to the model_JSSP\n",
    "        model_JSSP.add_constraint_from_expression(expr)\n",
    "    \n",
    "    # Update the column position\n",
    "    col += num_tasks\n",
    "\n",
    "# Constraint #2 and #3: Machine Overlapping\n",
    "\n",
    "# Iterate over each pair of jobs and tasks\n",
    "for job_1, tasks_1 in jobs.items():\n",
    "    num_tasks_1 = len(tasks_1)\n",
    "    for job_2, tasks_2 in jobs.items():\n",
    "        num_tasks_2 = len(tasks_2)\n",
    "        for i in range(num_tasks_1):\n",
    "            for j in range(num_tasks_2):\n",
    "                _i = get_global_index_of_task(jobs, job_1, i)\n",
    "                _j = get_global_index_of_task(jobs, job_2, j)\n",
    "                \n",
    "                machine_i = jobs[job_1][i][0]\n",
    "                machine_j = jobs[job_2][j][0]\n",
    "                \n",
    "                # Check if tasks are on the same machine and _i < _j\n",
    "                if (_i < _j) and (machine_i == machine_j):\n",
    "                    # Constraint #2\n",
    "                    expr = x[_i] - x[_j] + (V * z[z_idx.index((_i, _j))]) >= jobs[job_2][j][1]\n",
    "                    model_JSSP.add_constraint_from_expression(expr)\n",
    "                    \n",
    "                    # Constraint #3\n",
    "                    expr = x[_j] - x[_i] - (V * z[z_idx.index((_i, _j))]) >= (jobs[job_1][i][1] - V)\n",
    "                    model_JSSP.add_constraint_from_expression(expr)\n",
    "\n",
    "# Constraint #4 and #5: Blocked Time Slots\n",
    "\n",
    "# Flatten tasks into a single list\n",
    "flatten_tasks = [item for row in jobs.values() for item in row]\n",
    "\n",
    "# Initialize y_counter\n",
    "y_counter = 0\n",
    "\n",
    "# Iterate over each machine\n",
    "for m_idx in range(num_machines):\n",
    "    # Find the indices where -1 occurs\n",
    "    indices = np.where(available_time_slots[m_idx] == -1)[0]\n",
    "    \n",
    "    # Find the groups of -1 indices\n",
    "    groups = np.split(indices, np.where(np.diff(indices) != 1)[0] + 1)\n",
    "    \n",
    "    # Filter out groups with only one element\n",
    "    time_slots = [(group.tolist()[0],group.tolist()[-1]) \n",
    "                    for group in groups if len(group) >= 1]\n",
    "    \n",
    "    # Find the tasks that use machine m_idx\n",
    "    I_m = [idx for idx,(machine,_) in enumerate(flatten_tasks) if machine==m_idx]\n",
    "    \n",
    "    # Iterate over each task and time slot\n",
    "    for i in I_m:\n",
    "        for j,(l,u) in enumerate(time_slots):\n",
    "            # Constraint #4\n",
    "            expr = x[i] + H * y[y_counter] >= (jobs[job_1][i][1] - V)\n",
    "            model_JSSP.add_constraint_from_expression(expr)\n",
    "            \n",
    "            # Constraint #5\n",
    "            expr = x[i] + H * y[y_counter] >= u + 1\n",
    "            model_JSSP.add_constraint_from_expression(expr)\n",
    "            \n",
    "            y_counter += 1"
   ]
  },
  {
   "cell_type": "markdown",
   "metadata": {},
   "source": [
    "### Setting TitanQ Hyperparameters"
   ]
  },
  {
   "cell_type": "code",
   "execution_count": 48,
   "metadata": {},
   "outputs": [],
   "source": [
    "num_chains = 64\n",
    "num_engines = 1\n",
    "T_min = 0.1\n",
    "T_max = 1e3\n",
    "beta = (1.0/np.geomspace(T_min, T_max, num_chains)).tolist()\n",
    "timeout_in_seconds = 5"
   ]
  },
  {
   "cell_type": "markdown",
   "metadata": {},
   "source": [
    "### Sending the Model to TitanQ Solver"
   ]
  },
  {
   "cell_type": "code",
   "execution_count": null,
   "metadata": {},
   "outputs": [
    {
     "name": "stdout",
     "output_type": "stream",
     "text": [
      "---------------+--------------------------\n",
      "Ising energy   | Result vector\n",
      "---------------+--------------------------\n",
      "258.000000     | [14. 25. 28. 35. 42. 45. 18. 26. 35. 45. 55. 65.  0. 10. 15. 37. 50. 51.\n",
      "  3. 10. 15. 20. 23. 31.  5. 15. 18. 23. 28. 31.  0.  3.  6. 15. 31. 35.\n",
      "  0.  1.  0.  1.  0.  1.  0.  1.  1.  0.  1.  0.  1.  0.  1.  0.  0.  0.\n",
      "  0.  1.  0.  0.  0.  0.  0.  1.  0.  0.  0.  0.  1.  0.  1.  0.  0.  0.\n",
      "  0.  0.  1.  0.  0.  0.  0.  0.  0.  0.  0.  1.  0.  1.  1.  0.  0.  0.\n",
      "  0.  0.  0.  0.  0.  0.  0.  1.  0.  0.  0.  0.  0.  1.  0.  0.  0.  0.\n",
      "  1.  0.  0.  1.  1.  1.  0.  0.  0.  1.  1.  0.  1.  0.  0.  1.  1.  0.\n",
      "  1.  0.  0.  0.  0.  0.  0.  0.  1.  0.  0.  0.  1.  1.  0.  0.  0.  0.\n",
      "  0.  1.  0.  1.  1.  0.  0.  0.  1.  0.  1.  1.  0.  0.  0.  0.  0.  1.\n",
      "  0.  1.  0.  1.  1.  0.  0.  0.  0.  0.  0.  1.  1.  0.  1.  1.  0.  0.\n",
      "  0.  0.  1.  1.  0.  1.  1.  0.  0.  0.  0.  0.  0.  1.  0.  0.  1.  1.\n",
      "  0.  0.  0.  0.  0.  0.  1.  0.  0.  0.  1.  0.  0.  0.  1.  0.  1.  0.\n",
      "  0.  0.  0.  0.  1.  0.  0.  0.  0.  1.  0.  1.  0.  0.  0.  0.  1.  0.\n",
      "  0.  0.  1.  0.  0.  0.  0.  0.  1.  1.  1.  0.  1.  0.  1.  0.  0.  0.\n",
      "  0.  1.  0.  0.  0.  1.  1.  1.  0.  0.  1.  0.  0.  0.  0.  0.  1.  0.\n",
      "  0.  0.  0.  0.  0.  0.  1.  1.  0.  0.  1.  0.  0.  0.  0.  0.  1.  1.]\n"
     ]
    }
   ],
   "source": [
    "response = model_JSSP.optimize(\n",
    "    beta=beta,\n",
    "    timeout_in_secs=timeout_in_seconds,\n",
    "    num_engines=num_engines,\n",
    "    num_chains=num_chains,\n",
    "    penalty_scaling=5\n",
    ")\n",
    "\n",
    "print(\"-\" * 15, \"+\", \"-\" * 26, sep=\"\")\n",
    "print(\"Ising energy   | Result vector\")\n",
    "print(\"-\" * 15, \"+\", \"-\" * 26, sep=\"\")\n",
    "ctr = 0\n",
    "for ising_energy, result_vector in response.result_items():\n",
    "    print(f\"{ising_energy: <14f} | {result_vector}\")\n",
    "    if ctr == 0:\n",
    "        lowest_ising_energy = ising_energy\n",
    "        index = 0\n",
    "    elif ising_energy < lowest_ising_energy:\n",
    "        lowest_ising_energy = ising_energy\n",
    "        index = ctr\n",
    "    ctr += 1"
   ]
  },
  {
   "cell_type": "markdown",
   "metadata": {},
   "source": [
    "### GANTT Chart of Raw Schedule"
   ]
  },
  {
   "cell_type": "code",
   "execution_count": null,
   "metadata": {},
   "outputs": [],
   "source": [
    "# The schedule dictionary\n",
    "ground_state = response.result_vector()[index]\n",
    "schedule = utils.extract_solution(ground_state[:Nx], tasks, task_names)\n",
    "\n",
    "# Post-processing for adding the hand-offs\n",
    "for i, task in enumerate(task_names):\n",
    "    if i == len(task_names) - 2:\n",
    "        break\n",
    "    schedule[f\"Hand-off: {assignment[task_names[i]]}-{task_names[i]} --> {assignment[task_names[i+1]]}-{task_names[i+1]}\"] = \\\n",
    "        (schedule[task_names[i]][1], schedule[task_names[i]][1] + int(distance_matrix[machine_names.index(\n",
    "            assignment[task_names[i]])][machine_names.index(assignment[task_names[i+1]])]))\n",
    "    assignment[f\"Hand-off: {assignment[task_names[i]]}-{task_names[i]} --> {assignment[task_names[i+1]]}-{task_names[i+1]}\"] = assignment[task_names[i]]\n",
    "\n",
    "utils.plot_schedule(\n",
    "    assignment,\n",
    "    schedule,\n",
    "    available_time_slots,\n",
    "    machine_names,\n",
    "    unit=\"days\"\n",
    ")"
   ]
  },
  {
   "cell_type": "markdown",
   "metadata": {},
   "source": [
    "### Extracting the Schedule Finish Time"
   ]
  },
  {
   "cell_type": "code",
   "execution_count": 51,
   "metadata": {},
   "outputs": [
    {
     "data": {
      "text/plain": [
       "69.0"
      ]
     },
     "execution_count": 51,
     "metadata": {},
     "output_type": "execute_result"
    }
   ],
   "source": [
    "utils.max_value_schedule(schedule)"
   ]
  }
 ],
 "metadata": {
  "kernelspec": {
   "display_name": "algorithms_repo_env",
   "language": "python",
   "name": "python3"
  },
  "language_info": {
   "codemirror_mode": {
    "name": "ipython",
    "version": 3
   },
   "file_extension": ".py",
   "mimetype": "text/x-python",
   "name": "python",
   "nbconvert_exporter": "python",
   "pygments_lexer": "ipython3",
   "version": "3.12.3"
  }
 },
 "nbformat": 4,
 "nbformat_minor": 2
}
