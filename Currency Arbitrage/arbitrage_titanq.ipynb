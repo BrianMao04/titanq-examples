{
 "cells": [
  {
   "cell_type": "code",
   "execution_count": null,
   "metadata": {},
   "outputs": [],
   "source": [
    "# Copyright (c) 2025, InfinityQ Technology Inc.\n",
    "\n",
    "# Prompt the user and wait for an answer before installing dependencies.\n",
    "# Note: Usage of a virtual Python environment is recommended.\n",
    "if input(\"Install Python dependencies? [y/n]\").lower() == \"y\":\n",
    "    print(\"Installing dependencies (this can take a few minutes)...\")\n",
    "    !pip install -r \"requirements.txt\" --upgrade\n",
    "else:\n",
    "    print(\"Skipping dependency installation.\")\n",
    "\n",
    "import numpy as np\n",
    "import logging\n",
    "from model_generation import *\n",
    "from titanq import Model, Vtype, Target\n",
    "import warnings\n",
    "\n",
    "# Filter out FutureWarning messages\n",
    "warnings.simplefilter(action='ignore', category=FutureWarning)\n",
    "\n",
    "logging.getLogger('botocore').setLevel(logging.CRITICAL)\n",
    "logging.getLogger('urllib3').setLevel(logging.CRITICAL)"
   ]
  },
  {
   "cell_type": "markdown",
   "metadata": {},
   "source": [
    "## Setting Credentials\n",
    "The user should configure their TitanQ API key and AWS access keys here."
   ]
  },
  {
   "cell_type": "code",
   "execution_count": null,
   "metadata": {},
   "outputs": [],
   "source": [
    "# Enter your API key here\n",
    "# Obtain your API key by contacting --> support@infinityq.tech\n",
    "# Example: TITANQ_DEV_API_KEY = \"00000000-0000-0000-0000-000000000000\"\n",
    "TITANQ_DEV_API_KEY = input(\"Please enter your API key (e.g. 00000000-0000-0000-0000-000000000000):\")"
   ]
  },
  {
   "attachments": {},
   "cell_type": "markdown",
   "metadata": {},
   "source": [
    "## Setting Up The Problem\n",
    "There are two examples for your ease of use in the instances folder, currencies_6 and currencies_25.\n",
    "\n",
    "For those who want to load in a full historical currency pair set, set your variable full_dataset to be True and data from the month day and year will be downloaded and used for the example.\n",
    "\n",
    "We then load the exchange rate data into our dataframe, which we call our exchange rate matrix. Missing data is replaced with 0 to avoid invalid currency exchanges.\n",
    "\n",
    "- If you opt for one of the 2 instances, specify the instance below (currencies_6 or currencies_25)"
   ]
  },
  {
   "cell_type": "code",
   "execution_count": null,
   "metadata": {},
   "outputs": [],
   "source": [
    "#if loading an instance, valid instances are currency_6 and currency_25\n",
    "instance = None\n",
    "#If loading a full day of data, set this to true\n",
    "full_dataset = True\n",
    "\n",
    "# For full dataset input in the format below\n",
    "# Anywhere between Jan 2010 - Present\n",
    "year = '2025'\n",
    "month = '01'\n",
    "day = '02'\n",
    "\n",
    "#For Polygon.io, a polygon API key is needed\n",
    "aws_access_key_id = None\n",
    "aws_secret_access_key = None\n",
    "\n",
    "if full_dataset:\n",
    "    #Create the polygon AWS session\n",
    "    session = start_polygon_session(aws_access_key_id, aws_secret_access_key)\n",
    "\n",
    "    #Download data from polygon\n",
    "    generate_data_polygon(session, year, month, day)\n",
    "\n",
    "    #load currency data into dataframe\n",
    "    currencies, df = load_day_data(year, month, day)\n",
    "else:\n",
    "    #Load a specific instance data\n",
    "    currencies, df = load_instance_data(instance)\n",
    "\n",
    "\n",
    "\n",
    "\n",
    "\n",
    "# Number of nodes in graph\n",
    "size = len(currencies)\n",
    "print(f\"Number of currencies: {size}\")\n",
    "\n",
    "exch_rate_matrix = df.to_numpy().astype(np.float32)"
   ]
  },
  {
   "cell_type": "markdown",
   "metadata": {},
   "source": [
    "## Create Bias Vector\n",
    "To maximize arbitrage opportunity, we want to maximize the product of the exchange rates we use. We take the log of the exchange rates to convert the formulation into a summation. We also multiply each term of the objective function by -1 to pose it as a minimization problem for TitanQ. ```x``` is a vector of the length of the number of edges, and each entry is a binary variable encoding whether the edge will be used in our final solution.\n",
    "\n",
    "We also want to prevent solutions that use non-existent edges, so we only keep track of edges that exist in the graph. This also helps preserve space and reduce the solve time, especially for graphs with a lot of nodes and not a lot of edges. Thus we shorten our exchange rate matrix and bias vector to only include non-zero values, and keep track of all of our edge names."
   ]
  },
  {
   "cell_type": "code",
   "execution_count": null,
   "metadata": {},
   "outputs": [],
   "source": [
    "# List existing edges for TitanQ formulation\n",
    "edges = [(i, j) for i in range(size) for j in range(size) if exch_rate_matrix[i,j] > 0]\n",
    "num_edges = len(edges)\n",
    "\n",
    "# Exchange rates for existing edges only\n",
    "exch_rate_values = exch_rate_matrix[tuple(zip(*edges))]\n",
    "\n",
    "# Bias vector for objective\n",
    "bias = np.where(exch_rate_values > 0, -np.log(exch_rate_values), 1.).astype(np.float32)\n",
    "\n",
    "edge_names = [currencies[i]+\"/\"+currencies[j] for (i,j) in edges]"
   ]
  },
  {
   "cell_type": "markdown",
   "metadata": {},
   "source": [
    "## Input Problem into TitanQ SDK\n",
    "The objective and constraint expressions are set here and TitanQ is called to solve the model.\n",
    "\n",
    "The flow constraint restricts the sum of all purchases of a currency to be equal to the sum of all sales of a currency.\n",
    "We also forbid exchanging through a currency more than once. This is our number of exchanges constraint."
   ]
  },
  {
   "cell_type": "code",
   "execution_count": null,
   "metadata": {},
   "outputs": [],
   "source": [
    "#############\n",
    "# TitanQ Model\n",
    "#############\n",
    "model = Model(\n",
    "    api_key=TITANQ_DEV_API_KEY\n",
    ")\n",
    "\n",
    "# Defining variables, objective, and constraints in TitanQ model\n",
    "x = model.add_variable_vector('x', num_edges, Vtype.BINARY)\n",
    "model.set_objective_expression(np.dot(bias, x), Target.MINIMIZE)\n",
    "\n",
    "# Cycle constraints\n",
    "for i in range(len(currencies)):\n",
    "    # List of all edge indices (i, j)\n",
    "    incoming = [index for index, (a, b) in enumerate(edges) if a == i]\n",
    "\n",
    "    # List of all edge indices (j, i)\n",
    "    outgoing = [index for index, (b, a) in enumerate(edges) if a == i]\n",
    "\n",
    "    if incoming == [] and outgoing == []:\n",
    "        continue\n",
    "    # Flow constraint\n",
    "    model.add_constraint_from_expression(sum(x[j] for j in incoming) - sum(x[j] for j in outgoing) == 0)\n",
    "\n",
    "    # Number of exchanges constraint\n",
    "    if incoming == []:\n",
    "        model.add_constraint_from_expression(sum(x[j] for j in outgoing) <= 1)\n",
    "    else:\n",
    "        model.add_constraint_from_expression(sum(x[j] for j in incoming) <= 1)\n",
    "\n",
    "# TitanQ Solver hyperparameters\n",
    "num_chains = 8\n",
    "num_engines = 1\n",
    "Tmin = 0.0001\n",
    "timeout_in_secs = 2\n",
    "\n",
    "if full_dataset:\n",
    "    # Hyperparameters for full dataset\n",
    "    Tmax = 550\n",
    "    penalty_scaling = 45\n",
    "\n",
    "else:\n",
    "    # Hyperparameters for currencies_6 or currencies_25\n",
    "    Tmax = 122\n",
    "    penalty_scaling = 15\n",
    "\n",
    "response = solve_model(model, num_chains, num_engines, Tmin, Tmax, timeout_in_secs, penalty_scaling)"
   ]
  },
  {
   "cell_type": "markdown",
   "metadata": {},
   "source": [
    "## Outputting Results\n",
    "The list of solutions for each engine can be accessed from the variable label defined before (in this case: ```x```). For each engine we print:\n",
    "- The solution vector ```x```\n",
    "- All profitable cycles\n",
    "- The profit gained from each cycle\n",
    "- The Ising energy of the solution (objective value)\n",
    "\n",
    "Then we print the *best* valid cycle. This gives a series of currency exchanges for optimal arbitrage gain.\n",
    "\n",
    "#### Example:\n",
    "Best cycle ('HUX/USD', 'USD/RUB', 'RUB/HUX'): 0.017367341154281624\n",
    "\n",
    "profit: 1.7367341154281624 %\n",
    "\n",
    "energy: -0.004294343292713165"
   ]
  },
  {
   "cell_type": "code",
   "execution_count": null,
   "metadata": {},
   "outputs": [],
   "source": [
    "best_weight, best_cycle = analyze_results(response, edge_names, currencies, exch_rate_matrix)"
   ]
  },
  {
   "cell_type": "code",
   "execution_count": null,
   "metadata": {},
   "outputs": [],
   "source": [
    "# Plot on a graph for currencies_6 example\n",
    "if not full_dataset and instance == 'currencies_6':\n",
    "    G = nx.MultiDiGraph()\n",
    "    plot_graph(G, best_cycle, edge_names, exch_rate_values)"
   ]
  },
  {
   "cell_type": "markdown",
   "metadata": {},
   "source": [
    "**If you loaded full dataset:**\n",
    "\n",
    "For simplicity purposes, the above example only generated arbitrage opportunities for the *last* time step in the day.\n",
    "\n",
    "Optionally, you can generate minute-by-minute profit data for the entire day and plot the results on a graph for visualization purposes (which takes ~10 minutes):"
   ]
  },
  {
   "cell_type": "code",
   "execution_count": null,
   "metadata": {},
   "outputs": [],
   "source": [
    "import matplotlib.pyplot as plt\n",
    "if full_dataset:\n",
    "    bps = 0.08\n",
    "    times, profits = generate_minute_profit(TITANQ_DEV_API_KEY, \"10T\", bps)\n",
    "\n",
    "    hourly = pd.date_range(start=times[0], end=times[-1], freq='2H')\n",
    "    plt.figure()\n",
    "    plt.plot(times, profits, linestyle='-')\n",
    "    plt.xticks(hourly, labels=[tick.strftime('%H') for tick in hourly])\n",
    "    plt.xlabel(\"Time (h)\")\n",
    "    plt.ylabel(\"Profit %\")\n",
    "    plt.title(f\"Minute-by-Minute Arbitrage Opportunities Found by TitanQ on 2025/01/02 with {bps} bps\")\n",
    "    plt.show()"
   ]
  },
  {
   "cell_type": "code",
   "execution_count": null,
   "metadata": {},
   "outputs": [],
   "source": []
  }
 ],
 "metadata": {
  "kernelspec": {
   "display_name": "sdk",
   "language": "python",
   "name": "python3"
  },
  "language_info": {
   "codemirror_mode": {
    "name": "ipython",
    "version": 3
   },
   "file_extension": ".py",
   "mimetype": "text/x-python",
   "name": "python",
   "nbconvert_exporter": "python",
   "pygments_lexer": "ipython3",
   "version": "3.13.3"
  },
  "vscode": {
   "interpreter": {
    "hash": "83b8d16d2927e5a47097e19d3af4fbf00eb0217a6eb75619ec4c371d38e548ab"
   }
  }
 },
 "nbformat": 4,
 "nbformat_minor": 2
}
