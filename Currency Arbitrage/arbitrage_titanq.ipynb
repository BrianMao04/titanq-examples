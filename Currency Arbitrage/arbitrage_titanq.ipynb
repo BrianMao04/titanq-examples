{
 "cells": [
  {
   "cell_type": "code",
   "execution_count": 2,
   "metadata": {},
   "outputs": [],
   "source": [
    "# Copyright (c) 2025, InfinityQ Technology Inc.\n",
    "\n",
    "import numpy as np\n",
    "import pandas as pd\n",
    "import yfinance as yf\n",
    "import logging\n",
    "import itertools\n",
    "from utils import *\n",
    "from titanq import Model, Vtype, Target, S3Storage\n",
    "import warnings\n",
    "import json\n",
    "\n",
    "import warnings\n",
    "\n",
    "# Filter out FutureWarning messages due to yfinance using a deprecated pandas keyword\n",
    "warnings.simplefilter(action='ignore', category=FutureWarning)"
   ]
  },
  {
   "cell_type": "markdown",
   "metadata": {},
   "source": [
    "## Setting Credentials\n",
    "The user should configure their TitanQ API key here. For very large problems, the user must also configure an AWS Access key, AWS Secret Access key and AWS Bucket Name.\n",
    "\n",
    "We can also set the instance to test. You can see the available instances under the \"instances\" folder."
   ]
  },
  {
   "cell_type": "code",
   "execution_count": null,
   "metadata": {},
   "outputs": [],
   "source": [
    "logging.getLogger('botocore').setLevel(logging.CRITICAL)\n",
    "logging.getLogger('urllib3').setLevel(logging.CRITICAL)\n",
    "\n",
    "# Enter your API key here\n",
    "# Obtain your API key by contacting --> support@infinityq.tech\n",
    "# Example: TITANQ_DEV_API_KEY = \"00000000-0000-0000-0000-000000000000\"\n",
    "TITANQ_DEV_API_KEY = None\n",
    "\n",
    "# Specify AWS keys and bucket name for solving very large problems\n",
    "# AWS_ACCESS_KEY = \"Access Key\"\n",
    "# AWS_SECRET_ACCESS_KEY = \"Secret Access Key\"\n",
    "# AWS_BUCKET_NAME = \"Bucket Name\"\n",
    "\n",
    "# Read in tickers and weights from chosen file\n",
    "instance = \"currencies_6\"\n",
    "currencies = read_instance(f\"instances/{instance}\")\n",
    "\n",
    "# Number of nodes in graph\n",
    "size = len(currencies)"
   ]
  },
  {
   "cell_type": "markdown",
   "metadata": {},
   "source": [
    "## Setting Up The Problem\n",
    "Here we pick an instance from the instances folder and read in the currency symbols that we are interested in. Then we draw forex (currency exchange) real-time data from Yahoo Finance, and we store the exchange rates from all the data provided in a dictionary. This may take a few minutes for our currencies_25 problem. \n",
    "\n",
    "We then load the exchange rate data into our dataframe, which we call our exchange rate matrix. Missing data is replaced with 0 to avoid invalid currency exchanges.\n",
    "\n",
    "If you want to skip past loading live data for this, change the variable live_data to be False."
   ]
  },
  {
   "cell_type": "code",
   "execution_count": 4,
   "metadata": {},
   "outputs": [],
   "source": [
    "# Loading data from yfinance or using hardcoded data\n",
    "live_data = False\n",
    "\n",
    "# Initialize exchange rate dictionary\n",
    "exchange_rates = {}\n",
    "\n",
    "if live_data:\n",
    "    # Generate all possible pairs \n",
    "    currency_pairs = [f\"{b}=X\" if a == \"USD\" else f\"{a}{b}=X\" for a,b in itertools.permutations(currencies, 2)]\n",
    "\n",
    "    # Fetch data for all pairs (preventing logging for missing pairs in yfinance)\n",
    "    logging.getLogger(\"yfinance\").setLevel(logging.CRITICAL)\n",
    "    forex_data = yf.Tickers(\" \".join(currency_pairs))\n",
    "\n",
    "    # Retrieve exchange rates for all pairs\n",
    "    for pair in currency_pairs:\n",
    "        ticker = forex_data.tickers.get(pair)\n",
    "        if ticker:\n",
    "            # Making names for exchange rates consistent\n",
    "            name = pair\n",
    "            if len(pair) < 8:\n",
    "                name = \"USD\" + pair\n",
    "            try:\n",
    "                # Assigning rates to currency exchange names\n",
    "                rate = ticker.history(period=\"1d\")['Close'].iloc[-1]\n",
    "                exchange_rates[name] = rate\n",
    "            except Exception as e:\n",
    "                # Filling missing rates with 0\n",
    "                exchange_rates[name] = 0.\n",
    "\n",
    "else: \n",
    "    # Loading exchange rates from file\n",
    "    with open(f\"instances/exch_rates/{instance}.json\", \"r\") as f:\n",
    "        exchange_rates = json.load(f)\n",
    "\n",
    "# Converting rates into pandas dataframe\n",
    "df = pd.DataFrame(index=currencies, columns=currencies)\n",
    "for pair, rate in exchange_rates.items():\n",
    "    base, quote = pair[:3], pair[3:6]\n",
    "    df.at[base, quote] = rate\n",
    "\n",
    "    # Replacing missing values with inverse exchange rate if it exists\n",
    "    if rate == 0.0 and exchange_rates[quote + base + \"=X\"] != 0.0:\n",
    "        df.at[base, quote] = 1.0 / exchange_rates[quote + base + \"=X\"]\n",
    "\n",
    "# Filling NaN values with 0\n",
    "df = df.where(pd.notna(df), 0.)\n",
    "\n",
    "exch_rate_matrix = df.to_numpy().astype(np.float32)"
   ]
  },
  {
   "cell_type": "markdown",
   "metadata": {},
   "source": [
    "## Create Bias Vector\n",
    "To maximize arbitrage opportunity, we want to maximize the product of the exchange rates we use. We take the log of the exchange rates to convert the formulation into a summation. We also multiply each term of the objective function by -1 to pose it as a minimization problem for TitanQ. ```x``` is a vector of the length of the number of edges, and each entry is a binary variable encoding whether the edge will be used in our final solution.\n",
    "\n",
    "We also want to prevent solutions that use non-existent edges, so we only keep track of edges that exist in the graph. This also helps preserve space and reduce the solve time, especially for graphs with a lot of nodes and not a lot of edges. Thus we shorten our exchange rate matrix and bias vector to only include non-zero values, and keep track of all of our edge names."
   ]
  },
  {
   "cell_type": "code",
   "execution_count": 5,
   "metadata": {},
   "outputs": [
    {
     "name": "stdout",
     "output_type": "stream",
     "text": [
      "Corresponding edges:  ['USD/EUR', 'USD/JPY', 'USD/GBP', 'USD/AUD', 'USD/CAD', 'EUR/USD', 'EUR/JPY', 'EUR/GBP', 'EUR/AUD', 'EUR/CAD', 'JPY/USD', 'JPY/EUR', 'JPY/GBP', 'JPY/AUD', 'JPY/CAD', 'GBP/USD', 'GBP/EUR', 'GBP/JPY', 'GBP/AUD', 'GBP/CAD', 'AUD/USD', 'AUD/EUR', 'AUD/JPY', 'AUD/GBP', 'AUD/CAD', 'CAD/USD', 'CAD/EUR', 'CAD/JPY', 'CAD/GBP', 'CAD/AUD']\n"
     ]
    }
   ],
   "source": [
    "# List existing edges for TitanQ formulation\n",
    "edges = [(i, j) for i in range(size) for j in range(size) if exch_rate_matrix[i,j] > 0]\n",
    "num_edges = len(edges)\n",
    "\n",
    "# Exchange rates for existing edges only\n",
    "exch_rate_values = exch_rate_matrix[tuple(zip(*edges))]\n",
    "\n",
    "# Bias vector for objective\n",
    "bias = np.where(exch_rate_values > 0, -np.log(exch_rate_values), 1.).astype(np.float32)\n",
    "\n",
    "edge_names = [currencies[i]+\"/\"+currencies[j] for i,j in edges]\n",
    "print(\"Corresponding edges: \", edge_names)"
   ]
  },
  {
   "cell_type": "markdown",
   "metadata": {},
   "source": [
    "## Constraint Matrices\n",
    "Next, we formulate our constraint matrices and bounds.\n",
    "\n",
    "The sum of all purchases of a currency is equal to the sum of all sales of a currency. This is called our flow constraint and is represented in our equality matrix.\n",
    "\n",
    "We also forbid exchanging through a currency more than once. This is our inequality matrix. "
   ]
  },
  {
   "cell_type": "code",
   "execution_count": 6,
   "metadata": {},
   "outputs": [],
   "source": [
    "# Flow constraint matrix\n",
    "eq_matrix = np.zeros((size, num_edges)).astype(np.float32)\n",
    "for k, (i,j) in enumerate(edges):\n",
    "    eq_matrix[i, k] = 1.\n",
    "    eq_matrix[j, k] = -1.\n",
    "\n",
    "# Removing rows of all zeros (only necessary when loading live data from yfinance to account for potentially missing exchange rates)\n",
    "eq_matrix = eq_matrix[~np.all(eq_matrix == 0, axis = 1)]\n",
    "\n",
    "eq_values = np.zeros(len(eq_matrix)).astype(np.float32)\n",
    "\n",
    "# Number of exchanges constraint matrix\n",
    "ineq_matrix = np.zeros((size, num_edges)).astype(np.float32)\n",
    "for k, (i, j) in enumerate(edges):\n",
    "    ineq_matrix[i, k] = 1\n",
    "\n",
    "# Removing rows of all zeros (only necessary when loading live data from yfinance to account for potentially missing exchange rates)\n",
    "ineq_matrix = ineq_matrix[~np.all(ineq_matrix == 0, axis = 1)]\n",
    "\n",
    "ineq_bounds = np.full((len(ineq_matrix), 2), [0, 1]).astype(np.float32)"
   ]
  },
  {
   "cell_type": "markdown",
   "metadata": {},
   "source": [
    "## Input Problem into TitanQ SDK"
   ]
  },
  {
   "cell_type": "code",
   "execution_count": 7,
   "metadata": {},
   "outputs": [],
   "source": [
    "#############\n",
    "# TitanQ Model\n",
    "#############\n",
    "model = Model(\n",
    "    api_key=TITANQ_DEV_API_KEY\n",
    "    # Insert storage_client parameter and specify corresponding AWS keys and bucket name for solving very large problems\n",
    "    # storage_client=S3Storage(\n",
    "    #     access_key=AWS_ACCESS_KEY,\n",
    "    #     secret_key=AWS_SECRET_ACCESS_KEY,\n",
    "    #     bucket_name=AWS_BUCKET_NAME\n",
    "    # )\n",
    ")\n",
    "\n",
    "# Defining variables, objective, and constraints in TitanQ model\n",
    "n = model.add_variable_vector('x', num_edges, Vtype.BINARY)\n",
    "model.set_objective_matrices(None, bias, Target.MINIMIZE)\n",
    "\n",
    "# Cycle constraints\n",
    "model.add_equality_constraints_matrix(eq_matrix, eq_values) # Flow constraint\n",
    "model.add_inequality_constraints_matrix(ineq_matrix, ineq_bounds) # Number of exchanges constraint"
   ]
  },
  {
   "cell_type": "markdown",
   "metadata": {},
   "source": [
    "## Hyperparameters\n",
    "The user should adjust the hyperparameters timeout_in_secs, Tmax, and penalty_scaling.\n",
    "\n",
    "For this problem, penalty_scaling will impact TitanQ's solution quality. For small problems (where the size of ```x``` <= 30), penalty_scaling can be set to around 10. For the larger instance, adjust penalty_scaling to be around 45 as written. In general, penalty_scaling is proportional to the size of the problem."
   ]
  },
  {
   "cell_type": "code",
   "execution_count": 8,
   "metadata": {},
   "outputs": [],
   "source": [
    "# TitanQ Solver Hyperparameters\n",
    "num_chains = 8\n",
    "num_engines = 2\n",
    "Tmin = 0.005\n",
    "\n",
    "# For currencies_6, timeout ~2sec\n",
    "# For currencies_25, timeout ~15sec\n",
    "timeout_in_secs = 2\n",
    "\n",
    "# For currencies_6, Tmax = ~122\n",
    "# For currencies_25, Tmax = ~550\n",
    "Tmax = 122\n",
    "beta = (1/np.linspace(Tmin, Tmax, num_chains, dtype=np.float32)).tolist()\n",
    "\n",
    "# For the currencies_6, penalty_scaling = ~10\n",
    "# For the currencies_25, penalty_scaling = ~45\n",
    "penalty_scaling = 10\n",
    "\n",
    "# TitanQ solve\n",
    "response = model.optimize(beta = beta, timeout_in_secs=timeout_in_secs, num_chains=num_chains, num_engines=num_engines, penalty_scaling=penalty_scaling)"
   ]
  },
  {
   "cell_type": "markdown",
   "metadata": {},
   "source": [
    "## Outputting Results\n",
    "The list of solutions for each engine can be accessed from the variable label defined before (in this case: ```x```). For each engine we print:\n",
    "- The solution vector ```x```\n",
    "- All profitable cycles\n",
    "- The profit gained from each cycle\n",
    "- The Ising energy of the solution (objective value)\n",
    "\n",
    "Then we print the *best* valid cycle. This gives a series of currency exchanges for optimal arbitrage gain.\n",
    "\n",
    "#### Example:\n",
    "Best cycle ('HUX/USD', 'USD/RUB', 'RUB/HUX'): 0.017367341154281624\n",
    "\n",
    "profit: 1.7367341154281624 %\n",
    "\n",
    "energy: -0.004294343292713165"
   ]
  },
  {
   "cell_type": "code",
   "execution_count": 9,
   "metadata": {},
   "outputs": [
    {
     "name": "stdout",
     "output_type": "stream",
     "text": [
      "-------- ALL ENGINE RESULTS --------\n",
      "\n",
      "--- Engine 1 ---\n",
      "Cycle:  ('AUD/USD', 'USD/GBP', 'GBP/EUR', 'EUR/AUD')\n",
      "Product of Exchange Rates:  1.000033939007061\n",
      "Profit: 0.003393900706094577 %\n",
      "\n",
      "Energy: -3.395974636077881e-05\n",
      "\n",
      "--- Engine 2 ---\n",
      "Cycle:  ('AUD/USD', 'USD/GBP', 'GBP/AUD')\n",
      "Product of Exchange Rates:  1.0000764531012354\n",
      "Profit: 0.007645310123538529 %\n",
      "\n",
      "Energy: -7.648766040802002e-05\n",
      "\n",
      "-------- BEST VALID SOLUTION --------\n",
      "--- Engine 2 ---\n",
      "     x: [0. 0. 1. 0. 0. 0. 0. 0. 0. 0. 0. 0. 0. 0. 0. 0. 0. 0. 1. 0. 1. 0. 0. 0.\n",
      " 0. 0. 0. 0. 0. 0.]\n",
      "Best Cycle:  ('AUD/USD', 'USD/GBP', 'GBP/AUD')\n",
      "Product of Exchange Rates:  1.0000764531012354\n",
      "Best Profit:  0.007645310123538529 %\n",
      "Energy: -7.648766040802002e-05\n"
     ]
    }
   ],
   "source": [
    "best_weight = 0\n",
    "best_cycle = ()\n",
    "# Keep track of the index and the weight of the best solution\n",
    "best_idx = -1\n",
    "print(\"-------- ALL ENGINE RESULTS --------\")\n",
    "for idx, solution in enumerate(response.x):\n",
    "    print(f\"\\n--- Engine {idx + 1} ---\")\n",
    "\n",
    "    # Edges used in solution\n",
    "    exchanges = [edge_names[i] for i, val in enumerate(solution) if val > 0.5]\n",
    "\n",
    "    # If no edges used\n",
    "    if not exchanges:\n",
    "        print(\"No cycle found\")\n",
    "        continue\n",
    "\n",
    "    # Calculate total profit from all cycles in solution\n",
    "    cycles = find_exchange_cycles(exchanges)\n",
    "    \n",
    "    solution_profit, outputs = calculate_profit(cycles, currencies, exch_rate_matrix)\n",
    "\n",
    "    # If no exchange cycle or arbitrage opportunity exists\n",
    "    if all(value < 1 for value in outputs.values()):\n",
    "        print(\"No profitable cycle found\")\n",
    "        continue\n",
    "    \n",
    "    # Print results if a profitable cycle is found\n",
    "    for cycle, profit in outputs.items():\n",
    "        if profit > 1:\n",
    "            print(\"Cycle: \", cycle)\n",
    "            print(\"Product of Exchange Rates: \", profit)\n",
    "            print(f\"Profit: {(profit - 1)* 100} %\\n\")\n",
    "            if profit > best_weight:\n",
    "                best_idx = idx\n",
    "                best_weight = profit\n",
    "                best_cycle = cycle\n",
    "\n",
    "    # Ising energy        \n",
    "    print(\"Energy:\", response.computation_metrics().get('solutions_objective_value')[idx])\n",
    "\n",
    "# Print the results of the best valid solution\n",
    "print(\"\\n-------- BEST VALID SOLUTION --------\")\n",
    "if best_idx == -1 or best_weight < 1:\n",
    "    print(\"None of the engines returned profitable solutions!\")\n",
    "    print(\"Try adjusting the hyperparameters further to yield some valid solutions.\")\n",
    "else:\n",
    "    solution = response.x[best_idx]\n",
    "    print(f\"--- Engine {best_idx + 1} ---\")\n",
    "    print(\"     x:\", solution)\n",
    "    print(f\"Best Cycle: \", best_cycle)\n",
    "    print(\"Product of Exchange Rates: \", best_weight)\n",
    "    print(\"Best Profit: \", (best_weight - 1)*100, \"%\")\n",
    "    print(\"Energy:\", response.computation_metrics().get('solutions_objective_value')[best_idx]) "
   ]
  }
 ],
 "metadata": {
  "kernelspec": {
   "display_name": ".venv",
   "language": "python",
   "name": "python3"
  },
  "language_info": {
   "codemirror_mode": {
    "name": "ipython",
    "version": 3
   },
   "file_extension": ".py",
   "mimetype": "text/x-python",
   "name": "python",
   "nbconvert_exporter": "python",
   "pygments_lexer": "ipython3",
   "version": "3.10.12"
  }
 },
 "nbformat": 4,
 "nbformat_minor": 2
}
